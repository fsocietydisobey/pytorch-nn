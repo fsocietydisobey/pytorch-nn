{
 "cells": [
  {
   "metadata": {
    "ExecuteTime": {
     "end_time": "2025-05-24T17:27:49.128646Z",
     "start_time": "2025-05-24T17:27:48.443202Z"
    }
   },
   "cell_type": "code",
   "source": "from datasets import load_dataset",
   "id": "aa7666436394fa51",
   "outputs": [],
   "execution_count": 1
  },
  {
   "metadata": {
    "ExecuteTime": {
     "end_time": "2025-05-24T17:29:08.563078Z",
     "start_time": "2025-05-24T17:28:53.177975Z"
    }
   },
   "cell_type": "code",
   "source": [
    "dataset = load_dataset('3NTRPY-13/reuters_articles')\n",
    "dataset"
   ],
   "id": "19e3087d73103d69",
   "outputs": [
    {
     "data": {
      "text/plain": [
       "DatasetDict({\n",
       "    train: Dataset({\n",
       "        features: ['title', 'body'],\n",
       "        num_rows: 17262\n",
       "    })\n",
       "    validation: Dataset({\n",
       "        features: ['title', 'body'],\n",
       "        num_rows: 2158\n",
       "    })\n",
       "    test: Dataset({\n",
       "        features: ['title', 'body'],\n",
       "        num_rows: 2158\n",
       "    })\n",
       "})"
      ]
     },
     "execution_count": 2,
     "metadata": {},
     "output_type": "execute_result"
    }
   ],
   "execution_count": 2
  },
  {
   "metadata": {
    "ExecuteTime": {
     "end_time": "2025-05-24T17:30:38.019569Z",
     "start_time": "2025-05-24T17:30:38.007628Z"
    }
   },
   "cell_type": "code",
   "source": [
    "def create_full_article_col(example):\n",
    "    return {'full_article': f'TITLE:{example[\"title\"]}\\n\\nBODY:{example[\"body\"]}'}\n",
    "\n",
    "dataset = dataset.map(create_full_article_col)\n",
    "dataset"
   ],
   "id": "1ef55a144524c8fc",
   "outputs": [
    {
     "data": {
      "text/plain": [
       "DatasetDict({\n",
       "    train: Dataset({\n",
       "        features: ['title', 'body', 'full_article'],\n",
       "        num_rows: 17262\n",
       "    })\n",
       "    validation: Dataset({\n",
       "        features: ['title', 'body', 'full_article'],\n",
       "        num_rows: 2158\n",
       "    })\n",
       "    test: Dataset({\n",
       "        features: ['title', 'body', 'full_article'],\n",
       "        num_rows: 2158\n",
       "    })\n",
       "})"
      ]
     },
     "execution_count": 3,
     "metadata": {},
     "output_type": "execute_result"
    }
   ],
   "execution_count": 3
  },
  {
   "metadata": {
    "ExecuteTime": {
     "end_time": "2025-05-24T17:30:54.544133Z",
     "start_time": "2025-05-24T17:30:54.540733Z"
    }
   },
   "cell_type": "code",
   "source": "dataset['train'][0]['full_article']",
   "id": "79d7af66e678fc08",
   "outputs": [
    {
     "data": {
      "text/plain": [
       "'TITLE:BAHIA COCOA REVIEW\\n\\nBODY:Showers continued throughout the week in\\nthe Bahia cocoa zone, alleviating the drought since early\\nJanuary and improving prospects for the coming temporao,\\nalthough normal humidity levels have not been restored,\\nComissaria Smith said in its weekly review.\\n    The dry period means the temporao will be late this year.\\n    Arrivals for the week ended February 22 were 155,221 bags\\nof 60 kilos making a cumulative total for the season of 5.93\\nmln against 5.81 at the same stage last year. Again it seems\\nthat cocoa delivered earlier on consignment was included in the\\narrivals figures.\\n    Comissaria Smith said there is still some doubt as to how\\nmuch old crop cocoa is still available as harvesting has\\npractically come to an end. With total Bahia crop estimates\\naround 6.4 mln bags and sales standing at almost 6.2 mln there\\nare a few hundred thousand bags still in the hands of farmers,\\nmiddlemen, exporters and processors.\\n    There are doubts as to how much of this cocoa would be fit\\nfor export as shippers are now experiencing dificulties in\\nobtaining +Bahia superior+ certificates.\\n    In view of the lower quality over recent weeks farmers have\\nsold a good part of their cocoa held on consignment.\\n    Comissaria Smith said spot bean prices rose to 340 to 350\\ncruzados per arroba of 15 kilos.\\n    Bean shippers were reluctant to offer nearby shipment and\\nonly limited sales were booked for March shipment at 1,750 to\\n1,780 dlrs per tonne to ports to be named.\\n    New crop sales were also light and all to open ports with\\nJune/July going at 1,850 and 1,880 dlrs and at 35 and 45 dlrs\\nunder New York july, Aug/Sept at 1,870, 1,875 and 1,880 dlrs\\nper tonne FOB.\\n    Routine sales of butter were made. March/April sold at\\n4,340, 4,345 and 4,350 dlrs.\\n    April/May butter went at 2.27 times New York May, June/July\\nat 4,400 and 4,415 dlrs, Aug/Sept at 4,351 to 4,450 dlrs and at\\n2.27 and 2.28 times New York Sept and Oct/Dec at 4,480 dlrs and\\n2.27 times New York Dec, Comissaria Smith said.\\n    Destinations were the U.S., Covertible currency areas,\\nUruguay and open ports.\\n    Cake sales were registered at 785 to 995 dlrs for\\nMarch/April, 785 dlrs for May, 753 dlrs for Aug and 0.39 times\\nNew York Dec for Oct/Dec.\\n    Buyers were the U.S., Argentina, Uruguay and convertible\\ncurrency areas.\\n    Liquor sales were limited with March/April selling at 2,325\\nand 2,380 dlrs, June/July at 2,375 dlrs and at 1.25 times New\\nYork July, Aug/Sept at 2,400 dlrs and at 1.25 times New York\\nSept and Oct/Dec at 1.25 times New York Dec, Comissaria Smith\\nsaid.\\n    Total Bahia sales are currently estimated at 6.13 mln bags\\nagainst the 1986/87 crop and 1.06 mln bags against the 1987/88\\ncrop.\\n    Final figures for the period to February 28 are expected to\\nbe published by the Brazilian Cocoa Trade Commission after\\ncarnival which ends midday on February 27.\\n Reuter\\n\\x03'"
      ]
     },
     "execution_count": 4,
     "metadata": {},
     "output_type": "execute_result"
    }
   ],
   "execution_count": 4
  },
  {
   "metadata": {
    "ExecuteTime": {
     "end_time": "2025-05-24T17:32:45.843873Z",
     "start_time": "2025-05-24T17:32:42.677078Z"
    }
   },
   "cell_type": "code",
   "source": [
    "from transformers import AutoTokenizer\n",
    "\n",
    "tokenizer = AutoTokenizer.from_pretrained(\"3NTRPY-13/gpt2-reuters_tokenizer\")"
   ],
   "id": "d0f3c8f18c309797",
   "outputs": [],
   "execution_count": 5
  },
  {
   "metadata": {
    "ExecuteTime": {
     "end_time": "2025-05-24T17:37:06.887888Z",
     "start_time": "2025-05-24T17:37:05.046913Z"
    }
   },
   "cell_type": "code",
   "source": [
    "CONTEXT_LENGTH = 512\n",
    "\n",
    "def tokenize(element):\n",
    "    outputs = tokenizer(\n",
    "        element['full_article'],\n",
    "        truncation=True,\n",
    "        max_length=CONTEXT_LENGTH,\n",
    "        return_overflowing_tokens=False\n",
    "    )\n",
    "\n",
    "    return outputs\n",
    "\n",
    "tokenized_dataset = dataset.map(\n",
    "    tokenize,\n",
    "    batched=True,\n",
    "    remove_columns=dataset['train'].column_names\n",
    ")\n",
    "tokenized_dataset"
   ],
   "id": "bdf609d164964d02",
   "outputs": [
    {
     "data": {
      "text/plain": [
       "Map:   0%|          | 0/17262 [00:00<?, ? examples/s]"
      ],
      "application/vnd.jupyter.widget-view+json": {
       "version_major": 2,
       "version_minor": 0,
       "model_id": "177a37c3f5c24ecca2c653d9c5b2a351"
      }
     },
     "metadata": {},
     "output_type": "display_data"
    },
    {
     "data": {
      "text/plain": [
       "Map:   0%|          | 0/2158 [00:00<?, ? examples/s]"
      ],
      "application/vnd.jupyter.widget-view+json": {
       "version_major": 2,
       "version_minor": 0,
       "model_id": "c78fe8dbaa9d4a2b9c1ddf5613a3e617"
      }
     },
     "metadata": {},
     "output_type": "display_data"
    },
    {
     "data": {
      "text/plain": [
       "Map:   0%|          | 0/2158 [00:00<?, ? examples/s]"
      ],
      "application/vnd.jupyter.widget-view+json": {
       "version_major": 2,
       "version_minor": 0,
       "model_id": "acdeb667d5ff45e5b87c4d72dca2d4cb"
      }
     },
     "metadata": {},
     "output_type": "display_data"
    },
    {
     "data": {
      "text/plain": [
       "DatasetDict({\n",
       "    train: Dataset({\n",
       "        features: ['input_ids', 'attention_mask'],\n",
       "        num_rows: 17262\n",
       "    })\n",
       "    validation: Dataset({\n",
       "        features: ['input_ids', 'attention_mask'],\n",
       "        num_rows: 2158\n",
       "    })\n",
       "    test: Dataset({\n",
       "        features: ['input_ids', 'attention_mask'],\n",
       "        num_rows: 2158\n",
       "    })\n",
       "})"
      ]
     },
     "execution_count": 9,
     "metadata": {},
     "output_type": "execute_result"
    }
   ],
   "execution_count": 9
  },
  {
   "metadata": {},
   "cell_type": "markdown",
   "source": "## Preparing Model For Training",
   "id": "c509b3e35d90f19d"
  },
  {
   "metadata": {
    "ExecuteTime": {
     "end_time": "2025-05-24T17:39:19.178780Z",
     "start_time": "2025-05-24T17:39:18.676222Z"
    }
   },
   "cell_type": "code",
   "source": [
    "from transformers import AutoTokenizer, GPT2LMHeadModel, AutoConfig\n",
    "\n",
    "config = AutoConfig.from_pretrained(\n",
    "    'gpt2',\n",
    "    vocab_size=len(tokenizer),\n",
    "    n_ctx=CONTEXT_LENGTH,\n",
    "    bos_token_id=tokenizer.bos_token_id,\n",
    "    eos_token_id=tokenizer.eos_token_id,\n",
    ")"
   ],
   "id": "90c82fc845f2fb30",
   "outputs": [],
   "execution_count": 10
  },
  {
   "metadata": {
    "ExecuteTime": {
     "end_time": "2025-05-24T17:39:24.617102Z",
     "start_time": "2025-05-24T17:39:24.614195Z"
    }
   },
   "cell_type": "code",
   "source": "config",
   "id": "24f357be2d08c2b4",
   "outputs": [
    {
     "data": {
      "text/plain": [
       "GPT2Config {\n",
       "  \"_name_or_path\": \"gpt2\",\n",
       "  \"activation_function\": \"gelu_new\",\n",
       "  \"architectures\": [\n",
       "    \"GPT2LMHeadModel\"\n",
       "  ],\n",
       "  \"attn_pdrop\": 0.1,\n",
       "  \"bos_token_id\": 0,\n",
       "  \"embd_pdrop\": 0.1,\n",
       "  \"eos_token_id\": 0,\n",
       "  \"initializer_range\": 0.02,\n",
       "  \"layer_norm_epsilon\": 1e-05,\n",
       "  \"model_type\": \"gpt2\",\n",
       "  \"n_ctx\": 512,\n",
       "  \"n_embd\": 768,\n",
       "  \"n_head\": 12,\n",
       "  \"n_inner\": null,\n",
       "  \"n_layer\": 12,\n",
       "  \"n_positions\": 1024,\n",
       "  \"reorder_and_upcast_attn\": false,\n",
       "  \"resid_pdrop\": 0.1,\n",
       "  \"scale_attn_by_inverse_layer_idx\": false,\n",
       "  \"scale_attn_weights\": true,\n",
       "  \"summary_activation\": null,\n",
       "  \"summary_first_dropout\": 0.1,\n",
       "  \"summary_proj_to_labels\": true,\n",
       "  \"summary_type\": \"cls_index\",\n",
       "  \"summary_use_proj\": true,\n",
       "  \"task_specific_params\": {\n",
       "    \"text-generation\": {\n",
       "      \"do_sample\": true,\n",
       "      \"max_length\": 50\n",
       "    }\n",
       "  },\n",
       "  \"transformers_version\": \"4.49.0\",\n",
       "  \"use_cache\": true,\n",
       "  \"vocab_size\": 52000\n",
       "}"
      ]
     },
     "execution_count": 11,
     "metadata": {},
     "output_type": "execute_result"
    }
   ],
   "execution_count": 11
  },
  {
   "metadata": {
    "ExecuteTime": {
     "end_time": "2025-05-24T17:41:06.028793Z",
     "start_time": "2025-05-24T17:41:04.998689Z"
    }
   },
   "cell_type": "code",
   "source": [
    "model = GPT2LMHeadModel(config)\n",
    "model_size = sum(t.numel() for t in model.parameters())\n",
    "print(f'GPT2 model size is {model_size/1000**2:.1f}M parameters')"
   ],
   "id": "faa308fd467ecc2a",
   "outputs": [
    {
     "name": "stdout",
     "output_type": "stream",
     "text": [
      "GPT2 model size is 125.8M parameters\n"
     ]
    }
   ],
   "execution_count": 14
  },
  {
   "metadata": {
    "ExecuteTime": {
     "end_time": "2025-05-24T17:42:15.326791Z",
     "start_time": "2025-05-24T17:42:15.317885Z"
    }
   },
   "cell_type": "code",
   "source": [
    "from transformers import DataCollatorForLanguageModeling\n",
    "\n",
    "tokenizer.pad_token = tokenizer.eos_token\n",
    "data_collator = DataCollatorForLanguageModeling(tokenizer=tokenizer, mlm=False)"
   ],
   "id": "3cb981a769bcfad0",
   "outputs": [],
   "execution_count": 15
  },
  {
   "metadata": {
    "ExecuteTime": {
     "end_time": "2025-05-24T19:17:58.525410Z",
     "start_time": "2025-05-24T19:17:58.519037Z"
    }
   },
   "cell_type": "code",
   "source": [
    "from huggingface_hub import notebook_login\n",
    "notebook_login()"
   ],
   "id": "850059d347fbd434",
   "outputs": [
    {
     "data": {
      "text/plain": [
       "VBox(children=(HTML(value='<center> <img\\nsrc=https://huggingface.co/front/assets/huggingface_logo-noborder.sv…"
      ],
      "application/vnd.jupyter.widget-view+json": {
       "version_major": 2,
       "version_minor": 0,
       "model_id": "64d249d8f3b7429e9242baeab2605ec0"
      }
     },
     "metadata": {},
     "output_type": "display_data"
    }
   ],
   "execution_count": 16
  },
  {
   "metadata": {
    "ExecuteTime": {
     "end_time": "2025-05-24T19:25:50.087520Z",
     "start_time": "2025-05-24T19:25:49.831303Z"
    }
   },
   "cell_type": "code",
   "source": [
    "from transformers import Trainer, TrainingArguments\n",
    "\n",
    "training_args = TrainingArguments(\n",
    "    output_dir='models/gpt2-reuters_training',\n",
    "    hub_model_id='3NTRPY-13/gpt2-reuters_training',\n",
    "    eval_strategy='epoch',\n",
    "    auto_find_batch_size=True,\n",
    "    num_train_epochs=2,\n",
    "    gradient_accumulation_steps=8,\n",
    "    weight_decay=0.1,\n",
    "    lr_scheduler_type='cosine',\n",
    "    learning_rate=5e-4,\n",
    "    fp16=True,\n",
    "    push_to_hub=True,\n",
    "    logging_steps=10\n",
    ")\n",
    "\n",
    "trainer = Trainer(\n",
    "    model=model,\n",
    "    processing_class=tokenizer,\n",
    "    args=training_args,\n",
    "    data_collator=data_collator,\n",
    "    train_dataset=tokenized_dataset['train'],\n",
    "    eval_dataset=tokenized_dataset['validation'],\n",
    ")"
   ],
   "id": "dec80cd21c15949",
   "outputs": [],
   "execution_count": 18
  },
  {
   "metadata": {
    "ExecuteTime": {
     "end_time": "2025-05-24T19:36:30.972555Z",
     "start_time": "2025-05-24T19:26:15.368138Z"
    }
   },
   "cell_type": "code",
   "source": "trainer.train()",
   "id": "dcae3c7bc1adc40a",
   "outputs": [
    {
     "name": "stderr",
     "output_type": "stream",
     "text": [
      "`loss_type=None` was set in the config but it is unrecognised.Using the default loss: `ForCausalLMLoss`.\n"
     ]
    },
    {
     "data": {
      "text/plain": [
       "<IPython.core.display.HTML object>"
      ],
      "text/html": [
       "\n",
       "    <div>\n",
       "      \n",
       "      <progress value='538' max='538' style='width:300px; height:20px; vertical-align: middle;'></progress>\n",
       "      [538/538 07:35, Epoch 1/2]\n",
       "    </div>\n",
       "    <table border=\"1\" class=\"dataframe\">\n",
       "  <thead>\n",
       " <tr style=\"text-align: left;\">\n",
       "      <th>Epoch</th>\n",
       "      <th>Training Loss</th>\n",
       "      <th>Validation Loss</th>\n",
       "    </tr>\n",
       "  </thead>\n",
       "  <tbody>\n",
       "    <tr>\n",
       "      <td>1</td>\n",
       "      <td>4.838100</td>\n",
       "      <td>5.022951</td>\n",
       "    </tr>\n",
       "  </tbody>\n",
       "</table><p>"
      ]
     },
     "metadata": {},
     "output_type": "display_data"
    },
    {
     "data": {
      "text/plain": [
       "TrainOutput(global_step=538, training_loss=5.491732593805817, metrics={'train_runtime': 456.7765, 'train_samples_per_second': 75.582, 'train_steps_per_second': 1.178, 'total_flos': 6896827680768000.0, 'train_loss': 5.491732593805817, 'epoch': 1.9935125115848007})"
      ]
     },
     "execution_count": 19,
     "metadata": {},
     "output_type": "execute_result"
    }
   ],
   "execution_count": 19
  },
  {
   "metadata": {
    "ExecuteTime": {
     "end_time": "2025-05-24T19:39:58.447891Z",
     "start_time": "2025-05-24T19:36:31.028718Z"
    }
   },
   "cell_type": "code",
   "source": "trainer.push_to_hub()",
   "id": "8ef713c8f040e199",
   "outputs": [
    {
     "data": {
      "text/plain": [
       "model.safetensors:   0%|          | 0.00/503M [00:00<?, ?B/s]"
      ],
      "application/vnd.jupyter.widget-view+json": {
       "version_major": 2,
       "version_minor": 0,
       "model_id": "dbdd83a187bb4fcfae45c4ea78613265"
      }
     },
     "metadata": {},
     "output_type": "display_data"
    },
    {
     "data": {
      "text/plain": [
       "CommitInfo(commit_url='https://huggingface.co/3NTRPY-13/gpt2-reuters_training/commit/8b35a8923fa8d7a9fdf833b6782b987b666cfea0', commit_message='End of training', commit_description='', oid='8b35a8923fa8d7a9fdf833b6782b987b666cfea0', pr_url=None, repo_url=RepoUrl('https://huggingface.co/3NTRPY-13/gpt2-reuters_training', endpoint='https://huggingface.co', repo_type='model', repo_id='3NTRPY-13/gpt2-reuters_training'), pr_revision=None, pr_num=None)"
      ]
     },
     "execution_count": 20,
     "metadata": {},
     "output_type": "execute_result"
    }
   ],
   "execution_count": 20
  },
  {
   "metadata": {
    "ExecuteTime": {
     "end_time": "2025-05-24T19:40:44.975229Z",
     "start_time": "2025-05-24T19:39:58.461847Z"
    }
   },
   "cell_type": "code",
   "source": [
    "from transformers import pipeline\n",
    "\n",
    "pipe = pipeline('text-generation', model='3NTRPY-13/gpt2-reuters_training')"
   ],
   "id": "20d06850f950bc10",
   "outputs": [
    {
     "data": {
      "text/plain": [
       "config.json:   0%|          | 0.00/898 [00:00<?, ?B/s]"
      ],
      "application/vnd.jupyter.widget-view+json": {
       "version_major": 2,
       "version_minor": 0,
       "model_id": "33bc7df2d64c472c934067c6094bbac7"
      }
     },
     "metadata": {},
     "output_type": "display_data"
    },
    {
     "data": {
      "text/plain": [
       "model.safetensors:   0%|          | 0.00/503M [00:00<?, ?B/s]"
      ],
      "application/vnd.jupyter.widget-view+json": {
       "version_major": 2,
       "version_minor": 0,
       "model_id": "a3e0db0ef19243219c940dd002c038c0"
      }
     },
     "metadata": {},
     "output_type": "display_data"
    },
    {
     "data": {
      "text/plain": [
       "generation_config.json:   0%|          | 0.00/111 [00:00<?, ?B/s]"
      ],
      "application/vnd.jupyter.widget-view+json": {
       "version_major": 2,
       "version_minor": 0,
       "model_id": "75206feee62346c4a4a23de052265992"
      }
     },
     "metadata": {},
     "output_type": "display_data"
    },
    {
     "data": {
      "text/plain": [
       "tokenizer_config.json:   0%|          | 0.00/503 [00:00<?, ?B/s]"
      ],
      "application/vnd.jupyter.widget-view+json": {
       "version_major": 2,
       "version_minor": 0,
       "model_id": "e7851dba103e4786a31281286addc853"
      }
     },
     "metadata": {},
     "output_type": "display_data"
    },
    {
     "data": {
      "text/plain": [
       "vocab.json:   0%|          | 0.00/819k [00:00<?, ?B/s]"
      ],
      "application/vnd.jupyter.widget-view+json": {
       "version_major": 2,
       "version_minor": 0,
       "model_id": "b9df455027e34e1db9a72062b77299c9"
      }
     },
     "metadata": {},
     "output_type": "display_data"
    },
    {
     "data": {
      "text/plain": [
       "merges.txt:   0%|          | 0.00/465k [00:00<?, ?B/s]"
      ],
      "application/vnd.jupyter.widget-view+json": {
       "version_major": 2,
       "version_minor": 0,
       "model_id": "d1bebfc14e3246d7b78f9d5626081b31"
      }
     },
     "metadata": {},
     "output_type": "display_data"
    },
    {
     "data": {
      "text/plain": [
       "tokenizer.json:   0%|          | 0.00/3.67M [00:00<?, ?B/s]"
      ],
      "application/vnd.jupyter.widget-view+json": {
       "version_major": 2,
       "version_minor": 0,
       "model_id": "7f1f6474550f4dce99c433e90ed1ce0e"
      }
     },
     "metadata": {},
     "output_type": "display_data"
    },
    {
     "data": {
      "text/plain": [
       "special_tokens_map.json:   0%|          | 0.00/470 [00:00<?, ?B/s]"
      ],
      "application/vnd.jupyter.widget-view+json": {
       "version_major": 2,
       "version_minor": 0,
       "model_id": "acf1c7bbd032403fa0a707d47ca60e84"
      }
     },
     "metadata": {},
     "output_type": "display_data"
    },
    {
     "name": "stderr",
     "output_type": "stream",
     "text": [
      "Device set to use cuda:0\n"
     ]
    }
   ],
   "execution_count": 21
  },
  {
   "metadata": {
    "ExecuteTime": {
     "end_time": "2025-05-24T19:40:44.980638Z",
     "start_time": "2025-05-24T19:40:44.978187Z"
    }
   },
   "cell_type": "code",
   "source": [
    "sample = dataset['test'][2]\n",
    "sample"
   ],
   "id": "1bc1c4aa1c6210f5",
   "outputs": [
    {
     "data": {
      "text/plain": [
       "{'title': 'CHEFS <CHEF.O> COMPLETES PRIVATE SALE',\n",
       " 'body': \"Chefs International\\nInc said it completed a private sale of nine mln units of its\\nsecurities for 20 cts per unit for a total price of 1,800,000\\ndlrs.\\n    The company said each unit consisted of one share of Chef's\\ncommon stock and one three-year warrant exerciseable to\\npurchase one share of Chef's stock at 25 cents.\\n    The company also said Robert E. Brennan purchased 8,250,000\\nof the units.\\n   \\n Reuter\\n\\x03\",\n",
       " 'full_article': \"TITLE:CHEFS <CHEF.O> COMPLETES PRIVATE SALE\\n\\nBODY:Chefs International\\nInc said it completed a private sale of nine mln units of its\\nsecurities for 20 cts per unit for a total price of 1,800,000\\ndlrs.\\n    The company said each unit consisted of one share of Chef's\\ncommon stock and one three-year warrant exerciseable to\\npurchase one share of Chef's stock at 25 cents.\\n    The company also said Robert E. Brennan purchased 8,250,000\\nof the units.\\n   \\n Reuter\\n\\x03\"}"
      ]
     },
     "execution_count": 22,
     "metadata": {},
     "output_type": "execute_result"
    }
   ],
   "execution_count": 22
  },
  {
   "metadata": {
    "ExecuteTime": {
     "end_time": "2025-05-24T19:40:45.484787Z",
     "start_time": "2025-05-24T19:40:45.022302Z"
    }
   },
   "cell_type": "code",
   "source": [
    "prompt = f\"TITLE:{sample['title']}\\n\\nBODY:\"\n",
    "pipe(prompt, max_new_tokens=128)"
   ],
   "id": "3850cd427222c62e",
   "outputs": [
    {
     "data": {
      "text/plain": [
       "[{'generated_text': 'TITLE:CHEFS <CHEF.O> COMPLETES PRIVATE SALE\\n\\nBODY:Pacific Corp said it is\\nan additional shares for the 1986 of the year in May 2,000\\nin March 30.\\n    The company said its company expects an merger on an outstanding from a share under April 31 at\\nof its additional debentures.\\n Reuter\\n\\x03 to a premium on May 31 at the loss for the company said it was\\n\\x03 per share of the share from\\n\\x03 its company which said.\\n    An issue rose at a year, the company\\n\\x03 to the first year, compared to be\\n\\x03 to be acquired.\\n    The stock operations were the company also said that it has raised.\\n\\x03.\\n   '}]"
      ]
     },
     "execution_count": 23,
     "metadata": {},
     "output_type": "execute_result"
    }
   ],
   "execution_count": 23
  },
  {
   "metadata": {
    "ExecuteTime": {
     "end_time": "2025-05-24T19:40:45.862654Z",
     "start_time": "2025-05-24T19:40:45.494335Z"
    }
   },
   "cell_type": "code",
   "source": [
    "prompt = f\"TITLE:{sample['title']}\"\n",
    "pipe(prompt, max_new_tokens=128)"
   ],
   "id": "78b11ffa5194be4f",
   "outputs": [
    {
     "data": {
      "text/plain": [
       "[{'generated_text': 'TITLE:CHEFS <CHEF.O> COMPLETES PRIVATE SALE\\n\\nBODY:Shr loss 26.4 dlrs vs loss 10.7 cts\\n    Net profit 15.5 mln\\n    Net loss 0.3 mln vs loss 15.4 mln\\n    Net loss 6.6 mln vs 13.05 dlrs\\n    Net loss 3.8 mln\\n Reuter\\n\\x03 16.82 mln vs 35.00 billion dlrs vs loss 24,000\\n    Avg shrs 2.3 mln\\n    --900,000\\n    Operating 23.8 billion vs loss loss 12.2 mln vs 2 cts vs 17 at 5.1 billion\\n\\x03 vs 15.7 mln vs 12.0 mln dlr qtr includes 1.4 mln'}]"
      ]
     },
     "execution_count": 24,
     "metadata": {},
     "output_type": "execute_result"
    }
   ],
   "execution_count": 24
  },
  {
   "metadata": {},
   "cell_type": "code",
   "outputs": [],
   "execution_count": null,
   "source": "",
   "id": "17ad5abbea46fef1"
  }
 ],
 "metadata": {
  "kernelspec": {
   "name": "python3",
   "language": "python",
   "display_name": "Python 3 (ipykernel)"
  }
 },
 "nbformat": 5,
 "nbformat_minor": 9
}
