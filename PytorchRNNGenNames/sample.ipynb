{
 "cells": [
  {
   "metadata": {},
   "cell_type": "markdown",
   "source": "# NLP From Scratch: Generating Names with a Character-Level RNN",
   "id": "8a77807f92f26ee"
  },
  {
   "metadata": {
    "ExecuteTime": {
     "end_time": "2025-03-10T23:44:00.714459Z",
     "start_time": "2025-03-10T23:44:00.711670Z"
    }
   },
   "cell_type": "code",
   "source": [
    "import os\n",
    "import zipfile\n",
    "import requests\n",
    "\n",
    "data_dir = 'data/data/names/'\n",
    "zip_path = 'data/data.zip'\n",
    "url = 'https://download.pytorch.org/tutorial/data.zip'\n",
    "\n",
    "try:\n",
    "    # Check if the target directory already exists\n",
    "    if not os.path.exists(data_dir):\n",
    "        # Ensure the parent directory exists\n",
    "        os.makedirs(os.path.dirname(zip_path), exist_ok=True)\n",
    "\n",
    "        # Download the file\n",
    "        print(\"Downloading data...\")\n",
    "        response = requests.get(url, stream=True)\n",
    "        if response.status_code == 200:\n",
    "            with open(zip_path, 'wb') as file:\n",
    "                file.write(response.content)  # Write the content of the request to a file\n",
    "        else:\n",
    "            raise Exception(f\"Failed to download file from {url}, status code: {response.status_code}\")\n",
    "\n",
    "        # Extract the zip file\n",
    "        print(\"Extracting data...\")\n",
    "        with zipfile.ZipFile(zip_path, 'r') as zip_ref:\n",
    "            zip_ref.extractall('data')\n",
    "\n",
    "        print(\"Data was successfully downloaded and extracted.\")\n",
    "\n",
    "        # Clean up the zip file\n",
    "        os.remove(zip_path)\n",
    "    else:\n",
    "        print(\"Data already exists. No download needed.\")\n",
    "except Exception as e:\n",
    "    print(f\"An error occurred: {e}\")"
   ],
   "id": "fbc121e30a2defb3",
   "outputs": [
    {
     "name": "stdout",
     "output_type": "stream",
     "text": [
      "Data already exists. No download needed.\n"
     ]
    }
   ],
   "execution_count": 461
  },
  {
   "metadata": {
    "ExecuteTime": {
     "end_time": "2025-03-10T23:44:00.739299Z",
     "start_time": "2025-03-10T23:44:00.723510Z"
    }
   },
   "cell_type": "code",
   "source": [
    "from io import open\n",
    "import glob\n",
    "import os\n",
    "import unicodedata\n",
    "import string\n",
    "\n",
    "all_letters = string.ascii_letters + \" .,;'-\"\n",
    "n_letters = len(all_letters) + 1 # Plus EOS marker\n",
    "\n",
    "def findFiles(path): return glob.glob(path)\n",
    "\n",
    "# Turn a Unicode string to plain ASCII, thanks to https://stackoverflow.com/a/518232/2809427\n",
    "def unicodeToAscii(s):\n",
    "    return ''.join(\n",
    "        c for c in unicodedata.normalize('NFD', s)\n",
    "        if unicodedata.category(c) != 'Mn'\n",
    "        and c in all_letters\n",
    "    )\n",
    "\n",
    "# Read a file and split into lines\n",
    "def readLines(filename):\n",
    "    with open(filename, encoding='utf-8') as some_file:\n",
    "        return [unicodeToAscii(line.strip()) for line in some_file]\n",
    "\n",
    "# Build the category_lines dictionary, a list of lines per category\n",
    "category_lines = {}\n",
    "all_categories = []\n",
    "for filename in findFiles('data/data/names/*.txt'):\n",
    "    category = os.path.splitext(os.path.basename(filename))[0]\n",
    "    all_categories.append(category)\n",
    "    lines = readLines(filename)\n",
    "    category_lines[category] = lines\n",
    "\n",
    "n_categories = len(all_categories)\n",
    "\n",
    "if n_categories == 0:\n",
    "    raise RuntimeError(\n",
    "        \"Data not found. Please ensure the following steps are completed:\\n\"\n",
    "        \"- Verify that the directory 'data/data/names/' exists and contains the required files.\\n\"\n",
    "        \"- If the directory or files are missing, download the data from 'https://download.pytorch.org/tutorial/data.zip'.\\n\"\n",
    "        \"- Extract the contents of the zip file into the current working directory.\"\n",
    "    )\n",
    "\n",
    "print('# categories:', n_categories, all_categories)\n",
    "print(unicodeToAscii(\"O'Néàl\"))\n",
    "all_characters = set"
   ],
   "id": "6892584d38a772d0",
   "outputs": [
    {
     "name": "stdout",
     "output_type": "stream",
     "text": [
      "# categories: 18 ['Spanish', 'Vietnamese', 'Italian', 'Russian', 'Greek', 'French', 'Scottish', 'Japanese', 'Arabic', 'Portuguese', 'Polish', 'Dutch', 'Czech', 'English', 'Irish', 'German', 'Korean', 'Chinese']\n",
      "O'Neal\n"
     ]
    }
   ],
   "execution_count": 462
  },
  {
   "metadata": {},
   "cell_type": "markdown",
   "source": "## Creating the Network",
   "id": "95c643275360302c"
  },
  {
   "metadata": {
    "ExecuteTime": {
     "end_time": "2025-03-10T23:44:00.772403Z",
     "start_time": "2025-03-10T23:44:00.769957Z"
    }
   },
   "cell_type": "code",
   "source": [
    "import torch\n",
    "import torch.nn as nn\n",
    "\n",
    "\n",
    "class RNN(nn.Module):\n",
    "    \"\"\"\n",
    "    A Recurrent Neural Network (RNN) designed for generating names character by character.\n",
    "    It takes as input a category (e.g., a language), a character, and a hidden state,\n",
    "    and predicts the next character in the sequence while updating its hidden state.\n",
    "    \"\"\"\n",
    "\n",
    "    def __init__(self, input_size, hidden_size, output_size):\n",
    "        super(RNN, self).__init__()\n",
    "        self.hidden_size = hidden_size\n",
    "\n",
    "        # Linear layer to combine category, input, and previous hidden state into the new hidden state.\n",
    "        # i2h stands for \"input to hidden\"; it transforms the combined input into the next hidden state.\n",
    "        self.i2h = nn.Linear(n_categories + input_size + hidden_size, hidden_size)\n",
    "        # Linear layer to transform the combined category, input, and hidden state into the raw output (input to output)\n",
    "        self.i2o = nn.Linear(n_categories + input_size + hidden_size, output_size)\n",
    "        # Linear layer to refine the output using the hidden state and previous output\n",
    "        self.o2o = nn.Linear(hidden_size + output_size, output_size)\n",
    "        # Dropout for regularization to prevent overfitting\n",
    "        self.dropout = nn.Dropout(0.1)\n",
    "        # LogSoftmax activation for generating log probabilities of the output classes\n",
    "        self.softmax = nn.LogSoftmax(dim=1)\n",
    "\n",
    "    def forward(self, category, input, hidden):\n",
    "        # Combine category, input, and previous hidden state into a single tensor\n",
    "        input_combined = torch.cat((category, input, hidden), 1)\n",
    "        # Compute the new hidden state\n",
    "        hidden = self.i2h(input_combined)\n",
    "        # Generate raw output logits from the input and category\n",
    "        output = self.i2o(input_combined)\n",
    "        # Combine hidden state and raw output for refinement\n",
    "        output_combined = torch.cat((hidden, output), 1)\n",
    "        # Apply the final linear transformation, dropout, and softmax\n",
    "        output = self.o2o(output_combined)\n",
    "        output = self.dropout(output)\n",
    "        output = self.softmax(output)\n",
    "        return output, hidden\n",
    "\n",
    "    def initHidden(self):\n",
    "        # Initialize the hidden state tensor with zeros\n",
    "        return torch.zeros(1, self.hidden_size)"
   ],
   "id": "26963a8f20dd499e",
   "outputs": [],
   "execution_count": 463
  },
  {
   "metadata": {
    "ExecuteTime": {
     "end_time": "2025-03-10T23:44:00.815361Z",
     "start_time": "2025-03-10T23:44:00.813736Z"
    }
   },
   "cell_type": "code",
   "source": [
    "import random\n",
    "\n",
    "# Random item from a list\n",
    "def randomChoice(l):\n",
    "    return l[random.randint(0, len(l) - 1)]\n",
    "\n",
    "# Get a random category and random line from that category\n",
    "def randomTrainingPair():\n",
    "    category = randomChoice(all_categories)\n",
    "    line = randomChoice(category_lines[category])\n",
    "    return category, line"
   ],
   "id": "89df604217af0a14",
   "outputs": [],
   "execution_count": 464
  },
  {
   "metadata": {
    "ExecuteTime": {
     "end_time": "2025-03-10T23:44:00.860580Z",
     "start_time": "2025-03-10T23:44:00.858243Z"
    }
   },
   "cell_type": "code",
   "source": [
    "# Function to generate a one-hot encoded tensor representing the category.\n",
    "# The function indexes the category position in `all_categories` and sets the corresponding position in the tensor to 1.\n",
    "def categoryTensor(category):\n",
    "    li = all_categories.index(category)\n",
    "    tensor = torch.zeros(1, n_categories)\n",
    "    tensor[0][li] = 1\n",
    "    return tensor\n",
    "\n",
    "\n",
    "# Function to generate a one-hot encoded tensor for the input string (line).\n",
    "# Each character in the input string is represented as a one-hot vector, and all such vectors are stacked together.\n",
    "def inputTensor(line):\n",
    "    tensor = torch.zeros(len(line), 1, n_letters)\n",
    "    for li in range(len(line)):\n",
    "        letter = line[li]\n",
    "        tensor[li][0][all_letters.find(letter)] = 1\n",
    "    return tensor\n",
    "\n",
    "\n",
    "# Function to create a LongTensor representing the target output sequence.\n",
    "# Each character is encoded as its index in `all_letters`, with the last index representing the EOS marker.\n",
    "def targetTensor(line):\n",
    "    letter_indexes = [all_letters.find(line[li]) for li in range(1, len(line))]\n",
    "    letter_indexes.append(n_letters - 1)  #EOS\n",
    "    return torch.LongTensor(letter_indexes)"
   ],
   "id": "468680ca1b0d33b6",
   "outputs": [],
   "execution_count": 465
  },
  {
   "metadata": {
    "ExecuteTime": {
     "end_time": "2025-03-10T23:44:00.903438Z",
     "start_time": "2025-03-10T23:44:00.901768Z"
    }
   },
   "cell_type": "code",
   "source": [
    "# Make category, input, and target tensors form a random category, line pair\n",
    "def randomTrainingExample():\n",
    "    category, line = randomTrainingPair()\n",
    "    category_tensor = categoryTensor(category)\n",
    "    input_line_tensor = inputTensor(line)\n",
    "    target_line_tensor = targetTensor(line)\n",
    "    return category_tensor, input_line_tensor, target_line_tensor"
   ],
   "id": "b7449dcd5466b37e",
   "outputs": [],
   "execution_count": 466
  },
  {
   "metadata": {},
   "cell_type": "markdown",
   "source": "## Training the Network",
   "id": "35da2d136f2e4a7c"
  },
  {
   "metadata": {
    "ExecuteTime": {
     "end_time": "2025-03-10T23:44:00.948088Z",
     "start_time": "2025-03-10T23:44:00.944775Z"
    }
   },
   "cell_type": "code",
   "source": [
    "criterion = nn.NLLLoss()\n",
    "\n",
    "learning_rate = 0.0005\n",
    "epochs = 5  # Define the number of epochs for training\n",
    "\n",
    "def train(category_tensor, input_line_tensor, target_line_tensor):\n",
    "    target_line_tensor.unsqueeze_(-1)\n",
    "    hidden = rnn.initHidden()\n",
    "    rnn.zero_grad()\n",
    "    loss = 0  # Initialize loss for the current iteration\n",
    "    correct_predictions = 0  # Initialize correct predictions counter\n",
    "\n",
    "    for i in range(input_line_tensor.size(0)):\n",
    "        output, hidden = rnn(category_tensor, input_line_tensor[i], hidden)\n",
    "        l = criterion(output, target_line_tensor[i])\n",
    "        loss += l\n",
    "\n",
    "        # Track the correct predictions\n",
    "        topv, topi = output.topk(1)\n",
    "        if topi[0].item() == target_line_tensor[i].item():\n",
    "            correct_predictions += 1\n",
    "\n",
    "    loss.backward()\n",
    "\n",
    "    for p in rnn.parameters():\n",
    "        p.data.add_(p.grad.data, alpha=-learning_rate)\n",
    "\n",
    "    accuracy = correct_predictions / input_line_tensor.size(0)  # Calculate accuracy for the example\n",
    "    return output, loss.item() / input_line_tensor.size(0), accuracy\n",
    "\n",
    "# New wrapper function to train over multiple epochs\n",
    "def train_with_epochs(epochs, n_iters):\n",
    "    for epoch in range(1, epochs + 1):\n",
    "        total_loss = 0  # Reset total loss for the current epoch\n",
    "        total_accuracy = 0  # Reset total accuracy for the current epoch\n",
    "        start = time.time()  # Track the start time for the epoch\n",
    "        print(f\"Epoch {epoch}/{epochs} Starting...\")\n",
    "\n",
    "        for iter in range(1, n_iters + 1):\n",
    "            category_tensor, input_line_tensor, target_line_tensor = randomTrainingExample()\n",
    "            _, loss, accuracy = train(category_tensor, input_line_tensor, target_line_tensor)\n",
    "            total_loss += loss\n",
    "            total_accuracy += accuracy\n",
    "\n",
    "            # Print progress at regular intervals\n",
    "            if iter % print_every == 0:\n",
    "                print(f'{timeSince(start)} (Iter {iter}/{n_iters}, Epoch {epoch}) Loss: {loss:.4f}, Accuracy: {accuracy:.4f}')\n",
    "\n",
    "        avg_loss = total_loss / n_iters\n",
    "        avg_accuracy = total_accuracy / n_iters * 100  # Calculate average accuracy as a percentage\n",
    "        print(f\"Epoch {epoch}/{epochs} completed. Average Loss: {avg_loss:.4f}, Accuracy: {avg_accuracy:.2f}%\\n\")"
   ],
   "id": "2e877eb366a50328",
   "outputs": [],
   "execution_count": 467
  },
  {
   "metadata": {
    "ExecuteTime": {
     "end_time": "2025-03-10T23:44:00.990973Z",
     "start_time": "2025-03-10T23:44:00.988979Z"
    }
   },
   "cell_type": "code",
   "source": [
    "import time\n",
    "import math\n",
    "\n",
    "\n",
    "def timeSince(since):\n",
    "    now = time.time()  # Get the current time in seconds since the epoch.\n",
    "    s = now - since  # Calculate the elapsed time in seconds.\n",
    "    m = math.floor(s / 60)  # Convert the elapsed time to minutes.\n",
    "    s -= m * 60  # Calculate the remaining seconds after minutes.\n",
    "    return '%dm %ds' % (m, s)  # Format the elapsed time as a string \"Xm Ys\"."
   ],
   "id": "649adde5648a3c2b",
   "outputs": [],
   "execution_count": 468
  },
  {
   "metadata": {
    "ExecuteTime": {
     "end_time": "2025-03-10T23:50:02.136286Z",
     "start_time": "2025-03-10T23:44:01.034681Z"
    }
   },
   "cell_type": "code",
   "source": [
    "rnn = RNN(n_letters, 128, n_letters)\n",
    "\n",
    "n_iters = 100000\n",
    "print_every = 5000\n",
    "plot_every = 500\n",
    "all_losses = []\n",
    "total_loss = 0 # Reset every ``plot_every`` ``iters``\n",
    "\n",
    "start = time.time()\n",
    "train_with_epochs(epochs=epochs, n_iters=n_iters)\n",
    "\n",
    "# for iter in range(1, n_iters + 1):\n",
    "#     output, loss = train_with_epochs(epochs=epochs, n_iters=n_iters)\n",
    "#\n",
    "#     total_loss += loss\n",
    "#\n",
    "#     if iter % print_every == 0:\n",
    "#         print('%s (%d %d%%) %.4f' % (timeSince(start), iter, iter / n_iters * 100, loss))\n",
    "#\n",
    "#     if iter % plot_every == 0:\n",
    "#         all_losses.append(total_loss / plot_every)\n",
    "#         total_loss = 0"
   ],
   "id": "85adf106e66a9a0a",
   "outputs": [
    {
     "name": "stdout",
     "output_type": "stream",
     "text": [
      "Epoch 1/5 Starting...\n",
      "0m 3s (Iter 5000/100000, Epoch 1) Loss: 2.8933, Accuracy: 0.0000\n",
      "0m 7s (Iter 10000/100000, Epoch 1) Loss: 3.2078, Accuracy: 0.1429\n",
      "0m 10s (Iter 15000/100000, Epoch 1) Loss: 3.1571, Accuracy: 0.1333\n",
      "0m 14s (Iter 20000/100000, Epoch 1) Loss: 2.7336, Accuracy: 0.2500\n",
      "0m 17s (Iter 25000/100000, Epoch 1) Loss: 2.8372, Accuracy: 0.1429\n",
      "0m 21s (Iter 30000/100000, Epoch 1) Loss: 3.3337, Accuracy: 0.2727\n",
      "0m 25s (Iter 35000/100000, Epoch 1) Loss: 2.2124, Accuracy: 0.4286\n",
      "0m 28s (Iter 40000/100000, Epoch 1) Loss: 2.5239, Accuracy: 0.3333\n",
      "0m 32s (Iter 45000/100000, Epoch 1) Loss: 2.3395, Accuracy: 0.2000\n",
      "0m 35s (Iter 50000/100000, Epoch 1) Loss: 2.8160, Accuracy: 0.1250\n",
      "0m 39s (Iter 55000/100000, Epoch 1) Loss: 1.6864, Accuracy: 0.6667\n",
      "0m 43s (Iter 60000/100000, Epoch 1) Loss: 2.3669, Accuracy: 0.2500\n",
      "0m 46s (Iter 65000/100000, Epoch 1) Loss: 2.6704, Accuracy: 0.2000\n",
      "0m 50s (Iter 70000/100000, Epoch 1) Loss: 2.0719, Accuracy: 0.5000\n",
      "0m 53s (Iter 75000/100000, Epoch 1) Loss: 2.0036, Accuracy: 0.3333\n",
      "0m 57s (Iter 80000/100000, Epoch 1) Loss: 1.7409, Accuracy: 0.6667\n",
      "1m 1s (Iter 85000/100000, Epoch 1) Loss: 2.9946, Accuracy: 0.1667\n",
      "1m 4s (Iter 90000/100000, Epoch 1) Loss: 2.2441, Accuracy: 0.4286\n",
      "1m 8s (Iter 95000/100000, Epoch 1) Loss: 3.1570, Accuracy: 0.1429\n",
      "1m 11s (Iter 100000/100000, Epoch 1) Loss: 2.3718, Accuracy: 0.3333\n",
      "Epoch 1/5 completed. Average Loss: 2.5046, Accuracy: 29.70%\n",
      "\n",
      "Epoch 2/5 Starting...\n",
      "0m 3s (Iter 5000/100000, Epoch 2) Loss: 2.7861, Accuracy: 0.1250\n",
      "0m 7s (Iter 10000/100000, Epoch 2) Loss: 2.5891, Accuracy: 0.1429\n",
      "0m 10s (Iter 15000/100000, Epoch 2) Loss: 2.4813, Accuracy: 0.2222\n",
      "0m 14s (Iter 20000/100000, Epoch 2) Loss: 2.4172, Accuracy: 0.0000\n",
      "0m 18s (Iter 25000/100000, Epoch 2) Loss: 1.9438, Accuracy: 0.0000\n",
      "0m 21s (Iter 30000/100000, Epoch 2) Loss: 2.5839, Accuracy: 0.2500\n",
      "0m 25s (Iter 35000/100000, Epoch 2) Loss: 3.4053, Accuracy: 0.0000\n",
      "0m 29s (Iter 40000/100000, Epoch 2) Loss: 3.3798, Accuracy: 0.2857\n",
      "0m 32s (Iter 45000/100000, Epoch 2) Loss: 2.7502, Accuracy: 0.2857\n",
      "0m 36s (Iter 50000/100000, Epoch 2) Loss: 1.8136, Accuracy: 0.4286\n",
      "0m 39s (Iter 55000/100000, Epoch 2) Loss: 2.2791, Accuracy: 0.1250\n",
      "0m 43s (Iter 60000/100000, Epoch 2) Loss: 2.7766, Accuracy: 0.1250\n",
      "0m 47s (Iter 65000/100000, Epoch 2) Loss: 2.1867, Accuracy: 0.1429\n",
      "0m 50s (Iter 70000/100000, Epoch 2) Loss: 2.2302, Accuracy: 0.6667\n",
      "0m 54s (Iter 75000/100000, Epoch 2) Loss: 3.1537, Accuracy: 0.0000\n",
      "0m 58s (Iter 80000/100000, Epoch 2) Loss: 2.5233, Accuracy: 0.0000\n",
      "1m 1s (Iter 85000/100000, Epoch 2) Loss: 2.6215, Accuracy: 0.2727\n",
      "1m 5s (Iter 90000/100000, Epoch 2) Loss: 3.3830, Accuracy: 0.3333\n",
      "1m 8s (Iter 95000/100000, Epoch 2) Loss: 2.4540, Accuracy: 0.5000\n",
      "1m 12s (Iter 100000/100000, Epoch 2) Loss: 3.4884, Accuracy: 0.0000\n",
      "Epoch 2/5 completed. Average Loss: 2.2517, Accuracy: 34.07%\n",
      "\n",
      "Epoch 3/5 Starting...\n",
      "0m 3s (Iter 5000/100000, Epoch 3) Loss: 0.8788, Accuracy: 1.0000\n",
      "0m 7s (Iter 10000/100000, Epoch 3) Loss: 1.5872, Accuracy: 0.6000\n",
      "0m 10s (Iter 15000/100000, Epoch 3) Loss: 3.0929, Accuracy: 0.1429\n",
      "0m 14s (Iter 20000/100000, Epoch 3) Loss: 2.1881, Accuracy: 0.3333\n",
      "0m 17s (Iter 25000/100000, Epoch 3) Loss: 2.1313, Accuracy: 0.5000\n",
      "0m 21s (Iter 30000/100000, Epoch 3) Loss: 2.1972, Accuracy: 0.1429\n",
      "0m 25s (Iter 35000/100000, Epoch 3) Loss: 2.8750, Accuracy: 0.1667\n",
      "0m 28s (Iter 40000/100000, Epoch 3) Loss: 1.9111, Accuracy: 0.5000\n",
      "0m 32s (Iter 45000/100000, Epoch 3) Loss: 3.0108, Accuracy: 0.2500\n",
      "0m 35s (Iter 50000/100000, Epoch 3) Loss: 1.9665, Accuracy: 0.4286\n",
      "0m 39s (Iter 55000/100000, Epoch 3) Loss: 1.8527, Accuracy: 0.2500\n",
      "0m 42s (Iter 60000/100000, Epoch 3) Loss: 2.6769, Accuracy: 0.3333\n",
      "0m 46s (Iter 65000/100000, Epoch 3) Loss: 2.6890, Accuracy: 0.2000\n",
      "0m 50s (Iter 70000/100000, Epoch 3) Loss: 1.8491, Accuracy: 0.3333\n",
      "0m 53s (Iter 75000/100000, Epoch 3) Loss: 1.6212, Accuracy: 0.7500\n",
      "0m 57s (Iter 80000/100000, Epoch 3) Loss: 1.7362, Accuracy: 0.4000\n",
      "1m 1s (Iter 85000/100000, Epoch 3) Loss: 1.8895, Accuracy: 0.4444\n",
      "1m 4s (Iter 90000/100000, Epoch 3) Loss: 2.0938, Accuracy: 0.4000\n",
      "1m 8s (Iter 95000/100000, Epoch 3) Loss: 3.4447, Accuracy: 0.0000\n",
      "1m 12s (Iter 100000/100000, Epoch 3) Loss: 1.6491, Accuracy: 0.6000\n",
      "Epoch 3/5 completed. Average Loss: 2.1849, Accuracy: 35.27%\n",
      "\n",
      "Epoch 4/5 Starting...\n",
      "0m 3s (Iter 5000/100000, Epoch 4) Loss: 1.1034, Accuracy: 0.7500\n",
      "0m 7s (Iter 10000/100000, Epoch 4) Loss: 1.9035, Accuracy: 0.4000\n",
      "0m 11s (Iter 15000/100000, Epoch 4) Loss: 2.4560, Accuracy: 0.4286\n",
      "0m 14s (Iter 20000/100000, Epoch 4) Loss: 1.9744, Accuracy: 0.6667\n",
      "0m 18s (Iter 25000/100000, Epoch 4) Loss: 2.4158, Accuracy: 0.2857\n",
      "0m 21s (Iter 30000/100000, Epoch 4) Loss: 1.7838, Accuracy: 0.4286\n",
      "0m 25s (Iter 35000/100000, Epoch 4) Loss: 2.8095, Accuracy: 0.1250\n",
      "0m 29s (Iter 40000/100000, Epoch 4) Loss: 2.5247, Accuracy: 0.1667\n",
      "0m 32s (Iter 45000/100000, Epoch 4) Loss: 2.6606, Accuracy: 0.4000\n",
      "0m 36s (Iter 50000/100000, Epoch 4) Loss: 1.9959, Accuracy: 0.6667\n",
      "0m 40s (Iter 55000/100000, Epoch 4) Loss: 2.7125, Accuracy: 0.1667\n",
      "0m 43s (Iter 60000/100000, Epoch 4) Loss: 2.5205, Accuracy: 0.5000\n",
      "0m 47s (Iter 65000/100000, Epoch 4) Loss: 1.9276, Accuracy: 0.6000\n",
      "0m 51s (Iter 70000/100000, Epoch 4) Loss: 2.7062, Accuracy: 0.3333\n",
      "0m 54s (Iter 75000/100000, Epoch 4) Loss: 2.1791, Accuracy: 0.5000\n",
      "0m 58s (Iter 80000/100000, Epoch 4) Loss: 1.9601, Accuracy: 0.6000\n",
      "1m 2s (Iter 85000/100000, Epoch 4) Loss: 2.4042, Accuracy: 0.1667\n",
      "1m 5s (Iter 90000/100000, Epoch 4) Loss: 2.2874, Accuracy: 0.2857\n",
      "1m 9s (Iter 95000/100000, Epoch 4) Loss: 1.8845, Accuracy: 0.5000\n",
      "1m 12s (Iter 100000/100000, Epoch 4) Loss: 1.7489, Accuracy: 0.5000\n",
      "Epoch 4/5 completed. Average Loss: 2.1392, Accuracy: 36.13%\n",
      "\n",
      "Epoch 5/5 Starting...\n",
      "0m 3s (Iter 5000/100000, Epoch 5) Loss: 1.9660, Accuracy: 0.4000\n",
      "0m 7s (Iter 10000/100000, Epoch 5) Loss: 1.7298, Accuracy: 0.5000\n",
      "0m 10s (Iter 15000/100000, Epoch 5) Loss: 2.2218, Accuracy: 0.4286\n",
      "0m 14s (Iter 20000/100000, Epoch 5) Loss: 2.4323, Accuracy: 0.4000\n",
      "0m 17s (Iter 25000/100000, Epoch 5) Loss: 2.8038, Accuracy: 0.0000\n",
      "0m 21s (Iter 30000/100000, Epoch 5) Loss: 2.6539, Accuracy: 0.1818\n",
      "0m 25s (Iter 35000/100000, Epoch 5) Loss: 2.3080, Accuracy: 0.3000\n",
      "0m 28s (Iter 40000/100000, Epoch 5) Loss: 2.9985, Accuracy: 0.5000\n",
      "0m 32s (Iter 45000/100000, Epoch 5) Loss: 1.9616, Accuracy: 0.5000\n",
      "0m 35s (Iter 50000/100000, Epoch 5) Loss: 0.6596, Accuracy: 1.0000\n",
      "0m 39s (Iter 55000/100000, Epoch 5) Loss: 2.6379, Accuracy: 0.2500\n",
      "0m 42s (Iter 60000/100000, Epoch 5) Loss: 1.5508, Accuracy: 0.6000\n",
      "0m 46s (Iter 65000/100000, Epoch 5) Loss: 1.7238, Accuracy: 0.5000\n",
      "0m 50s (Iter 70000/100000, Epoch 5) Loss: 2.9391, Accuracy: 0.2500\n",
      "0m 53s (Iter 75000/100000, Epoch 5) Loss: 2.6653, Accuracy: 0.2308\n",
      "0m 57s (Iter 80000/100000, Epoch 5) Loss: 2.7357, Accuracy: 0.2222\n",
      "1m 1s (Iter 85000/100000, Epoch 5) Loss: 0.9338, Accuracy: 0.6667\n",
      "1m 4s (Iter 90000/100000, Epoch 5) Loss: 1.6869, Accuracy: 0.3333\n",
      "1m 8s (Iter 95000/100000, Epoch 5) Loss: 1.4596, Accuracy: 0.3333\n",
      "1m 11s (Iter 100000/100000, Epoch 5) Loss: 1.2944, Accuracy: 0.6667\n",
      "Epoch 5/5 completed. Average Loss: 2.1138, Accuracy: 36.52%\n",
      "\n"
     ]
    }
   ],
   "execution_count": 469
  },
  {
   "metadata": {},
   "cell_type": "markdown",
   "source": "## Plotting the Losses",
   "id": "43f1d1d606aabe1c"
  },
  {
   "metadata": {
    "ExecuteTime": {
     "end_time": "2025-03-10T23:50:02.187458Z",
     "start_time": "2025-03-10T23:50:02.145242Z"
    }
   },
   "cell_type": "code",
   "source": [
    "import matplotlib.pyplot as plt\n",
    "\n",
    "plt.figure()\n",
    "plt.plot(all_losses)\n",
    "plt.title(\"Training Loss Over Time\")  # Add title\n",
    "plt.xlabel(\"Iterations\")  # Add x-axis label\n",
    "plt.ylabel(\"Loss\")  # Add y-axis label"
   ],
   "id": "f39999a65dad66d",
   "outputs": [
    {
     "data": {
      "text/plain": [
       "Text(0, 0.5, 'Loss')"
      ]
     },
     "execution_count": 470,
     "metadata": {},
     "output_type": "execute_result"
    },
    {
     "data": {
      "text/plain": [
       "<Figure size 640x480 with 1 Axes>"
      ],
      "image/png": "[encoded data removed]"
     },
     "metadata": {},
     "output_type": "display_data"
    }
   ],
   "execution_count": 470
  },
  {
   "metadata": {},
   "cell_type": "markdown",
   "source": "## Sampling the Network",
   "id": "f654299c5769c882"
  },
  {
   "metadata": {
    "ExecuteTime": {
     "end_time": "2025-03-10T23:50:02.195986Z",
     "start_time": "2025-03-10T23:50:02.189571Z"
    }
   },
   "cell_type": "code",
   "source": [
    "# Maximum number of characters to be generated in a name\n",
    "max_length = 20\n",
    "\n",
    "\n",
    "# Sample from a category and starting letter\n",
    "# The function generates a name by sampling one character at a time, starting with 'start_letter'.\n",
    "# It uses the trained RNN to predict the next character based on the category and previous hidden state.\n",
    "def sample(category, start_letter='A'):\n",
    "    with torch.no_grad():  # no need to track history in sampling\n",
    "        # Create one-hot encoded tensors for the category and the starting letter\n",
    "        category_tensor = categoryTensor(category)\n",
    "        input = inputTensor(start_letter)\n",
    "        # Initialize the hidden state for the RNN\n",
    "        hidden = rnn.initHidden()\n",
    "\n",
    "        # Initialize the generated name as the starting letter\n",
    "        output_name = start_letter\n",
    "\n",
    "        for i in range(max_length):\n",
    "            # Get output and updated hidden state from the RNN\n",
    "            output, hidden = rnn(category_tensor, input[0], hidden)\n",
    "            # Get the most likely character index (highest probability)\n",
    "            topv, topi = output.topk(1)\n",
    "            topi = topi[0][0]\n",
    "            # Stop if the EOS (End of String) index is reached\n",
    "            if topi == n_letters - 1:\n",
    "                break\n",
    "            else:\n",
    "                # Append the predicted character to the output name\n",
    "                letter = all_letters[topi]\n",
    "                output_name += letter\n",
    "            # Create the input tensor for the next step using the predicted character\n",
    "            input = inputTensor(letter)\n",
    "\n",
    "        return output_name\n",
    "\n",
    "\n",
    "# Get multiple samples from one category and multiple starting letters\n",
    "# For a given category (e.g., language), the function generates names starting with each letter in 'start_letters'.\n",
    "def samples(category, start_letters='ABC'):\n",
    "    for start_letter in start_letters:\n",
    "        print(sample(category, start_letter))\n",
    "\n",
    "\n",
    "# Generate and print samples for selected categories and starting letters\n",
    "samples('Russian', 'RUS')  # Names in the Russian category starting with 'R', 'U', and 'S'\n",
    "samples('German', 'GER')  # Names in the German category starting with 'G', 'E', and 'R'\n",
    "samples('Spanish', 'SPA')  # Names in the Spanish category starting with 'S', 'P', and 'A'\n",
    "samples('Chinese', 'CHI')  # Names in the Chinese category starting with 'C', 'H', and 'I'"
   ],
   "id": "303f044c772962e5",
   "outputs": [
    {
     "name": "stdout",
     "output_type": "stream",
     "text": [
      "Romankov\n",
      "Urishin\n",
      "Sakovanov\n",
      "Grenter\n",
      "Esterr\n",
      "Roser\n",
      "Santar\n",
      "Pantera\n",
      "Alaran\n",
      "Che\n",
      "Han\n",
      "Ina\n"
     ]
    }
   ],
   "execution_count": 471
  },
  {
   "metadata": {
    "ExecuteTime": {
     "end_time": "2025-03-10T23:50:02.242730Z",
     "start_time": "2025-03-10T23:50:02.241246Z"
    }
   },
   "cell_type": "code",
   "source": "",
   "id": "f368f15a235453ea",
   "outputs": [],
   "execution_count": null
  }
 ],
 "metadata": {
  "kernelspec": {
   "display_name": "Python 3",
   "language": "python",
   "name": "python3"
  },
  "language_info": {
   "codemirror_mode": {
    "name": "ipython",
    "version": 2
   },
   "file_extension": ".py",
   "mimetype": "text/x-python",
   "name": "python",
   "nbconvert_exporter": "python",
   "pygments_lexer": "ipython2",
   "version": "2.7.6"
  }
 },
 "nbformat": 4,
 "nbformat_minor": 5
}
