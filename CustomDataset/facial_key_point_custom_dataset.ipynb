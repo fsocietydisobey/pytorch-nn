{
 "cells": [
  {
   "metadata": {},
   "cell_type": "markdown",
   "source": [
    "# How to create your own Dataset?\n",
    "\n",
    "More practical would be for example to use your own dataset, not a sample dataset embedded in the PyTorch package. For simplicity, let’s assume that our dataset will be 500 readings of 10 integers, along with their classification into 10 classes, marked with numbers from 0 to 9.\n",
    "\n",
    "The first step in the process of preparing your own dataset is to define our own class, which inherits from the “abstract” Dataset class. The implementation is simple because such a class requires only two methods to be overwritten: `__getitem__` and `__len__`. Plus of course you should provide the code for the method that initializes the object (`__init__`).\n",
    "\n",
    "Now let’s look at how you can implement data retrieval for the [Facial Key Point Detection Dataset](https://www.kaggle.com/prashantarorat/facial-key-point-data). After downloading and unpacking the file, we will get the images directory containing 5000 files, cut to the same size, and a json file containing the coordinates of 68 key face points for each of the files. These key points usually identify the eyes, lip line, eyebrows, and the oval of a face.\n",
    "\n",
    "The dataset was prepared by [Prashant Arora](https://www.kaggle.com/prashantarorat) as a subset of the original, much larger [Flickr-Faces-HQ dataset](https://github.com/NVlabs/ffhq-dataset), created by the NVIDIA team and made available under the [Creative Commons BY-NC-SA 4.0](https://creativecommons.org/licenses/by-nc-sa/4.0/) license.\n",
    "\n",
    "We import the necessary libraries and create the class inheriting from Dataset, in which we implement the three required methods. The `__init__` method sets a variable pointing to the name of the data directory. It should be in the directory from which we run this script. We should unpack the downloaded file to this data directory. The `__len__` method returns the size of the variable with the coordinates of key points, which happens to be also the size of the entire dataset. The `__getitem__` method first gets the name of the file with index i from the variable with coordinates, and then loads the image from the appropriate file located in the images directory."
   ],
   "id": "9bed82650d3a1c12"
  },
  {
   "metadata": {
    "ExecuteTime": {
     "end_time": "2025-02-09T18:07:05.907396Z",
     "start_time": "2025-02-09T18:07:05.905211Z"
    }
   },
   "cell_type": "code",
   "source": [
    "import torch\n",
    "from torch.utils.data import Dataset, DataLoader\n",
    "import os\n",
    "import json # we need to import json file with key points coordinates\n",
    "import numpy as np\n",
    "import matplotlib.image as img\n",
    "import matplotlib.pyplot as plt\n",
    "from torchvision import transforms\n",
    "from PIL import Image"
   ],
   "id": "aedd1ec69f3a2820",
   "outputs": [],
   "execution_count": 57
  },
  {
   "metadata": {
    "ExecuteTime": {
     "end_time": "2025-02-09T18:20:36.559465Z",
     "start_time": "2025-02-09T18:20:36.556305Z"
    }
   },
   "cell_type": "code",
   "source": [
    "class FacialDetectionDataset(Dataset):\n",
    "    KEY_POINTS_FILE = 'all_data.json'\n",
    "    IMAGES_DIR = 'images'\n",
    "\n",
    "    def __init__(self, data_dir: str, transform=None):\n",
    "        \"\"\"\n",
    "        Initializes the dataset.\n",
    "\n",
    "        Args:\n",
    "            data_dir (str): The directory containing the dataset.\n",
    "            transform (callable, optional): A function/transform to apply to the data.\n",
    "        \"\"\"\n",
    "        self.data_dir = data_dir\n",
    "        self.transform = transform\n",
    "        self.key_points_file_path = os.path.join(self.data_dir, self.KEY_POINTS_FILE)\n",
    "        self.images_dir_path = os.path.join(self.data_dir, self.IMAGES_DIR)\n",
    "        self.key_points = self._load_key_points()\n",
    "\n",
    "    def __len__(self) -> int:\n",
    "        return len(self.key_points)\n",
    "\n",
    "    def __getitem__(self, index: int):\n",
    "        \"\"\"\n",
    "        Retrieves an image and its corresponding transformed keypoints.\n",
    "\n",
    "        Args:\n",
    "            index (int): Index of the sample.\n",
    "\n",
    "        Returns:\n",
    "            tuple: Transformed image and keypoints (as NumPy array).\n",
    "        \"\"\"\n",
    "        # Retrieve the image name and its corresponding keypoints\n",
    "        image_name, face_landmarks = self.key_points[index]['file_name'], self.key_points[index]['face_landmarks']\n",
    "\n",
    "        # Load the image from the file path\n",
    "        image_path = self._get_image_path(image_name)\n",
    "        image = Image.open(image_path).convert(\"RGB\")\n",
    "\n",
    "        # Create a copy of the keypoints as a NumPy array for manipulation\n",
    "        keypoints = np.array(face_landmarks, dtype=np.float32)\n",
    "\n",
    "        # Apply transformations\n",
    "        if self.transform:\n",
    "            # Get the original image size before the transformation\n",
    "            original_width, original_height = image.size\n",
    "\n",
    "            # Transform the image\n",
    "            image = self.transform(image)\n",
    "\n",
    "            # Get the transformed image size after the transformation\n",
    "            transformed_width, transformed_height = image.size\n",
    "\n",
    "            # Scale the keypoints to adjust according to the new image size\n",
    "            keypoints[:, 0] = keypoints[:, 0] * (transformed_width / original_width)  # Scale x-coordinates\n",
    "            keypoints[:, 1] = keypoints[:, 1] * (transformed_height / original_height)  # Scale y-coordinates\n",
    "\n",
    "        # Return the transformed image and adjusted keypoints\n",
    "        return image, keypoints\n",
    "\n",
    "    def _load_key_points(self) -> list:\n",
    "        \"\"\"Helper function to load key points from the JSON file.\"\"\"\n",
    "        with open(self.key_points_file_path) as f:\n",
    "            return json.load(f)\n",
    "\n",
    "    def _get_image_path(self, image_name: str) -> str:\n",
    "        \"\"\"Helper function to construct the file path for an image.\"\"\"\n",
    "        return os.path.join(self.images_dir_path, image_name)"
   ],
   "id": "e9b7c4d9a199652a",
   "outputs": [],
   "execution_count": 97
  },
  {
   "metadata": {
    "ExecuteTime": {
     "end_time": "2025-02-09T18:20:37.912451Z",
     "start_time": "2025-02-09T18:20:37.756144Z"
    }
   },
   "cell_type": "code",
   "source": [
    "transformset = transforms.Compose([transforms.RandomRotation(10), transforms.Grayscale(num_output_channels=3), transforms.Resize((32, 32))])\n",
    "dataset = FacialDetectionDataset('data/facial_key_points', transform=transformset)\n",
    "len(dataset)"
   ],
   "id": "2f9661ae2f001a84",
   "outputs": [
    {
     "data": {
      "text/plain": [
       "5000"
      ]
     },
     "execution_count": 98,
     "metadata": {},
     "output_type": "execute_result"
    }
   ],
   "execution_count": 98
  },
  {
   "metadata": {
    "ExecuteTime": {
     "end_time": "2025-02-09T18:20:38.752521Z",
     "start_time": "2025-02-09T18:20:38.713259Z"
    }
   },
   "cell_type": "code",
   "source": [
    "image, key_points = dataset['888']\n",
    "plt.imshow(image)\n",
    "plt.show()"
   ],
   "id": "4fd7150ef6bf90ae",
   "outputs": [
    {
     "data": {
      "text/plain": [
       "<Figure size 640x480 with 1 Axes>"
      ],
      "image/png": "[encoded data removed]"
     },
     "metadata": {},
     "output_type": "display_data"
    }
   ],
   "execution_count": 99
  },
  {
   "metadata": {
    "ExecuteTime": {
     "end_time": "2025-02-09T18:20:39.960723Z",
     "start_time": "2025-02-09T18:20:39.869832Z"
    }
   },
   "cell_type": "code",
   "source": [
    "plt.imshow(image)\n",
    "plt.scatter(key_points[:, 0], key_points[:, 1], marker='o', c='y', s=5)\n",
    "plt.show()"
   ],
   "id": "fc8739b1cae013b6",
   "outputs": [
    {
     "data": {
      "text/plain": [
       "<Figure size 640x480 with 1 Axes>"
      ],
      "image/png": "[encoded data removed]"
     },
     "metadata": {},
     "output_type": "display_data"
    }
   ],
   "execution_count": 100
  },
  {
   "metadata": {},
   "cell_type": "code",
   "outputs": [],
   "execution_count": null,
   "source": "",
   "id": "8ac0b4243779ed68"
  }
 ],
 "metadata": {
  "kernelspec": {
   "display_name": "Python 3",
   "language": "python",
   "name": "python3"
  },
  "language_info": {
   "codemirror_mode": {
    "name": "ipython",
    "version": 2
   },
   "file_extension": ".py",
   "mimetype": "text/x-python",
   "name": "python",
   "nbconvert_exporter": "python",
   "pygments_lexer": "ipython2",
   "version": "2.7.6"
  }
 },
 "nbformat": 4,
 "nbformat_minor": 5
}
