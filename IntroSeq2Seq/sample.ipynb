{
 "cells": [
  {
   "metadata": {
    "ExecuteTime": {
     "end_time": "2025-03-27T02:13:40.100064Z",
     "start_time": "2025-03-27T02:13:40.096747Z"
    }
   },
   "cell_type": "code",
   "source": [
    "from __future__ import unicode_literals, print_function, division\n",
    "import unicodedata\n",
    "import random\n",
    "import re\n",
    "\n",
    "import os\n",
    "import pickle\n",
    "import tarfile\n",
    "import wget\n",
    "import zipfile  # Importing zipfile for .zip extraction\n",
    "\n",
    "import pandas as pd\n",
    "import numpy as np\n",
    "\n",
    "import torch\n",
    "import torch.nn as nn\n",
    "from torch import optim\n",
    "import torch.nn.functional as F\n",
    "from torch.utils.data import TensorDataset, DataLoader, RandomSampler\n",
    "%matplotlib inline\n"
   ],
   "id": "fbc121e30a2defb3",
   "outputs": [],
   "execution_count": 32
  },
  {
   "metadata": {
    "ExecuteTime": {
     "end_time": "2025-03-25T22:12:07.093572Z",
     "start_time": "2025-03-25T22:12:07.090364Z"
    }
   },
   "cell_type": "code",
   "source": [
    "def make_tgz_and_zip(url, download_folder):\n",
    "    \"\"\"\n",
    "    Downloads a compressed file (.tgz or .zip) from a URL, saves it to a specified folder,\n",
    "    and then extracts its content.\n",
    "\n",
    "    Args:\n",
    "        url (str): The URL of the compressed file.\n",
    "        download_folder (str): The path to the folder where the file should be saved and extracted.\n",
    "    \"\"\"\n",
    "    try:\n",
    "        # Ensure that the download folder exists, create it if it doesn't\n",
    "        os.makedirs(download_folder, exist_ok=True)\n",
    "\n",
    "        # Download the file from the given URL and save it to the download folder\n",
    "        filename = wget.download(url, out=download_folder)\n",
    "        print(f\"\\nDownloaded: {filename}\")\n",
    "\n",
    "        # Check if the file is a .tgz (tar.gz) archive\n",
    "        if filename.endswith(\".tgz\"):\n",
    "            with tarfile.open(filename, \"r:gz\") as tar:\n",
    "                # Extract all contents of the .tgz file to the specified folder\n",
    "                tar.extractall(path=download_folder, filter=None)  # Removed `filter=None`\n",
    "            print(f\"Extracted .tgz to: {download_folder}\")\n",
    "\n",
    "        # Check if the file is a .zip archive\n",
    "        elif filename.endswith(\".zip\"):\n",
    "            with zipfile.ZipFile(filename, \"r\") as zip_ref:\n",
    "                # Extract all contents of the .zip file to the specified folder\n",
    "                zip_ref.extractall(path=download_folder)\n",
    "            print(f\"Extracted .zip to: {download_folder}\")\n",
    "\n",
    "        # If the file type is unsupported, log a message and exit the function\n",
    "        else:\n",
    "            print(f\"Unsupported file format: {filename}\")\n",
    "            return\n",
    "\n",
    "        # Remove the downloaded file after extraction to save storage space\n",
    "        os.remove(filename)\n",
    "        print(f'Removed: {filename}')\n",
    "\n",
    "    # Handle any exceptions that occur during the process and log the error\n",
    "    except Exception as e:\n",
    "        print(f\"An error occurred: {e}\")"
   ],
   "id": "f60ff8e80d155e6c",
   "outputs": [],
   "execution_count": 80
  },
  {
   "metadata": {
    "ExecuteTime": {
     "end_time": "2025-03-25T22:12:35.648460Z",
     "start_time": "2025-03-25T22:12:07.140117Z"
    }
   },
   "cell_type": "code",
   "source": [
    "# URL of the .tgz compressed Europarl dataset file containing French-English parallel data\n",
    "url2 = \"https://www.statmt.org/europarl/v7/fr-en.tgz\"\n",
    "\n",
    "# Call the function to download the .tgz file from the provided URL, store it in the \"data\" folder,\n",
    "# and extract its contents into the same folder\n",
    "make_tgz_and_zip(url2, \"data\")"
   ],
   "id": "a68cd2d88633a514",
   "outputs": [
    {
     "name": "stdout",
     "output_type": "stream",
     "text": [
      "\n",
      "Downloaded: data/fr-en.tgz\n"
     ]
    },
    {
     "name": "stderr",
     "output_type": "stream",
     "text": [
      "/tmp/ipykernel_14384/3839353119.py:21: DeprecationWarning: Python 3.14 will, by default, filter extracted tar archives and reject files or modify their metadata. Use the filter argument to control this behavior.\n",
      "  tar.extractall(path=download_folder, filter=None)  # Removed `filter=None`\n"
     ]
    },
    {
     "name": "stdout",
     "output_type": "stream",
     "text": [
      "Extracted .tgz to: data\n",
      "Removed: data/fr-en.tgz\n"
     ]
    }
   ],
   "execution_count": 81
  },
  {
   "metadata": {
    "ExecuteTime": {
     "end_time": "2025-03-25T23:53:07.690280Z",
     "start_time": "2025-03-25T23:53:06.895791Z"
    }
   },
   "cell_type": "code",
   "source": [
    "# URL of the .zip file containing specified PyTorch tutorial data\n",
    "url3 = \"https://download.pytorch.org/tutorial/data.zip\"\n",
    "\n",
    "# Call the function to download the .zip file from the URL, save it in the \"data\" folder,\n",
    "# and extract its contents into the same folder\n",
    "make_tgz_and_zip(url3, \"data\")"
   ],
   "id": "865a95b72b68d3d4",
   "outputs": [
    {
     "name": "stdout",
     "output_type": "stream",
     "text": [
      "\n",
      "Downloaded: data/data.zip\n",
      "Extracted .zip to: data\n",
      "Removed: data/data.zip\n"
     ]
    }
   ],
   "execution_count": 121
  },
  {
   "metadata": {
    "ExecuteTime": {
     "end_time": "2025-03-25T22:13:29.266643Z",
     "start_time": "2025-03-25T22:12:36.727372Z"
    }
   },
   "cell_type": "code",
   "source": [
    "# Import necessary modules\n",
    "import string  # Provides constants and tools to work with strings\n",
    "import re  # Used for performing regex operations for text cleaning\n",
    "from unicodedata import normalize  # Helps with Unicode normalization (e.g., converting accented chars)\n",
    "from pickle import dump  # Used to serialize Python objects and save them to files\n",
    "\n",
    "\n",
    "# Function to load a document into memory\n",
    "def load_doc(filename):\n",
    "    \"\"\"\n",
    "    Read the content of a file into memory.\n",
    "\n",
    "    Args:\n",
    "        filename (str): Path to the file.\n",
    "\n",
    "    Returns:\n",
    "        str: Content of the file as a string.\n",
    "    \"\"\"\n",
    "    # Open the file in text mode with UTF-8 encoding\n",
    "    file = open(filename, mode=\"rt\", encoding=\"utf-8\")\n",
    "    # Read the entire content of the file\n",
    "    text = file.read()\n",
    "    # Close the file after reading content\n",
    "    file.close()\n",
    "    return text\n",
    "\n",
    "\n",
    "# Function to split a document into individual sentences\n",
    "def to_sentences(doc):\n",
    "    \"\"\"\n",
    "    Split a document into a list of sentences based on newlines.\n",
    "\n",
    "    Args:\n",
    "        doc (str): The document content as a string.\n",
    "\n",
    "    Returns:\n",
    "        list: A list of string sentences.\n",
    "    \"\"\"\n",
    "    return doc.strip().split('\\n')\n",
    "\n",
    "\n",
    "# Function to clean a list of text lines\n",
    "def clean_lines(lines):\n",
    "    \"\"\"\n",
    "    Preprocess and clean text data by removing unwanted characters, punctuation, and numbers.\n",
    "\n",
    "    Args:\n",
    "        lines (list of str): Lines of text to be cleaned.\n",
    "\n",
    "    Returns:\n",
    "        list of str: Cleaned text lines.\n",
    "    \"\"\"\n",
    "    cleaned = list()\n",
    "    # Regular expression to match non-printable characters\n",
    "    re_print = re.compile('[^%s]' % re.escape(string.printable))\n",
    "    # Translation table to remove all punctuation characters\n",
    "    table = str.maketrans('', '', string.punctuation)\n",
    "\n",
    "    # Process each line in the list\n",
    "    for line in lines:\n",
    "        # Normalize unicode characters (e.g., accented letters to their ASCII equivalents)\n",
    "        line = normalize('NFD', line).encode('ascii', 'ignore')\n",
    "        line = line.decode(\"utf-8\")\n",
    "        # Split the line into tokens based on whitespace\n",
    "        line = line.split()\n",
    "        # Convert all tokens to lowercase\n",
    "        line = [word.lower() for word in line]\n",
    "        # Remove punctuation from each token using the translation table\n",
    "        line = [word.translate(table) for word in line]\n",
    "        # Remove non-printable characters using regex\n",
    "        line = [re_print.sub('', w) for w in line]\n",
    "        # Remove tokens containing numbers\n",
    "        line = [word for word in line if word.isalpha()]\n",
    "        # Combine the cleaned tokens back into a single string\n",
    "        cleaned.append(' '.join(line))\n",
    "\n",
    "    return cleaned\n",
    "\n",
    "\n",
    "# Function to save cleaned sentences to a file\n",
    "def save_clean_sentences(sentences, filename):\n",
    "    \"\"\"\n",
    "    Save a list of cleaned sentences to a file using pickle.\n",
    "\n",
    "    Args:\n",
    "        sentences (list): List of cleaned sentences to save.\n",
    "        filename (str): The output file path for saving the sentences.\n",
    "    \"\"\"\n",
    "    dump(sentences, open(filename, 'wb'))\n",
    "    print('Saved: %s' % filename)\n",
    "\n",
    "\n",
    "# Load, clean, and save English data\n",
    "filename = 'data/europarl-v7.fr-en.en'  # Path to the English dataset file\n",
    "# Load the English dataset into memory as a string\n",
    "doc = load_doc(filename)\n",
    "# Split the document into separate sentences\n",
    "sentences = to_sentences(doc)\n",
    "# Clean each sentence in the list\n",
    "sentences = clean_lines(sentences)\n",
    "# Save the cleaned sentences to a file\n",
    "save_clean_sentences(sentences, 'data/english.pkl')\n",
    "# Display the first 10 cleaned sentences for verification\n",
    "for i in range(10):\n",
    "    print(sentences[i])\n",
    "\n",
    "# Load, clean, and save French data\n",
    "filename = 'data/europarl-v7.fr-en.fr'  # Path to the French dataset file\n",
    "# Load the French dataset into memory as a string\n",
    "doc = load_doc(filename)\n",
    "# Split the document into separate sentences\n",
    "sentences = to_sentences(doc)\n",
    "# Clean each sentence in the list\n",
    "sentences = clean_lines(sentences)\n",
    "# Save the cleaned sentences to a file\n",
    "save_clean_sentences(sentences, 'data/french.pkl')\n",
    "# Display the first 10 cleaned sentences for verification\n",
    "for i in range(10):\n",
    "    print(sentences[i])"
   ],
   "id": "a5cf4dbdf63e7b8",
   "outputs": [
    {
     "name": "stdout",
     "output_type": "stream",
     "text": [
      "Saved: data/english.pkl\n",
      "resumption of the session\n",
      "i declare resumed the session of the european parliament adjourned on friday december and i would like once again to wish you a happy new year in the hope that you enjoyed a pleasant festive period\n",
      "although as you will have seen the dreaded millennium bug failed to materialise still the people in a number of countries suffered a series of natural disasters that truly were dreadful\n",
      "you have requested a debate on this subject in the course of the next few days during this partsession\n",
      "in the meantime i should like to observe a minute s silence as a number of members have requested on behalf of all the victims concerned particularly those of the terrible storms in the various countries of the european union\n",
      "please rise then for this minute s silence\n",
      "the house rose and observed a minute s silence\n",
      "madam president on a point of order\n",
      "you will be aware from the press and television that there have been a number of bomb explosions and killings in sri lanka\n",
      "one of the people assassinated very recently in sri lanka was mr kumar ponnambalam who had visited the european parliament just a few months ago\n",
      "Saved: data/french.pkl\n",
      "reprise de la session\n",
      "je declare reprise la session du parlement europeen qui avait ete interrompue le vendredi decembre dernier et je vous renouvelle tous mes vux en esperant que vous avez passe de bonnes vacances\n",
      "comme vous avez pu le constater le grand bogue de lan ne sest pas produit en revanche les citoyens dun certain nombre de nos pays ont ete victimes de catastrophes naturelles qui ont vraiment ete terribles\n",
      "vous avez souhaite un debat a ce sujet dans les prochains jours au cours de cette periode de session\n",
      "en attendant je souhaiterais comme un certain nombre de collegues me lont demande que nous observions une minute de silence pour toutes les victimes des tempetes notamment dans les differents pays de lunion europeenne qui ont ete touches\n",
      "je vous invite a vous lever pour cette minute de silence\n",
      "le parlement debout observe une minute de silence\n",
      "madame la presidente cest une motion de procedure\n",
      "vous avez probablement appris par la presse et par la television que plusieurs attentats a la bombe et crimes ont ete perpetres au sri lanka\n",
      "lune des personnes qui vient detre assassinee au sri lanka est m kumar ponnambalam qui avait rendu visite au parlement europeen il y a quelques mois a peine\n"
     ]
    }
   ],
   "execution_count": 83
  },
  {
   "metadata": {
    "ExecuteTime": {
     "end_time": "2025-03-25T23:59:52.270654Z",
     "start_time": "2025-03-25T23:59:51.554075Z"
    }
   },
   "cell_type": "code",
   "source": [
    "# Load the French vocabulary from the pickled file `french.pkl` located in the `data` directory.\n",
    "with open('data/french.pkl', 'rb') as f:\n",
    "    fr_voc = pickle.load(f)\n",
    "\n",
    "# Load the English vocabulary from the pickled file `english.pkl` located in the `data` directory.\n",
    "with open('data/english.pkl', 'rb') as f:\n",
    "    eng_voc = pickle.load(f)\n",
    "\n",
    "# Combine the English and French vocabularies into a pandas DataFrame.\n",
    "# Each row in the DataFrame corresponds to a pair of English and French sentences.\n",
    "data = pd.DataFrame(zip(eng_voc, fr_voc), columns=['English', 'French'])\n",
    "\n",
    "# Display the DataFrame to verify its contents. This allows for a quick inspection of the combined data.\n",
    "data"
   ],
   "id": "9455693775b4b9df",
   "outputs": [
    {
     "data": {
      "text/plain": [
       "                                                   English  \\\n",
       "0                                resumption of the session   \n",
       "1        i declare resumed the session of the european ...   \n",
       "2        although as you will have seen the dreaded mil...   \n",
       "3        you have requested a debate on this subject in...   \n",
       "4        in the meantime i should like to observe a min...   \n",
       "...                                                    ...   \n",
       "2007718  i would also like although they are absent to ...   \n",
       "2007719  i am not going to reopen the millennium or not...   \n",
       "2007720                         adjournment of the session   \n",
       "2007721  i declare the session of the european parliame...   \n",
       "2007722                       the sitting was closed at am   \n",
       "\n",
       "                                                    French  \n",
       "0                                    reprise de la session  \n",
       "1        je declare reprise la session du parlement eur...  \n",
       "2        comme vous avez pu le constater le grand bogue...  \n",
       "3        vous avez souhaite un debat a ce sujet dans le...  \n",
       "4        en attendant je souhaiterais comme un certain ...  \n",
       "...                                                    ...  \n",
       "2007718  je me permettrai meme bien quils soient absent...  \n",
       "2007719  je ne rouvrirai pas le debat sur le millenaire...  \n",
       "2007720                         interruption de la session  \n",
       "2007721  je declare interrompue la session du parlement...  \n",
       "2007722                              la seance est levee a  \n",
       "\n",
       "[2007723 rows x 2 columns]"
      ],
      "text/html": [
       "<div>\n",
       "<style scoped>\n",
       "    .dataframe tbody tr th:only-of-type {\n",
       "        vertical-align: middle;\n",
       "    }\n",
       "\n",
       "    .dataframe tbody tr th {\n",
       "        vertical-align: top;\n",
       "    }\n",
       "\n",
       "    .dataframe thead th {\n",
       "        text-align: right;\n",
       "    }\n",
       "</style>\n",
       "<table border=\"1\" class=\"dataframe\">\n",
       "  <thead>\n",
       "    <tr style=\"text-align: right;\">\n",
       "      <th></th>\n",
       "      <th>English</th>\n",
       "      <th>French</th>\n",
       "    </tr>\n",
       "  </thead>\n",
       "  <tbody>\n",
       "    <tr>\n",
       "      <th>0</th>\n",
       "      <td>resumption of the session</td>\n",
       "      <td>reprise de la session</td>\n",
       "    </tr>\n",
       "    <tr>\n",
       "      <th>1</th>\n",
       "      <td>i declare resumed the session of the european ...</td>\n",
       "      <td>je declare reprise la session du parlement eur...</td>\n",
       "    </tr>\n",
       "    <tr>\n",
       "      <th>2</th>\n",
       "      <td>although as you will have seen the dreaded mil...</td>\n",
       "      <td>comme vous avez pu le constater le grand bogue...</td>\n",
       "    </tr>\n",
       "    <tr>\n",
       "      <th>3</th>\n",
       "      <td>you have requested a debate on this subject in...</td>\n",
       "      <td>vous avez souhaite un debat a ce sujet dans le...</td>\n",
       "    </tr>\n",
       "    <tr>\n",
       "      <th>4</th>\n",
       "      <td>in the meantime i should like to observe a min...</td>\n",
       "      <td>en attendant je souhaiterais comme un certain ...</td>\n",
       "    </tr>\n",
       "    <tr>\n",
       "      <th>...</th>\n",
       "      <td>...</td>\n",
       "      <td>...</td>\n",
       "    </tr>\n",
       "    <tr>\n",
       "      <th>2007718</th>\n",
       "      <td>i would also like although they are absent to ...</td>\n",
       "      <td>je me permettrai meme bien quils soient absent...</td>\n",
       "    </tr>\n",
       "    <tr>\n",
       "      <th>2007719</th>\n",
       "      <td>i am not going to reopen the millennium or not...</td>\n",
       "      <td>je ne rouvrirai pas le debat sur le millenaire...</td>\n",
       "    </tr>\n",
       "    <tr>\n",
       "      <th>2007720</th>\n",
       "      <td>adjournment of the session</td>\n",
       "      <td>interruption de la session</td>\n",
       "    </tr>\n",
       "    <tr>\n",
       "      <th>2007721</th>\n",
       "      <td>i declare the session of the european parliame...</td>\n",
       "      <td>je declare interrompue la session du parlement...</td>\n",
       "    </tr>\n",
       "    <tr>\n",
       "      <th>2007722</th>\n",
       "      <td>the sitting was closed at am</td>\n",
       "      <td>la seance est levee a</td>\n",
       "    </tr>\n",
       "  </tbody>\n",
       "</table>\n",
       "<p>2007723 rows × 2 columns</p>\n",
       "</div>"
      ]
     },
     "execution_count": 125,
     "metadata": {},
     "output_type": "execute_result"
    }
   ],
   "execution_count": 125
  },
  {
   "metadata": {
    "ExecuteTime": {
     "end_time": "2025-03-25T23:59:54.963746Z",
     "start_time": "2025-03-25T23:59:54.960320Z"
    }
   },
   "cell_type": "code",
   "source": [
    "# Display a concise summary of the DataFrame `data`\n",
    "# `info()` provides information like column names, non-null counts, data types, and memory usage.\n",
    "data.info()"
   ],
   "id": "7153b9f4b2a39f16",
   "outputs": [
    {
     "name": "stdout",
     "output_type": "stream",
     "text": [
      "<class 'pandas.core.frame.DataFrame'>\n",
      "RangeIndex: 2007723 entries, 0 to 2007722\n",
      "Data columns (total 2 columns):\n",
      " #   Column   Dtype \n",
      "---  ------   ----- \n",
      " 0   English  object\n",
      " 1   French   object\n",
      "dtypes: object(2)\n",
      "memory usage: 30.6+ MB\n"
     ]
    }
   ],
   "execution_count": 126
  },
  {
   "metadata": {
    "ExecuteTime": {
     "end_time": "2025-03-25T23:59:56.165749Z",
     "start_time": "2025-03-25T23:59:56.160899Z"
    }
   },
   "cell_type": "code",
   "source": [
    "# Display the first 5 rows of the DataFrame `data`.\n",
    "# This provides a quick insight into the structure and content of the dataset, \n",
    "# including the column names and a preview of data values.\n",
    "data.head()"
   ],
   "id": "29c4d49aedefb6c4",
   "outputs": [
    {
     "data": {
      "text/plain": [
       "                                             English  \\\n",
       "0                          resumption of the session   \n",
       "1  i declare resumed the session of the european ...   \n",
       "2  although as you will have seen the dreaded mil...   \n",
       "3  you have requested a debate on this subject in...   \n",
       "4  in the meantime i should like to observe a min...   \n",
       "\n",
       "                                              French  \n",
       "0                              reprise de la session  \n",
       "1  je declare reprise la session du parlement eur...  \n",
       "2  comme vous avez pu le constater le grand bogue...  \n",
       "3  vous avez souhaite un debat a ce sujet dans le...  \n",
       "4  en attendant je souhaiterais comme un certain ...  "
      ],
      "text/html": [
       "<div>\n",
       "<style scoped>\n",
       "    .dataframe tbody tr th:only-of-type {\n",
       "        vertical-align: middle;\n",
       "    }\n",
       "\n",
       "    .dataframe tbody tr th {\n",
       "        vertical-align: top;\n",
       "    }\n",
       "\n",
       "    .dataframe thead th {\n",
       "        text-align: right;\n",
       "    }\n",
       "</style>\n",
       "<table border=\"1\" class=\"dataframe\">\n",
       "  <thead>\n",
       "    <tr style=\"text-align: right;\">\n",
       "      <th></th>\n",
       "      <th>English</th>\n",
       "      <th>French</th>\n",
       "    </tr>\n",
       "  </thead>\n",
       "  <tbody>\n",
       "    <tr>\n",
       "      <th>0</th>\n",
       "      <td>resumption of the session</td>\n",
       "      <td>reprise de la session</td>\n",
       "    </tr>\n",
       "    <tr>\n",
       "      <th>1</th>\n",
       "      <td>i declare resumed the session of the european ...</td>\n",
       "      <td>je declare reprise la session du parlement eur...</td>\n",
       "    </tr>\n",
       "    <tr>\n",
       "      <th>2</th>\n",
       "      <td>although as you will have seen the dreaded mil...</td>\n",
       "      <td>comme vous avez pu le constater le grand bogue...</td>\n",
       "    </tr>\n",
       "    <tr>\n",
       "      <th>3</th>\n",
       "      <td>you have requested a debate on this subject in...</td>\n",
       "      <td>vous avez souhaite un debat a ce sujet dans le...</td>\n",
       "    </tr>\n",
       "    <tr>\n",
       "      <th>4</th>\n",
       "      <td>in the meantime i should like to observe a min...</td>\n",
       "      <td>en attendant je souhaiterais comme un certain ...</td>\n",
       "    </tr>\n",
       "  </tbody>\n",
       "</table>\n",
       "</div>"
      ]
     },
     "execution_count": 127,
     "metadata": {},
     "output_type": "execute_result"
    }
   ],
   "execution_count": 127
  },
  {
   "metadata": {
    "ExecuteTime": {
     "end_time": "2025-03-25T23:59:58.001790Z",
     "start_time": "2025-03-25T23:59:57.996637Z"
    }
   },
   "cell_type": "code",
   "source": [
    "# Display the last 5 rows of the DataFrame `data`.\n",
    "# This method is useful for quickly checking the structure, data pattern, or any anomalies in the final rows of the dataset.\n",
    "data.tail()"
   ],
   "id": "463476240fa3bd72",
   "outputs": [
    {
     "data": {
      "text/plain": [
       "                                                   English  \\\n",
       "2007718  i would also like although they are absent to ...   \n",
       "2007719  i am not going to reopen the millennium or not...   \n",
       "2007720                         adjournment of the session   \n",
       "2007721  i declare the session of the european parliame...   \n",
       "2007722                       the sitting was closed at am   \n",
       "\n",
       "                                                    French  \n",
       "2007718  je me permettrai meme bien quils soient absent...  \n",
       "2007719  je ne rouvrirai pas le debat sur le millenaire...  \n",
       "2007720                         interruption de la session  \n",
       "2007721  je declare interrompue la session du parlement...  \n",
       "2007722                              la seance est levee a  "
      ],
      "text/html": [
       "<div>\n",
       "<style scoped>\n",
       "    .dataframe tbody tr th:only-of-type {\n",
       "        vertical-align: middle;\n",
       "    }\n",
       "\n",
       "    .dataframe tbody tr th {\n",
       "        vertical-align: top;\n",
       "    }\n",
       "\n",
       "    .dataframe thead th {\n",
       "        text-align: right;\n",
       "    }\n",
       "</style>\n",
       "<table border=\"1\" class=\"dataframe\">\n",
       "  <thead>\n",
       "    <tr style=\"text-align: right;\">\n",
       "      <th></th>\n",
       "      <th>English</th>\n",
       "      <th>French</th>\n",
       "    </tr>\n",
       "  </thead>\n",
       "  <tbody>\n",
       "    <tr>\n",
       "      <th>2007718</th>\n",
       "      <td>i would also like although they are absent to ...</td>\n",
       "      <td>je me permettrai meme bien quils soient absent...</td>\n",
       "    </tr>\n",
       "    <tr>\n",
       "      <th>2007719</th>\n",
       "      <td>i am not going to reopen the millennium or not...</td>\n",
       "      <td>je ne rouvrirai pas le debat sur le millenaire...</td>\n",
       "    </tr>\n",
       "    <tr>\n",
       "      <th>2007720</th>\n",
       "      <td>adjournment of the session</td>\n",
       "      <td>interruption de la session</td>\n",
       "    </tr>\n",
       "    <tr>\n",
       "      <th>2007721</th>\n",
       "      <td>i declare the session of the european parliame...</td>\n",
       "      <td>je declare interrompue la session du parlement...</td>\n",
       "    </tr>\n",
       "    <tr>\n",
       "      <th>2007722</th>\n",
       "      <td>the sitting was closed at am</td>\n",
       "      <td>la seance est levee a</td>\n",
       "    </tr>\n",
       "  </tbody>\n",
       "</table>\n",
       "</div>"
      ]
     },
     "execution_count": 128,
     "metadata": {},
     "output_type": "execute_result"
    }
   ],
   "execution_count": 128
  },
  {
   "metadata": {
    "ExecuteTime": {
     "end_time": "2025-03-26T00:00:02.206070Z",
     "start_time": "2025-03-25T23:59:59.440989Z"
    }
   },
   "cell_type": "code",
   "source": [
    "# Generate descriptive statistics of the dataset, such as mean, standard deviation, and other measures for each numerical column.\n",
    "# The .T (transpose) flips the table, making rows become columns and vice versa, for improved readability of statistics.\n",
    "# This provides a quick summary of the numerical attributes in the dataset, aiding in understanding data distribution.\n",
    "data.describe().T"
   ],
   "id": "7481f5dfbc7b97a5",
   "outputs": [
    {
     "data": {
      "text/plain": [
       "           count   unique top  freq\n",
       "English  2007723  1946680      7091\n",
       "French   2007723  1946898      7643"
      ],
      "text/html": [
       "<div>\n",
       "<style scoped>\n",
       "    .dataframe tbody tr th:only-of-type {\n",
       "        vertical-align: middle;\n",
       "    }\n",
       "\n",
       "    .dataframe tbody tr th {\n",
       "        vertical-align: top;\n",
       "    }\n",
       "\n",
       "    .dataframe thead th {\n",
       "        text-align: right;\n",
       "    }\n",
       "</style>\n",
       "<table border=\"1\" class=\"dataframe\">\n",
       "  <thead>\n",
       "    <tr style=\"text-align: right;\">\n",
       "      <th></th>\n",
       "      <th>count</th>\n",
       "      <th>unique</th>\n",
       "      <th>top</th>\n",
       "      <th>freq</th>\n",
       "    </tr>\n",
       "  </thead>\n",
       "  <tbody>\n",
       "    <tr>\n",
       "      <th>English</th>\n",
       "      <td>2007723</td>\n",
       "      <td>1946680</td>\n",
       "      <td></td>\n",
       "      <td>7091</td>\n",
       "    </tr>\n",
       "    <tr>\n",
       "      <th>French</th>\n",
       "      <td>2007723</td>\n",
       "      <td>1946898</td>\n",
       "      <td></td>\n",
       "      <td>7643</td>\n",
       "    </tr>\n",
       "  </tbody>\n",
       "</table>\n",
       "</div>"
      ]
     },
     "execution_count": 129,
     "metadata": {},
     "output_type": "execute_result"
    }
   ],
   "execution_count": 129
  },
  {
   "metadata": {
    "ExecuteTime": {
     "end_time": "2025-03-26T00:00:03.111592Z",
     "start_time": "2025-03-26T00:00:03.024858Z"
    }
   },
   "cell_type": "code",
   "source": [
    "# Check the dataset for missing values by counting the total number of null entries in each column.\n",
    "# This will return a pandas Series where the indices are column names and values are the count of missing entries per column.\n",
    "data.isnull().sum()"
   ],
   "id": "ae92e0ceadfb1556",
   "outputs": [
    {
     "data": {
      "text/plain": [
       "English    0\n",
       "French     0\n",
       "dtype: int64"
      ]
     },
     "execution_count": 130,
     "metadata": {},
     "output_type": "execute_result"
    }
   ],
   "execution_count": 130
  },
  {
   "metadata": {
    "ExecuteTime": {
     "end_time": "2025-03-26T00:00:06.973266Z",
     "start_time": "2025-03-26T00:00:04.642699Z"
    }
   },
   "cell_type": "code",
   "source": [
    "# The `nunique()` method is used to count the number of unique values in each column of the DataFrame `data`.\n",
    "# This allows us to determine the distinct entries in the 'English' and 'French' columns of the dataset.\n",
    "data.nunique()"
   ],
   "id": "c24ca65e431e28a4",
   "outputs": [
    {
     "data": {
      "text/plain": [
       "English    1946680\n",
       "French     1946898\n",
       "dtype: int64"
      ]
     },
     "execution_count": 131,
     "metadata": {},
     "output_type": "execute_result"
    }
   ],
   "execution_count": 131
  },
  {
   "metadata": {
    "ExecuteTime": {
     "end_time": "2025-03-26T00:00:15.695267Z",
     "start_time": "2025-03-26T00:00:15.606370Z"
    }
   },
   "cell_type": "code",
   "source": [
    "# Load the English-French dataset stored in a tab-separated file ('eng-fra.txt') into a pandas DataFrame.\n",
    "# The 'sep' parameter specifies that the file is tab-separated ('\\t'),\n",
    "# and the 'names' parameter assigns column names 'English' and 'French' to the DataFrame.\n",
    "data2 = pd.read_csv('data/eng-fra.txt', sep='\\t', names=['English', 'French'])"
   ],
   "id": "305892f7c8160eab",
   "outputs": [],
   "execution_count": 132
  },
  {
   "metadata": {
    "ExecuteTime": {
     "end_time": "2025-03-26T00:00:23.071909Z",
     "start_time": "2025-03-26T00:00:18.859831Z"
    }
   },
   "cell_type": "code",
   "source": [
    "# Merge the two DataFrames (data and data2) by combining their rows, while resetting the index.\n",
    "data = pd.concat([data, data2], ignore_index=True, axis=0)\n",
    "# Save the resulting DataFrame into a file named 'eng-fra-2.txt' in the 'data' directory. \n",
    "# The file is saved without headers and indexes, using the tab ('\\t') character as a separator.\n",
    "data.to_csv('data/eng-fra-2.txt', index=False, header=False, sep='\\t')"
   ],
   "id": "3be5990a42c14124",
   "outputs": [],
   "execution_count": 133
  },
  {
   "metadata": {
    "ExecuteTime": {
     "end_time": "2025-03-25T22:13:48.923762Z",
     "start_time": "2025-03-25T22:13:48.920789Z"
    }
   },
   "cell_type": "code",
   "source": [
    "# Display a concise summary of the DataFrame `data`, showing column names, \n",
    "# the number of non-null values, data types, and memory usage.\n",
    "# `data` refers to a DataFrame that contains English and French text data.\n",
    "data.info()"
   ],
   "id": "8855ae51ae8f6bb",
   "outputs": [
    {
     "name": "stdout",
     "output_type": "stream",
     "text": [
      "<class 'pandas.core.frame.DataFrame'>\n",
      "RangeIndex: 4151289 entries, 0 to 4151288\n",
      "Data columns (total 2 columns):\n",
      " #   Column   Dtype \n",
      "---  ------   ----- \n",
      " 0   English  object\n",
      " 1   French   object\n",
      "dtypes: object(2)\n",
      "memory usage: 63.3+ MB\n"
     ]
    }
   ],
   "execution_count": 93
  },
  {
   "metadata": {
    "ExecuteTime": {
     "end_time": "2025-03-25T22:13:48.980058Z",
     "start_time": "2025-03-25T22:13:48.975979Z"
    }
   },
   "cell_type": "code",
   "source": [
    "# Display the first 5 rows of the DataFrame `data`.\n",
    "# This provides a quick look at the structure and values of the dataset, \n",
    "# including column names and data examples.\n",
    "data.head()"
   ],
   "id": "32996905c2aefa2b",
   "outputs": [
    {
     "data": {
      "text/plain": [
       "                                             English  \\\n",
       "0                          resumption of the session   \n",
       "1  i declare resumed the session of the european ...   \n",
       "2  although as you will have seen the dreaded mil...   \n",
       "3  you have requested a debate on this subject in...   \n",
       "4  in the meantime i should like to observe a min...   \n",
       "\n",
       "                                              French  \n",
       "0                              reprise de la session  \n",
       "1  je declare reprise la session du parlement eur...  \n",
       "2  comme vous avez pu le constater le grand bogue...  \n",
       "3  vous avez souhaite un debat a ce sujet dans le...  \n",
       "4  en attendant je souhaiterais comme un certain ...  "
      ],
      "text/html": [
       "<div>\n",
       "<style scoped>\n",
       "    .dataframe tbody tr th:only-of-type {\n",
       "        vertical-align: middle;\n",
       "    }\n",
       "\n",
       "    .dataframe tbody tr th {\n",
       "        vertical-align: top;\n",
       "    }\n",
       "\n",
       "    .dataframe thead th {\n",
       "        text-align: right;\n",
       "    }\n",
       "</style>\n",
       "<table border=\"1\" class=\"dataframe\">\n",
       "  <thead>\n",
       "    <tr style=\"text-align: right;\">\n",
       "      <th></th>\n",
       "      <th>English</th>\n",
       "      <th>French</th>\n",
       "    </tr>\n",
       "  </thead>\n",
       "  <tbody>\n",
       "    <tr>\n",
       "      <th>0</th>\n",
       "      <td>resumption of the session</td>\n",
       "      <td>reprise de la session</td>\n",
       "    </tr>\n",
       "    <tr>\n",
       "      <th>1</th>\n",
       "      <td>i declare resumed the session of the european ...</td>\n",
       "      <td>je declare reprise la session du parlement eur...</td>\n",
       "    </tr>\n",
       "    <tr>\n",
       "      <th>2</th>\n",
       "      <td>although as you will have seen the dreaded mil...</td>\n",
       "      <td>comme vous avez pu le constater le grand bogue...</td>\n",
       "    </tr>\n",
       "    <tr>\n",
       "      <th>3</th>\n",
       "      <td>you have requested a debate on this subject in...</td>\n",
       "      <td>vous avez souhaite un debat a ce sujet dans le...</td>\n",
       "    </tr>\n",
       "    <tr>\n",
       "      <th>4</th>\n",
       "      <td>in the meantime i should like to observe a min...</td>\n",
       "      <td>en attendant je souhaiterais comme un certain ...</td>\n",
       "    </tr>\n",
       "  </tbody>\n",
       "</table>\n",
       "</div>"
      ]
     },
     "execution_count": 94,
     "metadata": {},
     "output_type": "execute_result"
    }
   ],
   "execution_count": 94
  },
  {
   "metadata": {
    "ExecuteTime": {
     "end_time": "2025-03-25T22:13:49.053050Z",
     "start_time": "2025-03-25T22:13:49.048709Z"
    }
   },
   "cell_type": "code",
   "source": [
    "# Display the last 5 rows of the DataFrame `data`.\n",
    "# This provides a quick view of the structure, data pattern, or potential irregularities \n",
    "# in the final rows of the dataset, ensuring the data integrity.\n",
    "data.tail()"
   ],
   "id": "bb3199a2dd70d270",
   "outputs": [
    {
     "data": {
      "text/plain": [
       "                                                   English French\n",
       "4151284  2143560,A carbon footprint is the amount of ca...    NaN\n",
       "4151285  2143561,\"Death is something that we're often d...    NaN\n",
       "4151286  2143562,\"Since there are usually multiple webs...    NaN\n",
       "4151287  2143563,\"If someone who doesn't know your back...    NaN\n",
       "4151288  2143564,\"It may be impossible to get a complet...    NaN"
      ],
      "text/html": [
       "<div>\n",
       "<style scoped>\n",
       "    .dataframe tbody tr th:only-of-type {\n",
       "        vertical-align: middle;\n",
       "    }\n",
       "\n",
       "    .dataframe tbody tr th {\n",
       "        vertical-align: top;\n",
       "    }\n",
       "\n",
       "    .dataframe thead th {\n",
       "        text-align: right;\n",
       "    }\n",
       "</style>\n",
       "<table border=\"1\" class=\"dataframe\">\n",
       "  <thead>\n",
       "    <tr style=\"text-align: right;\">\n",
       "      <th></th>\n",
       "      <th>English</th>\n",
       "      <th>French</th>\n",
       "    </tr>\n",
       "  </thead>\n",
       "  <tbody>\n",
       "    <tr>\n",
       "      <th>4151284</th>\n",
       "      <td>2143560,A carbon footprint is the amount of ca...</td>\n",
       "      <td>NaN</td>\n",
       "    </tr>\n",
       "    <tr>\n",
       "      <th>4151285</th>\n",
       "      <td>2143561,\"Death is something that we're often d...</td>\n",
       "      <td>NaN</td>\n",
       "    </tr>\n",
       "    <tr>\n",
       "      <th>4151286</th>\n",
       "      <td>2143562,\"Since there are usually multiple webs...</td>\n",
       "      <td>NaN</td>\n",
       "    </tr>\n",
       "    <tr>\n",
       "      <th>4151287</th>\n",
       "      <td>2143563,\"If someone who doesn't know your back...</td>\n",
       "      <td>NaN</td>\n",
       "    </tr>\n",
       "    <tr>\n",
       "      <th>4151288</th>\n",
       "      <td>2143564,\"It may be impossible to get a complet...</td>\n",
       "      <td>NaN</td>\n",
       "    </tr>\n",
       "  </tbody>\n",
       "</table>\n",
       "</div>"
      ]
     },
     "execution_count": 95,
     "metadata": {},
     "output_type": "execute_result"
    }
   ],
   "execution_count": 95
  },
  {
   "metadata": {
    "ExecuteTime": {
     "end_time": "2025-03-27T01:22:41.019740Z",
     "start_time": "2025-03-27T01:22:41.016720Z"
    }
   },
   "cell_type": "code",
   "source": [
    "# Check if a CUDA-enabled GPU is available; use CUDA if present, otherwise default to CPU\n",
    "device = torch.device('cuda' if torch.cuda.is_available() else 'cpu')\n",
    "\n",
    "# Display the device being used (either 'cuda' for GPU or 'cpu' for CPU)\n",
    "device"
   ],
   "id": "682aec2bf5adcc6a",
   "outputs": [
    {
     "data": {
      "text/plain": [
       "device(type='cpu')"
      ]
     },
     "execution_count": 3,
     "metadata": {},
     "output_type": "execute_result"
    }
   ],
   "execution_count": 3
  },
  {
   "metadata": {
    "ExecuteTime": {
     "end_time": "2025-03-27T01:22:43.739129Z",
     "start_time": "2025-03-27T01:22:43.736106Z"
    }
   },
   "cell_type": "code",
   "source": [
    "# Turn a Unicode string to plain ASCII by removing diacritics and normalizing\n",
    "# Reference: https://stackoverflow.com/a/518232/2809427\n",
    "def unicode_to_ascii(s):\n",
    "    # Normalize the string to 'NFD' form (separates base characters from their diacritical marks)\n",
    "    return ''.join(\n",
    "        c for c in unicodedata.normalize('NFD', s)\n",
    "        if unicodedata.category(c) != 'Mn'  # Remove characters categorized as 'Mn' (non-spacing marks)\n",
    "    )\n",
    "\n",
    "\n",
    "# Lowercase the string, trim extra spaces, and clean unwanted characters\n",
    "def normalize_string(s):\n",
    "    # Convert to lowercase and remove leading/trailing spaces\n",
    "    s = unicode_to_ascii(s.lower().strip())\n",
    "    # Add a space before punctuation (to maintain separation in tokenization)\n",
    "    s = re.sub(r\"([.!?])\", r\" \\1\", s)\n",
    "    # Remove all characters except alphabetic letters and select punctuation (!, ?)\n",
    "    s = re.sub(r\"[^a-zA-Z!?]+\", r\" \", s)\n",
    "    # Remove extra spaces caused by cleaning and return the trimmed string\n",
    "    return s.strip()"
   ],
   "id": "a159deda84f6890d",
   "outputs": [],
   "execution_count": 4
  },
  {
   "metadata": {
    "ExecuteTime": {
     "end_time": "2025-03-27T01:22:45.288209Z",
     "start_time": "2025-03-27T01:22:45.284868Z"
    }
   },
   "cell_type": "code",
   "source": [
    "SOS_token = 0\n",
    "EOS_token = 1\n",
    "\n",
    "\n",
    "class Lang:\n",
    "    \"\"\"\n",
    "    This class represents a language used in translation.\n",
    "    It maintains a vocabulary mapping words to unique indices, \n",
    "    counts their occurrences, and stores mappings for decoding.\n",
    "    \"\"\"\n",
    "\n",
    "    def __init__(self, name):\n",
    "        \"\"\"\n",
    "        Initializes the language object with empty vocabularies and special tokens.\n",
    "        Args:\n",
    "            name (str): The name of the language (e.g., 'English', 'French').\n",
    "        \"\"\"\n",
    "        self.name = name  # Name of the language.\n",
    "        self.word2index = {}  # Dictionary mapping words to unique indices.\n",
    "        self.word2count = {}  # Dictionary to count occurrences of words.\n",
    "        self.index2word = {0: \"SOS\", 1: \"EOS\"}  # Reverse dictionary for decoding.\n",
    "        self.n_words = 2  # Start the word count with SOS and EOS tokens.\n",
    "\n",
    "    def add_sentence(self, sentence):\n",
    "        \"\"\"\n",
    "        Adds all the words in a given sentence to the language's vocabulary.\n",
    "        Args:\n",
    "            sentence (str): A sentence to process and add.\n",
    "        \"\"\"\n",
    "        for word in sentence.split(' '):  # Split the sentence into individual words.\n",
    "            self.add_word(word)  # Add each word to the vocabulary.\n",
    "\n",
    "    def add_word(self, word):\n",
    "        \"\"\"\n",
    "        Adds a word to the language's vocabulary or increments its count if already present.\n",
    "        Args:\n",
    "            word (str): The word to process.\n",
    "        \"\"\"\n",
    "        if word not in self.word2index:  # Check if the word is not already in the vocabulary.\n",
    "            self.word2index[word] = self.n_words  # Assign a new unique index to the word.\n",
    "            self.word2count[word] = 1  # Initialize the word count as 1.\n",
    "            self.index2word[self.n_words] = word  # Update the reverse index for decoding.\n",
    "            self.n_words += 1  # Increment the total number of unique words.\n",
    "        else:\n",
    "            self.word2count[word] += 1  # Increment the count of the word if it exists."
   ],
   "id": "bf30ac6e36f0ab",
   "outputs": [],
   "execution_count": 5
  },
  {
   "metadata": {
    "ExecuteTime": {
     "end_time": "2025-03-27T01:22:46.044306Z",
     "start_time": "2025-03-27T01:22:46.041319Z"
    }
   },
   "cell_type": "code",
   "source": [
    "def read_langs(lang1, lang2, reverse=False):\n",
    "    \"\"\"\n",
    "    Reads and processes data from a file containing parallel text pairs for translation.\n",
    "    \n",
    "    Args:\n",
    "        lang1 (str): Name of the first language (e.g., 'eng' for English).\n",
    "        lang2 (str): Name of the second language (e.g., 'fra' for French).\n",
    "        reverse (bool): Whether to reverse the input-output language pair.\n",
    "\n",
    "    Returns:\n",
    "        tuple: A tuple containing input language object, output language object, and processed sentence pairs.\n",
    "    \"\"\"\n",
    "    print('Reading lines...')  # Log the start of data reading.\n",
    "\n",
    "    # Build the file path dynamically and read all lines from the dataset.\n",
    "    # Each line is expected to contain a tab-separated pair of sentences.\n",
    "    lines = open('data/%s-%s-2.txt' % (lang1, lang2), encoding='utf-8').read().strip().split('\\n')\n",
    "\n",
    "    # Split each line into a pair of sentences (separated by a tab) and normalize them.\n",
    "    pairs = [[normalize_string(s) for s in l.split('\\t')] for l in lines]\n",
    "\n",
    "    # If reverse is True, switch the order of languages (French to English instead of English to French).\n",
    "    if reverse:\n",
    "        # Reverse each sentence pair and set up reversed language instances.\n",
    "        pairs = [list(reversed(p)) for p in pairs]\n",
    "        input_lang = Lang(lang2)  # French becomes the input language.\n",
    "        output_lang = Lang(lang1)  # English becomes the output language.\n",
    "    else:\n",
    "        # Otherwise, maintain the default order of languages.\n",
    "        input_lang = Lang(lang1)  # English stays as the input language.\n",
    "        output_lang = Lang(lang2)  # French remains the output language.\n",
    "\n",
    "    # Return the created language objects and the processed sentence pairs.\n",
    "    return input_lang, output_lang, pairs"
   ],
   "id": "d79be65417e81de6",
   "outputs": [],
   "execution_count": 6
  },
  {
   "metadata": {
    "ExecuteTime": {
     "end_time": "2025-03-27T01:22:47.219070Z",
     "start_time": "2025-03-27T01:22:47.214816Z"
    }
   },
   "cell_type": "code",
   "source": [
    "# Define the maximum number of words a sentence can contain for filtering purposes\n",
    "MAX_LENGTH = 12\n",
    "\n",
    "# Define a tuple of English sentence prefixes commonly used for filtering sentence pairs\n",
    "eng_prefixes = (\n",
    "    \"i am \", \"i m \",  # Variations of \"I am\" formations\n",
    "    \"he is\", \"he s \",  # Variations of \"He is\"\n",
    "    \"she is\", \"she s \",  # Variations of \"She is\"\n",
    "    \"you are\", \"you re \",  # Variations of \"You are\"\n",
    "    \"we are\", \"we re \",  # Variations of \"We are\"\n",
    "    \"they are\", \"they re \",  # Variations of \"They are\"\n",
    "    \"I don t\", \"Do you\", \"I want\", \"Are you\", \"I have\", \"I think\",\n",
    "    # Common phrases used to filter English sentences\n",
    "    \"I can t\", \"I was\", \"He is\", \"I m not\", \"This is\", \"I just\", \"I didn t\",\n",
    "    \"I am\", \"I thought\", \"I know\", \"Tom is\", \"I had\", \"Did you\", \"Have you\",\n",
    "    \"Can you\", \"He was\", \"You don t\", \"I d like\", \"It was\", \"You should\",\n",
    "    \"Would you\", \"I like\", \"It is\", \"She is\", \"You can t\", \"He has\",\n",
    "    \"What do\", \"If you\", \"I need\", \"No one\", \"You are\", \"You have\",\n",
    "    \"I feel\", \"I really\", \"Why don t\", \"I hope\", \"I will\", \"We have\",\n",
    "    \"You re not\", \"You re very\", \"She was\", \"I love\", \"You must\", \"I can\"\n",
    ")\n",
    "\n",
    "\n",
    "# The eng_prefixes variable is used as a reference to quickly identify\n",
    "# and filter sentence pairs with meaningful English sentence structure.\n",
    "\n",
    "# eng_prefixes = (map(lambda x: x.lower(), eng_prefixes))  # Code to make all prefixes lowercase (if needed)\n",
    "# eng_prefixes = set(eng_prefixes)  # Code to convert prefixes to a set (if adjustments are required)\n",
    "\n",
    "def filter_pair(p):\n",
    "    \"\"\"\n",
    "    Apply filtering conditions on a single sentence pair.\n",
    "\n",
    "    Args:\n",
    "        p (list): A pair of sentences [input_sentence (str), output_sentence (str)].\n",
    "\n",
    "    Returns:\n",
    "        bool: True if conditions are met, False otherwise.\n",
    "    \"\"\"\n",
    "    # Ensure the pair has at least two elements before processing\n",
    "    if len(p) < 2:\n",
    "        return False  # Reject malformed pairs\n",
    "    # Ensure sentences in the pair have fewer words than MAX_LENGTH and\n",
    "    # the output sentence starts with a prefix from eng_prefixes\n",
    "    return len(p[0].split(' ')) < MAX_LENGTH and \\\n",
    "        len(p[1].split(' ')) < MAX_LENGTH and \\\n",
    "        p[1].startswith(eng_prefixes)\n",
    "\n",
    "\n",
    "def filter_pairs(pairs):\n",
    "    \"\"\"\n",
    "    Filter a list of sentence pairs based on specific conditions.\n",
    "\n",
    "    Args:\n",
    "        pairs (list of lists): List of sentence pairs.\n",
    "\n",
    "    Returns:\n",
    "        list: A filtered list of sentence pairs meeting the conditions.\n",
    "    \"\"\"\n",
    "    # Apply the filter_pair function to each pair and return only valid pairs\n",
    "    return [pair for pair in pairs if filter_pair(pair)]\n",
    "\n",
    "\n",
    "# Output or inspect the defined `eng_prefixes` if required\n",
    "eng_prefixes"
   ],
   "id": "c126eccd3bfc578d",
   "outputs": [
    {
     "data": {
      "text/plain": [
       "('i am ',\n",
       " 'i m ',\n",
       " 'he is',\n",
       " 'he s ',\n",
       " 'she is',\n",
       " 'she s ',\n",
       " 'you are',\n",
       " 'you re ',\n",
       " 'we are',\n",
       " 'we re ',\n",
       " 'they are',\n",
       " 'they re ',\n",
       " 'I don t',\n",
       " 'Do you',\n",
       " 'I want',\n",
       " 'Are you',\n",
       " 'I have',\n",
       " 'I think',\n",
       " 'I can t',\n",
       " 'I was',\n",
       " 'He is',\n",
       " 'I m not',\n",
       " 'This is',\n",
       " 'I just',\n",
       " 'I didn t',\n",
       " 'I am',\n",
       " 'I thought',\n",
       " 'I know',\n",
       " 'Tom is',\n",
       " 'I had',\n",
       " 'Did you',\n",
       " 'Have you',\n",
       " 'Can you',\n",
       " 'He was',\n",
       " 'You don t',\n",
       " 'I d like',\n",
       " 'It was',\n",
       " 'You should',\n",
       " 'Would you',\n",
       " 'I like',\n",
       " 'It is',\n",
       " 'She is',\n",
       " 'You can t',\n",
       " 'He has',\n",
       " 'What do',\n",
       " 'If you',\n",
       " 'I need',\n",
       " 'No one',\n",
       " 'You are',\n",
       " 'You have',\n",
       " 'I feel',\n",
       " 'I really',\n",
       " 'Why don t',\n",
       " 'I hope',\n",
       " 'I will',\n",
       " 'We have',\n",
       " 'You re not',\n",
       " 'You re very',\n",
       " 'She was',\n",
       " 'I love',\n",
       " 'You must',\n",
       " 'I can')"
      ]
     },
     "execution_count": 7,
     "metadata": {},
     "output_type": "execute_result"
    }
   ],
   "execution_count": 7
  },
  {
   "metadata": {
    "ExecuteTime": {
     "end_time": "2025-03-27T01:26:22.828459Z",
     "start_time": "2025-03-27T01:25:32.352439Z"
    }
   },
   "cell_type": "code",
   "source": [
    "def prepare_data(lang1, lang2, reverse=False):\n",
    "    \"\"\"\n",
    "    Prepare data for training by reading, processing, filtering, and summarizing the input and output language data.\n",
    "\n",
    "    Args:\n",
    "        lang1 (str): Name of the first language (e.g., 'eng' for English).\n",
    "        lang2 (str): Name of the second language (e.g., 'fra' for French).\n",
    "        reverse (bool): Whether to reverse the input-output language pair for translation.\n",
    "\n",
    "    Returns:\n",
    "        tuple: A tuple containing input language object, output language object, and filtered sentence pairs.\n",
    "    \"\"\"\n",
    "    # Read and process data into sentence pairs, and reverse the language order if specified\n",
    "    input_lang, output_lang, pairs = read_langs(lang1, lang2, reverse)\n",
    "    # Print the total number of sentence pairs read from the file\n",
    "    print(f'Read {len(pairs)} sentence pairs')\n",
    "\n",
    "    # Filter out invalid or unwanted sentence pairs based on specific conditions\n",
    "    pairs = filter_pairs(pairs)\n",
    "    # Print the number of sentence pairs remaining after filtering\n",
    "    print(f'Trimmed to {len(pairs)} sentence pairs')\n",
    "\n",
    "    # Initialize word counting to build vocabularies for input and output languages\n",
    "    print('Counting words...')\n",
    "    for pair in pairs:\n",
    "        # Add each word in the input sentence to the input language vocabulary\n",
    "        input_lang.add_sentence(pair[0])\n",
    "        # Add each word in the output sentence to the output language vocabulary\n",
    "        output_lang.add_sentence(pair[1])\n",
    "\n",
    "    # Print the total word count and language names after processing\n",
    "    print('Counted words:')\n",
    "    print(input_lang.name, input_lang.n_words)  # Display input language name and word count\n",
    "    print(output_lang.name, output_lang.n_words)  # Display output language name and word count\n",
    "\n",
    "    # Return the input language, output language, and the filtered sentence pairs\n",
    "    return input_lang, output_lang, pairs\n",
    "\n",
    "\n",
    "# Call the prepare_data function to process English ('eng') and French ('fra') text data\n",
    "# with French as the input and English as the output by reversing the language pair order\n",
    "input_lang, output_lang, pairs = prepare_data('eng', 'fra', True)\n",
    "\n",
    "# Randomly select and print one filtered pair of sentences for verification\n",
    "print(random.choice(pairs))"
   ],
   "id": "30dbb1751c73d0c8",
   "outputs": [
    {
     "name": "stdout",
     "output_type": "stream",
     "text": [
      "Reading lines...\n",
      "Read 2143565 sentence pairs\n",
      "Trimmed to 19615 sentence pairs\n",
      "Counting words...\n",
      "Counted words:\n",
      "fra 9966\n",
      "eng 7004\n",
      "['je suis tellement desole !', 'i m so sorry']\n"
     ]
    }
   ],
   "execution_count": 11
  },
  {
   "metadata": {
    "ExecuteTime": {
     "end_time": "2025-03-27T01:26:25.854467Z",
     "start_time": "2025-03-27T01:26:25.852038Z"
    }
   },
   "cell_type": "code",
   "source": [
    "class EncoderRNN(nn.Module):\n",
    "    \"\"\"\n",
    "    An encoder RNN that converts a sequence of input tokens into \n",
    "    a fixed-size vector representation. It uses GRU (Gated Recurrent Unit) \n",
    "    as the recurrent architecture with an embedding layer.\n",
    "    \"\"\"\n",
    "\n",
    "    def __init__(self, input_size, hidden_size, dropout_p=0.1):\n",
    "        \"\"\"\n",
    "        Initializes the EncoderRNN.\n",
    "\n",
    "        Args:\n",
    "            input_size (int): The size of the vocabulary for the input language.\n",
    "            hidden_size (int): The number of units in the hidden layers of the GRU.\n",
    "            dropout_p (float): Dropout probability for the embedding layer.\n",
    "        \"\"\"\n",
    "        super(EncoderRNN, self).__init__()  # Initialize the nn.Module base class\n",
    "        self.hidden_size = hidden_size  # Store the hidden layer size\n",
    "\n",
    "        # Embedding layer that converts input tokens (word indices) into dense vectors\n",
    "        self.embedding = nn.Embedding(input_size, hidden_size)\n",
    "\n",
    "        # GRU layer for processing sequential input data\n",
    "        # Input and hidden sizes are both equal to hidden_size\n",
    "        self.gru = nn.GRU(hidden_size, hidden_size, batch_first=True)\n",
    "\n",
    "        # Dropout layer applied to the embedding to prevent overfitting\n",
    "        self.dropout = nn.Dropout(dropout_p)\n",
    "\n",
    "    def forward(self, input):\n",
    "        \"\"\"\n",
    "        Forward pass through the encoder.\n",
    "\n",
    "        Args:\n",
    "            input (Tensor): A tensor of shape (batch_size, seq_length) containing \n",
    "                            the indices of input words.\n",
    "\n",
    "        Returns:\n",
    "            output (Tensor): A tensor of shape (batch_size, seq_length, hidden_size)\n",
    "                             containing the GRU outputs for all time steps.\n",
    "            hidden (Tensor): A tensor of shape (1, batch_size, hidden_size) representing\n",
    "                             the final hidden state of the GRU.\n",
    "        \"\"\"\n",
    "        # Pass the input through the embedding layer and apply dropout\n",
    "        embedded = self.dropout(self.embedding(input))\n",
    "\n",
    "        # Process the embedded inputs through the GRU\n",
    "        output, hidden = self.gru(embedded)\n",
    "\n",
    "        # Return GRU outputs and the final hidden state\n",
    "        return output, hidden"
   ],
   "id": "fffae66e7257a18a",
   "outputs": [],
   "execution_count": 12
  },
  {
   "metadata": {
    "ExecuteTime": {
     "end_time": "2025-03-27T01:26:26.485103Z",
     "start_time": "2025-03-27T01:26:26.480920Z"
    }
   },
   "cell_type": "code",
   "source": [
    "class DecoderRNN(nn.Module):\n",
    "    \"\"\"\n",
    "    A Decoder RNN for sequence-to-sequence tasks, such as language translation, \n",
    "    that takes encoded representations of input sequences and produces output sequences.\n",
    "    This decoder includes an embedding layer, a GRU-based recurrent layer, \n",
    "    and a fully connected output layer.\n",
    "    \"\"\"\n",
    "\n",
    "    def __init__(self, hidden_size, output_size):\n",
    "        \"\"\"\n",
    "        Initialize the decoder's network structure.\n",
    "        \n",
    "        Args:\n",
    "            hidden_size (int): The size of the hidden state in the GRU.\n",
    "            output_size (int): The size of the target vocabulary.\n",
    "        \"\"\"\n",
    "        # Initialize the base class (nn.Module) constructor\n",
    "        super(DecoderRNN, self).__init__()\n",
    "\n",
    "        # Embedding layer to convert output tokens into dense vector representations\n",
    "        self.embedding = nn.Embedding(output_size, hidden_size)\n",
    "\n",
    "        # A GRU layer to process sequential data, where both input and hidden sizes are equal to hidden_size\n",
    "        self.gru = nn.GRU(hidden_size, hidden_size, batch_first=True)\n",
    "\n",
    "        # A fully connected layer to map GRU outputs to vocabulary predictions\n",
    "        self.out = nn.Linear(hidden_size, output_size)\n",
    "\n",
    "    def forward(self, encoder_outputs, encoder_hidden, target_tensor=None):\n",
    "        \"\"\"\n",
    "        Perform the forward pass for the decoder, generating outputs step by step.\n",
    "    \n",
    "        Args:\n",
    "            encoder_outputs (Tensor): Unused in this vanilla decoder; reserved for attention mechanism.\n",
    "            encoder_hidden (Tensor): The last hidden state from the encoder (used to initialize the decoder hidden state).\n",
    "            target_tensor (Tensor, optional): Target outputs for teacher forcing. Defaults to None.\n",
    "    \n",
    "        Returns:\n",
    "            decoder_outputs (Tensor): Predicted token probabilities for each time step.\n",
    "            decoder_hidden (Tensor): The final hidden state of the decoder.\n",
    "            None: Placeholder for consistency in training with attention-based models.\n",
    "        \"\"\"\n",
    "        # Retrieve the batch size from encoder outputs\n",
    "        batch_size = encoder_outputs.size(0)\n",
    "\n",
    "        # Initialize the decoder input with the SOS token for all sequences in the batch\n",
    "        decoder_input = torch.empty(batch_size, 1, dtype=torch.long, device=device).fill_(SOS_token)\n",
    "\n",
    "        # Initialize the hidden state of the decoder with the final encoder hidden state\n",
    "        decoder_hidden = encoder_hidden\n",
    "\n",
    "        # Placeholder list to store the outputs for each time step\n",
    "        decoder_outputs = []\n",
    "\n",
    "        # Loop through each time step up to the maximum sequence length\n",
    "        for i in range(MAX_LENGTH):\n",
    "            # Perform a single decoding step (forward_step processes one token at a time)\n",
    "            decoder_output, decoder_hidden = self.forward_step(decoder_input, decoder_hidden)\n",
    "\n",
    "            # Append the predicted outputs for the current time step\n",
    "            decoder_outputs.append(decoder_output)\n",
    "\n",
    "            if target_tensor is not None:\n",
    "                # Teacher forcing: Use the corresponding token from the target tensor as the next input\n",
    "                decoder_input = target_tensor[:, i].unsqueeze(1)  # Ensure the correct shape\n",
    "            else:\n",
    "                # Without teacher forcing: Use the most probable output token as the next input\n",
    "                _, topi = decoder_output.topk(1)  # Extract the token index with the highest probability\n",
    "                decoder_input = topi.squeeze(-1).detach()  # Detach from the computation graph\n",
    "\n",
    "        # Concatenate the outputs from all time steps to form a batch-level tensor\n",
    "        decoder_outputs = torch.cat(decoder_outputs, dim=1)\n",
    "\n",
    "        # Apply log softmax to the outputs to produce log probabilities for each token\n",
    "        decoder_outputs = F.log_softmax(decoder_outputs, dim=-1)\n",
    "\n",
    "        # Return the predicted outputs, the final hidden state, and `None` (reserved for attention weights)\n",
    "        return decoder_outputs, decoder_hidden, None\n",
    "\n",
    "    def forward_step(self, input, hidden):\n",
    "        \"\"\"\n",
    "        Perform a single time step of decoding.\n",
    "    \n",
    "        Args:\n",
    "            input (Tensor): The current input token(s) represented as word indices (batch_size x 1).\n",
    "            hidden (Tensor): The current hidden state of the decoder (1, batch_size, hidden_size).\n",
    "    \n",
    "        Returns:\n",
    "            output (Tensor): The raw output predictions for the current time step (batch_size x 1 x output_size).\n",
    "            hidden (Tensor): The updated hidden state for the next time step (1, batch_size, hidden_size).\n",
    "        \"\"\"\n",
    "        # Pass the input token through the embedding layer to get its dense vector representation\n",
    "        output = self.embedding(input)\n",
    "\n",
    "        # Apply a ReLU activation function to introduce non-linearity\n",
    "        output = F.relu(output)\n",
    "\n",
    "        # Pass the processed input and current hidden state into the GRU\n",
    "        output, hidden = self.gru(output, hidden)\n",
    "\n",
    "        # Map the GRU output to the target vocabulary space using a linear layer\n",
    "        output = self.out(output)\n",
    "\n",
    "        return output, hidden"
   ],
   "id": "6c1c1069a3bd53b1",
   "outputs": [],
   "execution_count": 13
  },
  {
   "metadata": {
    "ExecuteTime": {
     "end_time": "2025-03-27T01:26:27.790660Z",
     "start_time": "2025-03-27T01:26:27.787872Z"
    }
   },
   "cell_type": "code",
   "source": [
    "class BahdanauAttention(nn.Module):\n",
    "    \"\"\"\n",
    "    Implements Bahdanau (Additive) Attention mechanism for aligning the decoder's current \n",
    "    hidden state (query) with the encoder's hidden states (keys) to calculate a context vector.\n",
    "\n",
    "    This module computes alignment scores for the keys using the query and produces:\n",
    "    1. Attention weights: probabilities indicating relevance of each key to the given query.\n",
    "    2. Context vector: weighted sum of the keys guided by the attention scores.\n",
    "    \"\"\"\n",
    "\n",
    "    def __init__(self, hidden_size):\n",
    "        \"\"\"\n",
    "        Initializes the attention mechanism with linear layers for transformation.\n",
    "\n",
    "        Args:\n",
    "            hidden_size (int): Dimensionality of the hidden states (query and keys).\n",
    "        \"\"\"\n",
    "        super(BahdanauAttention, self).__init__()\n",
    "        # Linear layer to transform the query vector.\n",
    "        self.Wa = nn.Linear(hidden_size, hidden_size)\n",
    "\n",
    "        # Linear layer to transform each key in the set of keys (encoder outputs).\n",
    "        self.Ua = nn.Linear(hidden_size, hidden_size)\n",
    "\n",
    "        # Linear layer to compute the alignment scores.\n",
    "        # Outputs a scalar score for each query-key pair.\n",
    "        self.Va = nn.Linear(hidden_size, 1)\n",
    "\n",
    "    def forward(self, query, keys):\n",
    "        \"\"\"\n",
    "        Computes the attention scores, weights, and resulting context vector.\n",
    "\n",
    "        Args:\n",
    "            query (Tensor): Decoder's hidden state [batch_size, 1, hidden_size].\n",
    "            keys (Tensor): Encoder's output states [batch_size, seq_length, hidden_size].\n",
    "\n",
    "        Returns:\n",
    "            context (Tensor): Context vector weighted by attention [batch_size, 1, hidden_size].\n",
    "            weights (Tensor): Attention weights [batch_size, 1, seq_length].\n",
    "        \"\"\"\n",
    "        # Compute unnormalized alignment scores:\n",
    "        # - Transform the query using Wa.\n",
    "        # - Transform the keys using Ua.\n",
    "        # - Sum the resulting vectors and apply the tanh activation.\n",
    "        # - Finally, pass the result through Va to get scalar scores for each key.\n",
    "        scores = self.Va(torch.tanh(self.Wa(query) + self.Ua(keys)))\n",
    "\n",
    "        # Reshape scores for compatibility:\n",
    "        # - Remove the last dimension (size 1) after Va and add one at index 1 for batching.\n",
    "        scores = scores.squeeze(2).unsqueeze(1)\n",
    "\n",
    "        # Compute normalized attention weights using softmax along the sequence length.\n",
    "        weights = F.softmax(scores, dim=-1)\n",
    "\n",
    "        # Compute the context vector as the weighted sum of keys:\n",
    "        # - Perform batch matrix-multiplication of weights and keys.\n",
    "        context = torch.bmm(weights, keys)\n",
    "\n",
    "        # Return the context vector and the attention weights.\n",
    "        return context, weights"
   ],
   "id": "3bf261076edff379",
   "outputs": [],
   "execution_count": 14
  },
  {
   "metadata": {
    "ExecuteTime": {
     "end_time": "2025-03-27T01:26:32.177537Z",
     "start_time": "2025-03-27T01:26:32.173047Z"
    }
   },
   "cell_type": "code",
   "source": [
    "class AttnDecoderRNN(nn.Module):\n",
    "    def __init__(self, hidden_size, output_size, dropout_p=0.1):\n",
    "        \"\"\"\n",
    "        Initializes the attention-based RNN decoder with embedding, attention, GRU, and output layers.\n",
    "\n",
    "        Args:\n",
    "            hidden_size (int): Dimensionality of the hidden state in the GRU.\n",
    "            output_size (int): Size of the target vocabulary.\n",
    "            dropout_p (float): Dropout probability for embedding layer to prevent overfitting.\n",
    "        \"\"\"\n",
    "        super(AttnDecoderRNN, self).__init__()\n",
    "        # Embedding layer maps output token indices to dense vector representations (hidden_size).\n",
    "        self.embedding = nn.Embedding(output_size, hidden_size)\n",
    "        # Attention layer computes context vectors by aligning decoder queries with encoder outputs.\n",
    "        self.attention = BahdanauAttention(hidden_size)\n",
    "        # GRU processes combined embeddings and context vectors to produce new hidden states.\n",
    "        self.gru = nn.GRU(2 * hidden_size, hidden_size, batch_first=True)\n",
    "        # Fully connected layer maps hidden states to predicted token probabilities in the output space.\n",
    "        self.out = nn.Linear(hidden_size, output_size)\n",
    "        # Dropout layer prevents overfitting by randomly zeroing some embedding components.\n",
    "        self.dropout = nn.Dropout(dropout_p)\n",
    "\n",
    "    def forward(self, encoder_outputs, encoder_hidden, target_tensor=None):\n",
    "        \"\"\"\n",
    "        Performs a forward pass through the decoder for generating outputs.\n",
    "\n",
    "        Args:\n",
    "            encoder_outputs (Tensor): Encoder's output states [batch_size, seq_length, hidden_size].\n",
    "            encoder_hidden (Tensor): Encoder's final hidden state [1, batch_size, hidden_size].\n",
    "            target_tensor (Tensor, optional): Ground-truth target sequences for teacher forcing. Defaults to None.\n",
    "\n",
    "        Returns:\n",
    "            decoder_outputs (Tensor): Log probabilities of predicted tokens for each time step.\n",
    "            decoder_hidden (Tensor): The final hidden state of the decoder after decoding all steps.\n",
    "            attentions (Tensor): Attention weights for all time steps [batch_size, seq_length, MAX_LENGTH].\n",
    "        \"\"\"\n",
    "        batch_size = encoder_outputs.size(0)  # Get the batch size from encoder outputs.\n",
    "        # Initialize the decoder's input with the <SOS> token for all sequences in the batch.\n",
    "        decoder_input = torch.empty(batch_size, 1, dtype=torch.long, device=device).fill_(SOS_token)\n",
    "        # Initialize the decoder's hidden state with the encoder's final hidden state.\n",
    "        decoder_hidden = encoder_hidden\n",
    "        # Lists to store the decoder's output predictions and attention weights at each time step.\n",
    "        decoder_outputs = []\n",
    "        attentions = []\n",
    "\n",
    "        # Iterate over the maximum decoding length (MAX_LENGTH) to generate outputs step by step.\n",
    "        for i in range(MAX_LENGTH):\n",
    "            # Perform one decoding step to generate the current output and hidden state.\n",
    "            decoder_output, decoder_hidden, attn_weights = self.forward_step(\n",
    "                decoder_input, decoder_hidden, encoder_outputs\n",
    "            )\n",
    "            # Store the output prediction for the current time step.\n",
    "            decoder_outputs.append(decoder_output)\n",
    "            # Store the attention weights for the current time step.\n",
    "            attentions.append(attn_weights)\n",
    "\n",
    "            if target_tensor is not None:\n",
    "                # Teacher forcing mode: Use the target token as the input for the next time step.\n",
    "                decoder_input = target_tensor[:, i].unsqueeze(1)  # Reshape to [batch_size, 1].\n",
    "            else:\n",
    "                # Without teacher forcing: Use the decoder's predicted token as the next input.\n",
    "                _, topi = decoder_output.topk(1)  # Get the token with the highest probability.\n",
    "                decoder_input = topi.squeeze(\n",
    "                    -1).detach()  # Detach from computation graph to avoid backprop through history.\n",
    "\n",
    "        # Concatenate all time step outputs into a single tensor [batch_size, MAX_LENGTH, output_size].\n",
    "        decoder_outputs = torch.cat(decoder_outputs, dim=1)\n",
    "        # Apply log softmax to the outputs to calculate log probabilities for each token.\n",
    "        decoder_outputs = F.log_softmax(decoder_outputs, dim=-1)\n",
    "        # Concatenate the attention weights for all time steps [batch_size, MAX_LENGTH, seq_length].\n",
    "        attentions = torch.cat(attentions, dim=1)\n",
    "\n",
    "        return decoder_outputs, decoder_hidden, attentions\n",
    "\n",
    "    def forward_step(self, input, hidden, encoder_outputs):\n",
    "        \"\"\"\n",
    "        Performs a single decoding step to generate the next token and update the hidden state.\n",
    "\n",
    "        Args:\n",
    "            input (Tensor): The current input token indices [batch_size, 1].\n",
    "            hidden (Tensor): The current hidden state of the decoder [1, batch_size, hidden_size].\n",
    "            encoder_outputs (Tensor): The encoder's output states [batch_size, seq_length, hidden_size].\n",
    "\n",
    "        Returns:\n",
    "            output (Tensor): Raw logits for the current time step [batch_size, 1, output_size].\n",
    "            hidden (Tensor): Updated hidden state of the decoder [1, batch_size, hidden_size].\n",
    "            attn_weights (Tensor): Attention weights for the current key-query pair [batch_size, 1, seq_length].\n",
    "        \"\"\"\n",
    "        # Pass the current input token through the embedding layer and apply dropout.\n",
    "        embedded = self.dropout(self.embedding(input))\n",
    "\n",
    "        # Transform the hidden state into a query for computing attention over encoder outputs.\n",
    "        query = hidden.permute(1, 0, 2)  # Reshape hidden state to [batch_size, 1, hidden_size].\n",
    "        # Compute the context vector and attention weights using Bahdanau attention.\n",
    "        context, attn_weights = self.attention(query, encoder_outputs)\n",
    "        # Concatenate the embeddings and context vector along the feature dimension.\n",
    "        input_gru = torch.cat((embedded, context), dim=2)\n",
    "\n",
    "        # Pass the concatenated input through the GRU to compute the next hidden state.\n",
    "        output, hidden = self.gru(input_gru, hidden)\n",
    "        # Map the GRU output to the output vocabulary using the fully connected layer.\n",
    "        output = self.out(output)\n",
    "\n",
    "        return output, hidden, attn_weights"
   ],
   "id": "62c60b726ac674e0",
   "outputs": [],
   "execution_count": 15
  },
  {
   "metadata": {
    "ExecuteTime": {
     "end_time": "2025-03-27T01:26:39.087920Z",
     "start_time": "2025-03-27T01:26:39.085034Z"
    }
   },
   "cell_type": "code",
   "source": [
    "def indexes_from_sentence(lang, sentence):\n",
    "    \"\"\"\n",
    "    Converts a sentence into a list of word indices based on the given language's vocabulary.\n",
    "\n",
    "    Args:\n",
    "        lang (Lang): Language object containing word-to-index mapping.\n",
    "        sentence (str): Input sentence as a string.\n",
    "\n",
    "    Returns:\n",
    "        list: List of word indices for words in the sentence.\n",
    "    \"\"\"\n",
    "    # Split the sentence into words and convert each word to its corresponding index.\n",
    "    return [lang.word2index[word] for word in sentence.split(' ')]\n",
    "\n",
    "\n",
    "def tensor_from_sentence(lang, sentence):\n",
    "    \"\"\"\n",
    "    Converts a sentence into a PyTorch tensor representation with the EOS token.\n",
    "\n",
    "    Args:\n",
    "        lang (Lang): Language object containing word-to-index mapping.\n",
    "        sentence (str): Input sentence as a string.\n",
    "\n",
    "    Returns:\n",
    "        Tensor: Tensor of word indices for the sentence, including the EOS token.\n",
    "    \"\"\"\n",
    "    # Get the indices for the words in the sentence.\n",
    "    indexes = indexes_from_sentence(lang, sentence)\n",
    "    # Add the end-of-sequence (EOS) token to the indices list.\n",
    "    indexes.append(EOS_token)\n",
    "    # Convert the list of indices into a PyTorch tensor and reshape to (1, sequence_length).\n",
    "    return torch.tensor(indexes, dtype=torch.long, device=device).view(1, -1)\n",
    "\n",
    "\n",
    "def tensors_from_pair(pair):\n",
    "    \"\"\"\n",
    "    Converts a pair of sentences into corresponding tensor representations.\n",
    "\n",
    "    Args:\n",
    "        pair (tuple): A pair of sentences (input_sentence, target_sentence).\n",
    "\n",
    "    Returns:\n",
    "        tuple: A tuple containing the input sentence tensor and the target sentence tensor.\n",
    "    \"\"\"\n",
    "    # Convert the input and target sentences into PyTorch tensors.\n",
    "    input_tensor = tensor_from_sentence(input_lang, pair[0])\n",
    "    target_tensor = tensor_from_sentence(output_lang, pair[1])\n",
    "    return (input_tensor, target_tensor)\n",
    "\n",
    "\n",
    "def get_dataloader(batch_size):\n",
    "    \"\"\"\n",
    "    Prepares a DataLoader for training with batched input and target tensors.\n",
    "\n",
    "    Args:\n",
    "        batch_size (int): Number of training samples per batch.\n",
    "\n",
    "    Returns:\n",
    "        tuple: Input language, output language, and the DataLoader instance.\n",
    "    \"\"\"\n",
    "    # Prepare the English-French dataset and retrieve language objects and sentence pairs.\n",
    "    input_lang, output_lang, pairs = prepare_data('eng', 'fra', True)\n",
    "\n",
    "    # Get the total number of sentence pairs.\n",
    "    n = len(pairs)\n",
    "\n",
    "    # Initialize zero-filled arrays for input and target sequences with fixed length.\n",
    "    input_ids = np.zeros((n, MAX_LENGTH), dtype=np.int32)\n",
    "    target_ids = np.zeros((n, MAX_LENGTH), dtype=np.int32)\n",
    "\n",
    "    # Convert each sentence pair into indices and populate the input and target arrays.\n",
    "    for idx, (inp, tgt) in enumerate(pairs):\n",
    "        # Convert input and target sentences into lists of word indices.\n",
    "        inp_ids = indexes_from_sentence(input_lang, inp)\n",
    "        tgt_ids = indexes_from_sentence(output_lang, tgt)\n",
    "        # Add the EOS token to mark the end of sequences.\n",
    "        inp_ids.append(EOS_token)\n",
    "        tgt_ids.append(EOS_token)\n",
    "        # Fill the respective positions in the input and target arrays.\n",
    "        input_ids[idx, :len(inp_ids)] = inp_ids\n",
    "        target_ids[idx, :len(tgt_ids)] = tgt_ids\n",
    "\n",
    "    # Create a TensorDataset from the input and target tensors.\n",
    "    train_data = TensorDataset(torch.LongTensor(input_ids).to(device), torch.LongTensor(target_ids).to(device))\n",
    "\n",
    "    # Use a RandomSampler to shuffle the dataset during each iteration.\n",
    "    train_sampler = RandomSampler(train_data)\n",
    "    # Create a DataLoader that batches the data for training.\n",
    "    train_dataloader = DataLoader(train_data, sampler=train_sampler, batch_size=batch_size)\n",
    "\n",
    "    # Return the input language, output language, and DataLoader instance.\n",
    "    return input_lang, output_lang, train_dataloader"
   ],
   "id": "97d04c11c6f7bbb1",
   "outputs": [],
   "execution_count": 16
  },
  {
   "metadata": {
    "ExecuteTime": {
     "end_time": "2025-03-27T01:26:40.187126Z",
     "start_time": "2025-03-27T01:26:40.184661Z"
    }
   },
   "cell_type": "code",
   "source": [
    "def train_epoch(dataloader, encoder, decoder, encoder_optimizer,\n",
    "                decoder_optimizer, criterion):\n",
    "    # Initialize the total loss for the epoch\n",
    "    total_loss = 0\n",
    "\n",
    "    # Iterate through each batch of data provided by the DataLoader\n",
    "    for data in dataloader:\n",
    "        # Extract input and target tensors from the current batch\n",
    "        input_tensor, target_tensor = data\n",
    "\n",
    "        # Reset the gradients of the optimizers for encoder and decoder\n",
    "        encoder_optimizer.zero_grad()\n",
    "        decoder_optimizer.zero_grad()\n",
    "\n",
    "        # Forward pass through the encoder to obtain outputs and final hidden state\n",
    "        encoder_outputs, encoder_hidden = encoder(input_tensor)\n",
    "\n",
    "        # Forward pass through the decoder using the encoder's outputs and hidden state\n",
    "        # Teacher forcing is applied by passing the target tensor to the decoder\n",
    "        decoder_outputs, _, _ = decoder(encoder_outputs, encoder_hidden, target_tensor)\n",
    "\n",
    "        # Calculate the loss between predicted decoder outputs and target tensor\n",
    "        loss = criterion(\n",
    "            decoder_outputs.view(-1, decoder_outputs.size(-1)),  # Reshape decoder outputs\n",
    "            target_tensor.view(-1)  # Reshape target tensor\n",
    "        )\n",
    "\n",
    "        # Backward pass: calculate gradients for all model parameters\n",
    "        loss.backward()\n",
    "\n",
    "        # Update encoder and decoder weights using their respective optimizers\n",
    "        encoder_optimizer.step()\n",
    "        decoder_optimizer.step()\n",
    "\n",
    "        # Accumulate the total loss for the epoch\n",
    "        total_loss += loss.item()\n",
    "\n",
    "    # Return the average loss over all batches in the epoch\n",
    "    return total_loss / len(dataloader)"
   ],
   "id": "3b12f7bde872ce1d",
   "outputs": [],
   "execution_count": 17
  },
  {
   "metadata": {
    "ExecuteTime": {
     "end_time": "2025-03-27T01:26:42.873485Z",
     "start_time": "2025-03-27T01:26:42.870832Z"
    }
   },
   "cell_type": "code",
   "source": [
    "import time\n",
    "import math\n",
    "\n",
    "\n",
    "def convert_seconds_to_minutes(s):\n",
    "    \"\"\"\n",
    "    Convert seconds to a minutes and seconds formatted string.\n",
    "    \n",
    "    Args:\n",
    "        s (int/float): Time duration in seconds.\n",
    "    \n",
    "    Returns:\n",
    "        str: Formatted string in the format 'Xm Ys'.\n",
    "    \"\"\"\n",
    "    m = math.floor(s / 60)  # Calculate the total minutes by dividing seconds by 60.\n",
    "    s -= m * 60  # Calculate the remaining seconds after extracting minutes.\n",
    "    return '%dm %ds' % (m, s)  # Return a string formatted as 'Xm Ys'.\n",
    "\n",
    "\n",
    "def time_since(since, percent):\n",
    "    \"\"\"\n",
    "    Calculate and display elapsed time and the estimated remaining time for a process.\n",
    "    \n",
    "    Args:\n",
    "        since (float): The start time in seconds (obtained with time.time()).\n",
    "        percent (float): A percentage value (between 0 and 1) indicating progress of the process.\n",
    "        \n",
    "    Returns:\n",
    "        str: A string showing time passed and estimated remaining time in the format \n",
    "             'time_passed (- estimated_remaining_time)'.\n",
    "    \"\"\"\n",
    "    now = time.time()  # Get the current time in seconds.\n",
    "    s = now - since  # Calculate the elapsed time by subtracting the start time.\n",
    "    es = s / percent  # Estimate the total time by dividing elapsed time by completion percent.\n",
    "    rs = es - s  # Compute the remaining time required for the process to complete.\n",
    "    return '%s (- %s)' % (convert_seconds_to_minutes(s), convert_seconds_to_minutes(rs))  # Format output."
   ],
   "id": "b84eba05e93bf84e",
   "outputs": [],
   "execution_count": 18
  },
  {
   "metadata": {
    "ExecuteTime": {
     "end_time": "2025-03-27T01:26:44.357532Z",
     "start_time": "2025-03-27T01:26:44.354214Z"
    }
   },
   "cell_type": "code",
   "source": [
    "def train(train_dataloader, encoder, decoder, n_epochs, learning_rate=0.001,\n",
    "          print_every=100, plot_every=100):\n",
    "    \"\"\"\n",
    "    Trains the given encoder and decoder models over multiple epochs while logging the loss \n",
    "    and generating a plot of loss trends over time.\n",
    "\n",
    "    Args:\n",
    "        train_dataloader (DataLoader): DataLoader for training data batches (input-output pairs).\n",
    "        encoder (nn.Module): Encoder RNN model for processing input sequences.\n",
    "        decoder (nn.Module): Decoder RNN model for generating output sequences.\n",
    "        n_epochs (int): Number of training iterations (epochs) on the dataset.\n",
    "        learning_rate (float): Learning rate for the optimizer. Default is 0.001.\n",
    "        print_every (int): Frequency (in terms of epochs) of printing loss to the console. Default is 100.\n",
    "        plot_every (int): Frequency (in terms of epochs) of recording loss for plotting. Default is 100.\n",
    "    \"\"\"\n",
    "    start = time.time()  # Record the starting time to calculate elapsed time.\n",
    "    plot_losses = []  # List to store losses to visualize the improvement over epochs.\n",
    "    print_loss_total = 0  # Cumulative loss for console printing (resets after every `print_every`).\n",
    "    plot_loss_total = 0  # Cumulative loss for plotting (resets after every `plot_every`).\n",
    "\n",
    "    # Optimizers for the encoder and decoder models, using Adam optimizer with the specified learning rate.\n",
    "    encoder_optimizer = optim.Adam(encoder.parameters(), lr=learning_rate)\n",
    "    decoder_optimizer = optim.Adam(decoder.parameters(), lr=learning_rate)\n",
    "\n",
    "    # Criterion (loss function) to compute the negative log-likelihood loss for output predictions.\n",
    "    criterion = nn.NLLLoss()\n",
    "\n",
    "    # Loop through the specified number of training epochs.\n",
    "    for epoch in range(1, n_epochs + 1):\n",
    "        # Train the model for one epoch and calculate the average loss.\n",
    "        loss = train_epoch(train_dataloader, encoder, decoder, encoder_optimizer, decoder_optimizer, criterion)\n",
    "\n",
    "        # Add the epoch loss to both cumulative counters (for printing and plotting).\n",
    "        print_loss_total += loss\n",
    "        plot_loss_total += loss\n",
    "\n",
    "        # If current epoch is a multiple of `print_every`, print average loss for past `print_every` epochs.\n",
    "        if epoch % print_every == 0:\n",
    "            print_loss_avg = print_loss_total / print_every  # Calculate the average loss.\n",
    "            print_loss_total = 0  # Reset the print loss total.\n",
    "            # Print the elapsed time, current epoch, progress percentage, and average loss.\n",
    "            print('%s (%d %d%%) %.4f' % (time_since(start, epoch / n_epochs),\n",
    "                                         epoch, epoch / n_epochs * 100, print_loss_avg))\n",
    "\n",
    "        # If current epoch is a multiple of `plot_every`, record average loss for later visualization.\n",
    "        if epoch % plot_every == 0:\n",
    "            plot_loss_avg = plot_loss_total / plot_every  # Calculate the average loss for plotting.\n",
    "            plot_losses.append(plot_loss_avg)  # Append the average loss to the list.\n",
    "            plot_loss_total = 0  # Reset the plot loss total.\n",
    "\n",
    "    # Generate and display a plot of loss trends over the training process.\n",
    "    show_plot(plot_losses)"
   ],
   "id": "be86d54a238216ca",
   "outputs": [],
   "execution_count": 19
  },
  {
   "metadata": {
    "ExecuteTime": {
     "end_time": "2025-03-27T02:15:01.022426Z",
     "start_time": "2025-03-27T02:15:01.020057Z"
    }
   },
   "cell_type": "code",
   "source": [
    "# Import the ticker module from Matplotlib for controlling tick intervals on the plot axes.\n",
    "import matplotlib.ticker as ticker\n",
    "# Importing NumPy for numerical manipulations (though not directly used here in this function).\n",
    "import numpy as np\n",
    "\n",
    "\n",
    "def show_plot(points):\n",
    "    \"\"\"\n",
    "    Plots the given points and applies formatted tick intervals for better readability.\n",
    "\n",
    "    Args:\n",
    "        points (list or array-like): A sequence of numerical data to be plotted on the y-axis.\n",
    "    \"\"\"\n",
    "    # Create a new figure for the plot.\n",
    "    plt.figure()\n",
    "    # Create a subplot in the current figure, returning the axis object for customization.\n",
    "    fig, ax = plt.subplots()\n",
    "    # Define tick intervals for the y-axis, setting ticks to occur every 0.2 units.\n",
    "    loc = ticker.MultipleLocator(base=0.2)\n",
    "    # Apply the tick interval configuration to the y-axis.\n",
    "    ax.yaxis.set_major_locator(loc)\n",
    "    # Plot the input points on the figure, using default line style and color.\n",
    "    plt.plot(points)"
   ],
   "id": "95626402785fca8f",
   "outputs": [],
   "execution_count": 34
  },
  {
   "metadata": {
    "ExecuteTime": {
     "end_time": "2025-03-27T01:26:51.815859Z",
     "start_time": "2025-03-27T01:26:51.813562Z"
    }
   },
   "cell_type": "code",
   "source": [
    "def evaluate(encoder, decoder, sentence, input_lang, output_lang):\n",
    "    \"\"\"\n",
    "    Evaluate a given input sentence by passing it through the encoder and decoder \n",
    "    to predict the translated output sentence.\n",
    "\n",
    "    Args:\n",
    "        encoder (nn.Module): The trained encoder model.\n",
    "        decoder (nn.Module): The trained decoder model with attention.\n",
    "        sentence (str): Input sentence to be translated.\n",
    "        input_lang (Lang): Language object for the input sentence containing vocabulary mapping.\n",
    "        output_lang (Lang): Language object for the output sentence containing vocabulary mapping.\n",
    "\n",
    "    Returns:\n",
    "        list: The predicted output sentence as a list of words.\n",
    "        Tensor: The attention weights generated for the input sentence.\n",
    "    \"\"\"\n",
    "    # Turn off gradient computation during evaluation for efficiency\n",
    "    with torch.no_grad():\n",
    "        # Convert the input sentence into a tensor of word indices\n",
    "        input_tensor = tensor_from_sentence(input_lang, sentence)\n",
    "\n",
    "        # Pass the input tensor through the encoder to get its outputs and hidden state\n",
    "        encoder_outputs, encoder_hidden = encoder(input_tensor)\n",
    "\n",
    "        # Use the decoder to generate the output sequence, passing the encoder outputs and hidden state\n",
    "        decoder_outputs, decoder_hidden, decoder_attn = decoder(encoder_outputs, encoder_hidden)\n",
    "\n",
    "        # Extract the most likely tokens from the decoder output at each time step\n",
    "        _, topi = decoder_outputs.topk(1)  # topk(1) gets the index of the highest probability for each step\n",
    "        decoded_ids = topi.squeeze()  # Remove unnecessary dimensions for easy processing\n",
    "\n",
    "        # Initialize an empty list to store the translated words\n",
    "        decoded_words = []\n",
    "\n",
    "        # Iterate through the sequence of predicted token indices\n",
    "        for idx in decoded_ids:\n",
    "            # Stop decoding if the EOS token is encountered\n",
    "            if idx.item() == EOS_token:\n",
    "                decoded_words.append('<EOS>')\n",
    "                break\n",
    "            # Append the corresponding word for the token index to the output sentence\n",
    "            decoded_words.append(output_lang.index2word[idx.item()])\n",
    "\n",
    "    # Return the translated sentence as a list of words and the attention weights\n",
    "    return decoded_words, decoder_attn"
   ],
   "id": "c0c96d296eeac9e9",
   "outputs": [],
   "execution_count": 21
  },
  {
   "metadata": {
    "ExecuteTime": {
     "end_time": "2025-03-27T01:26:52.944186Z",
     "start_time": "2025-03-27T01:26:52.941505Z"
    }
   },
   "cell_type": "code",
   "source": [
    "def evaluate_randomly(encoder, decoder, n=10):\n",
    "    \"\"\"\n",
    "    Randomly selects `n` English-French sentence pairs from the dataset, evaluates them\n",
    "    using the trained encoder-decoder models, and prints the results.\n",
    "    \n",
    "    Args:\n",
    "        encoder (nn.Module): The trained encoder model.\n",
    "        decoder (nn.Module): The trained decoder model with attention capabilities.\n",
    "        n (int): The number of random sentence pairs to evaluate (default: 10).\n",
    "    \"\"\"\n",
    "    for i in range(n):  # Iterate `n` times to evaluate `n` random sentence pairs.\n",
    "        pair = random.choice(pairs)  # Randomly select a sentence pair (input-output) from the dataset.\n",
    "        print('>', pair[0])  # Print the input sentence in its original language (French).\n",
    "        print('=', pair[1])  # Print the corresponding expected translation (English).\n",
    "\n",
    "        # Use the evaluate function to generate a translation for the input sentence.\n",
    "        output_words, attn = evaluate(encoder, decoder, pair[0], input_lang, output_lang)\n",
    "\n",
    "        # Join the predicted words into a complete sentence to form the translated output.\n",
    "        output_sentence = ' '.join(output_words)\n",
    "        print('<', output_sentence)  # Print the model's predicted translation.\n",
    "        print('')  # Print a blank line to separate results."
   ],
   "id": "a121a981a665c50f",
   "outputs": [],
   "execution_count": 22
  },
  {
   "metadata": {
    "ExecuteTime": {
     "end_time": "2025-03-27T02:07:42.450960Z",
     "start_time": "2025-03-27T01:26:54.357174Z"
    }
   },
   "cell_type": "code",
   "source": [
    "# Define the size of the hidden layer in the neural network.\n",
    "# Controls the dimensionality of the learned embeddings and the model's capacity.\n",
    "hidden_size = 128\n",
    "\n",
    "# Define the batch size for training.\n",
    "# This specifies how many training samples will be processed in one iteration.\n",
    "batch_size = 32\n",
    "\n",
    "# Retrieve the input language object (English), output language object (French), and the DataLoader\n",
    "# for batching training data. The DataLoader handles shuffling and creating batches from the dataset.\n",
    "input_lang, output_lang, train_dataloader = get_dataloader(batch_size)\n",
    "\n",
    "# Initialize the encoder RNN with the input language vocabulary size and hidden size.\n",
    "# Then, move the model to the device (CPU or GPU) for computation.\n",
    "encoder = EncoderRNN(input_lang.n_words, hidden_size).to(device)\n",
    "\n",
    "# Initialize the attention-based decoder RNN with the same hidden size and output language vocabulary size.\n",
    "# Then, move the model to the device (CPU or GPU) for computation.\n",
    "decoder = AttnDecoderRNN(hidden_size, output_lang.n_words).to(device)\n",
    "\n",
    "# Train the encoder-decoder model using the training data loader for 80 epochs.\n",
    "# The 'print_every' parameter specifies how often the loss is printed during training.\n",
    "# The 'plot_every' parameter defines how often the loss is recorded for generating a plot later.\n",
    "train(train_dataloader, encoder, decoder, 80, print_every=5, plot_every=5)"
   ],
   "id": "5208b6a69feecd93",
   "outputs": [
    {
     "name": "stdout",
     "output_type": "stream",
     "text": [
      "Reading lines...\n",
      "Read 2143565 sentence pairs\n",
      "Trimmed to 19615 sentence pairs\n",
      "Counting words...\n",
      "Counted words:\n",
      "fra 9966\n",
      "eng 7004\n",
      "1m 34s (- 23m 41s) (5 6%) 1.7781\n",
      "3m 26s (- 24m 5s) (10 12%) 0.9345\n",
      "7m 53s (- 34m 13s) (15 18%) 0.5831\n",
      "10m 4s (- 30m 13s) (20 25%) 0.3939\n",
      "12m 13s (- 26m 53s) (25 31%) 0.2850\n",
      "14m 54s (- 24m 50s) (30 37%) 0.2183\n",
      "17m 46s (- 22m 51s) (35 43%) 0.1744\n",
      "20m 12s (- 20m 12s) (40 50%) 0.1441\n",
      "22m 38s (- 17m 36s) (45 56%) 0.1219\n",
      "25m 27s (- 15m 16s) (50 62%) 0.1059\n",
      "28m 7s (- 12m 47s) (55 68%) 0.0938\n",
      "31m 15s (- 10m 25s) (60 75%) 0.0849\n",
      "33m 21s (- 7m 41s) (65 81%) 0.0768\n",
      "35m 39s (- 5m 5s) (70 87%) 0.0709\n",
      "37m 55s (- 2m 31s) (75 93%) 0.0661\n",
      "39m 58s (- 0m 0s) (80 100%) 0.0625\n"
     ]
    }
   ],
   "execution_count": 23
  },
  {
   "metadata": {
    "ExecuteTime": {
     "end_time": "2025-03-27T02:14:03.936502Z",
     "start_time": "2025-03-27T02:14:03.738995Z"
    }
   },
   "cell_type": "code",
   "source": "plt.show()",
   "id": "fe424ebb6f06fbfb",
   "outputs": [
    {
     "data": {
      "text/plain": [
       "<Figure size 640x480 with 0 Axes>"
      ]
     },
     "metadata": {},
     "output_type": "display_data"
    },
    {
     "data": {
      "text/plain": [
       "<Figure size 640x480 with 1 Axes>"
      ],
      "image/png": "[encoded data removed]"
     },
     "metadata": {},
     "output_type": "display_data"
    },
    {
     "data": {
      "text/plain": [
       "<Figure size 640x480 with 2 Axes>"
      ],
      "image/png": "[encoded data removed]"
     },
     "metadata": {},
     "output_type": "display_data"
    },
    {
     "data": {
      "text/plain": [
       "<Figure size 640x480 with 2 Axes>"
      ],
      "image/png": "[encoded data removed]"
     },
     "metadata": {},
     "output_type": "display_data"
    },
    {
     "data": {
      "text/plain": [
       "<Figure size 640x480 with 2 Axes>"
      ],
      "image/png": "[encoded data removed]"
     },
     "metadata": {},
     "output_type": "display_data"
    },
    {
     "data": {
      "text/plain": [
       "<Figure size 640x480 with 2 Axes>"
      ],
      "image/png": "[encoded data removed]"
     },
     "metadata": {},
     "output_type": "display_data"
    }
   ],
   "execution_count": 33
  },
  {
   "metadata": {
    "ExecuteTime": {
     "end_time": "2025-03-27T02:15:05.913533Z",
     "start_time": "2025-03-27T02:15:05.776463Z"
    }
   },
   "cell_type": "code",
   "source": [
    "# Set the encoder model in evaluation mode (disable dropout and other training-specific operations),\n",
    "# this ensures the model behaves appropriately during inference and doesn't consider gradients.\n",
    "encoder.eval()\n",
    "# Set the decoder model in evaluation mode for similar reasons as the encoder.\n",
    "decoder.eval()\n",
    "\n",
    "# Randomly evaluate trained encoder-decoder models on 10 sentences from the dataset.\n",
    "# This function checks how well the models translate sentences and prints the results.\n",
    "evaluate_randomly(encoder, decoder)"
   ],
   "id": "51c8e62ff40e3676",
   "outputs": [
    {
     "name": "stdout",
     "output_type": "stream",
     "text": [
      "> je suis content que vous alliez a nouveau bien\n",
      "= i m glad you re ok again\n",
      "< i m glad you re ok again <EOS>\n",
      "\n",
      "> je ne suis sur de rien\n",
      "= i m not sure of anything\n",
      "< i m not sure of anything opinion <EOS>\n",
      "\n",
      "> jignore lesquelles\n",
      "= i am not sure what\n",
      "< i am not sure what the target is out <EOS>\n",
      "\n",
      "> je suis fier du travail que j ai fait ici\n",
      "= i m proud of the work i ve done here\n",
      "< i m proud of the work i ve done here <EOS>\n",
      "\n",
      "> ils sont en bas\n",
      "= they re downstairs\n",
      "< they re downstairs <EOS>\n",
      "\n",
      "> ils ont raison\n",
      "= they are right\n",
      "< they are right to do so well <EOS>\n",
      "\n",
      "> il ne faut pas nous deranger\n",
      "= we are not to be disturbed\n",
      "< we are not to be given our opportunity to follow <EOS>\n",
      "\n",
      "> nous avons nettement ameliore cette directive\n",
      "= we are making very considerable progress in this proposal\n",
      "< we are making very concerned with the directive of this is very\n",
      "\n",
      "> vous savez deja de quoi il sagit\n",
      "= you are already aware of the matter\n",
      "< you are already aware of the matter <EOS>\n",
      "\n",
      "> je suis particulierement interesse par les rapports speciaux du mediateur\n",
      "= i am particularly interested in the ombudsmans special reports\n",
      "< i am particularly interested in the ombudsmans special reports <EOS>\n",
      "\n"
     ]
    }
   ],
   "execution_count": 35
  },
  {
   "metadata": {
    "ExecuteTime": {
     "end_time": "2025-03-27T02:15:08.401220Z",
     "start_time": "2025-03-27T02:15:08.398586Z"
    }
   },
   "cell_type": "code",
   "source": [
    "def show_attention(input_sentence, output_words, attentions):\n",
    "    \"\"\"\n",
    "    Visualizes the attention weights for an input sentence and its translation.\n",
    "    \n",
    "    This function generates a heatmap of the attention weights, where rows represent the predicted \n",
    "    output words and columns represent the input words. The intensity of the heatmap indicates \n",
    "    how strongly each input word influences the corresponding output word.\n",
    "\n",
    "    Args:\n",
    "        input_sentence (str): The input sentence in the original language.\n",
    "        output_words (list of str): The words of the predicted translation.\n",
    "        attentions (torch.Tensor): The attention weights tensor of shape \n",
    "                                   [output_length, input_length] representing alignment scores.\n",
    "    \"\"\"\n",
    "    # Create a new figure for the attention visualization\n",
    "    fig = plt.figure()\n",
    "\n",
    "    # Add a single subplot to the figure, occupying the entire figure space\n",
    "    ax = fig.add_subplot(111)\n",
    "\n",
    "    # Display the attention weights as a matrix (heatmap) using a grayscale colormap ('bone')\n",
    "    # Convert the attention weights tensor to a NumPy array for visualization\n",
    "    cax = ax.matshow(attentions.cpu().numpy(), cmap='bone')\n",
    "\n",
    "    # Add a color bar to the side of the heatmap to provide a reference for intensity levels\n",
    "    fig.colorbar(cax)\n",
    "\n",
    "    # Set up the x-axis labels to include the input sentence split into words, as well as the <EOS> token\n",
    "    # The rotation parameter rotates the labels vertically for better readability\n",
    "    ax.set_xticklabels([''] + input_sentence.split(' ') + ['<EOS>'], rotation=90)\n",
    "\n",
    "    # Set up the y-axis labels to include the predicted output words\n",
    "    ax.set_yticklabels([''] + output_words)\n",
    "\n",
    "    # Ensure that labels are shown at every tick on both axes (using a tick interval of 1)\n",
    "    ax.xaxis.set_major_locator(ticker.MultipleLocator(1))\n",
    "    ax.yaxis.set_major_locator(ticker.MultipleLocator(1))\n",
    "\n",
    "    # Render the plot on the screen\n",
    "    plt.show()"
   ],
   "id": "2d45c9503c3f8602",
   "outputs": [],
   "execution_count": 36
  },
  {
   "metadata": {
    "ExecuteTime": {
     "end_time": "2025-03-27T02:15:18.579389Z",
     "start_time": "2025-03-27T02:15:18.576616Z"
    }
   },
   "cell_type": "code",
   "source": [
    "def evaluate_and_show_attention(input_sentence):\n",
    "    \"\"\"\n",
    "    Visualizes the attention weights for a given input sentence after translation. \n",
    "    It evaluates the input sentence using the trained encoder-decoder model, \n",
    "    then displays the input, the model's output, and the attention visualization.\n",
    "\n",
    "    Args:\n",
    "        input_sentence (str): The input sentence in the source language to be translated and visualized.\n",
    "\n",
    "    Returns:\n",
    "        None: Prints the input sentence, translated output, and displays the visualization.\n",
    "    \"\"\"\n",
    "    # Evaluate the input sentence to get the predicted output words and attention weights\n",
    "    output_words, attentions = evaluate(encoder, decoder, input_sentence, input_lang, output_lang)\n",
    "\n",
    "    # Print the input sentence in the source language\n",
    "    print('input =', input_sentence)\n",
    "    # Print the translated sentence as predicted by the model\n",
    "    print('output =', ' '.join(output_words))\n",
    "\n",
    "    # Use the `show_attention` function to display a heatmap of attention weights\n",
    "    show_attention(input_sentence, output_words, attentions[0, :len(output_words), :])"
   ],
   "id": "19e8625161534303",
   "outputs": [],
   "execution_count": 37
  },
  {
   "metadata": {
    "ExecuteTime": {
     "end_time": "2025-03-27T02:15:24.669129Z",
     "start_time": "2025-03-27T02:15:24.054680Z"
    }
   },
   "cell_type": "code",
   "source": [
    "# Evaluate and visualize attention for the given sentence.\n",
    "# Input: \"il n est pas aussi grand que son pere\" (French sentence translates to \"he is not as tall as his father\").\n",
    "# The function will display the translation along with attention visualization between the input and output tokens.\n",
    "evaluate_and_show_attention('il n est pas aussi grand que son pere')\n",
    "\n",
    "# Evaluate and visualize attention for the given sentence.\n",
    "# Input: \"je suis trop fatigue pour conduire\" (French sentence translates to \"I am too tired to drive\").\n",
    "# The function will display the translation along with attention visualization between the input and output tokens.\n",
    "evaluate_and_show_attention('je suis trop fatigue pour conduire')\n",
    "\n",
    "# Evaluate and visualize attention for the given sentence.\n",
    "# Input: \"je suis desole si c est une question idiote\" (French sentence translates to \"I am sorry if it is a silly question\").\n",
    "# The function will display the translation along with attention visualization between the input and output tokens.\n",
    "evaluate_and_show_attention('je suis desole si c est une question idiote')\n",
    "\n",
    "# Evaluate and visualize attention for the given sentence.\n",
    "# Input: \"je suis reellement fiere de vous\" (French sentence translates to \"I am really proud of you\").\n",
    "# The function will display the translation along with attention visualization between the input and output tokens.\n",
    "evaluate_and_show_attention('je suis reellement fiere de vous')"
   ],
   "id": "3c2de6a5c6c1a1b",
   "outputs": [
    {
     "name": "stdout",
     "output_type": "stream",
     "text": [
      "input = il n est pas aussi grand que son pere\n",
      "output = he is not as tall as his father being <EOS>\n"
     ]
    },
    {
     "name": "stderr",
     "output_type": "stream",
     "text": [
      "/tmp/ipykernel_567326/2352707418.py:30: UserWarning: set_ticklabels() should only be used with a fixed number of ticks, i.e. after set_ticks() or using a FixedLocator.\n",
      "  ax.set_xticklabels([''] + input_sentence.split(' ') + ['<EOS>'], rotation=90)\n",
      "/tmp/ipykernel_567326/2352707418.py:33: UserWarning: set_ticklabels() should only be used with a fixed number of ticks, i.e. after set_ticks() or using a FixedLocator.\n",
      "  ax.set_yticklabels([''] + output_words)\n"
     ]
    },
    {
     "data": {
      "text/plain": [
       "<Figure size 640x480 with 2 Axes>"
      ],
      "image/png": "[encoded data removed]"
     },
     "metadata": {},
     "output_type": "display_data"
    },
    {
     "name": "stdout",
     "output_type": "stream",
     "text": [
      "input = je suis trop fatigue pour conduire\n",
      "output = i m too tired to drive could drive drive <EOS>\n"
     ]
    },
    {
     "name": "stderr",
     "output_type": "stream",
     "text": [
      "/tmp/ipykernel_567326/2352707418.py:30: UserWarning: set_ticklabels() should only be used with a fixed number of ticks, i.e. after set_ticks() or using a FixedLocator.\n",
      "  ax.set_xticklabels([''] + input_sentence.split(' ') + ['<EOS>'], rotation=90)\n",
      "/tmp/ipykernel_567326/2352707418.py:33: UserWarning: set_ticklabels() should only be used with a fixed number of ticks, i.e. after set_ticks() or using a FixedLocator.\n",
      "  ax.set_yticklabels([''] + output_words)\n"
     ]
    },
    {
     "data": {
      "text/plain": [
       "<Figure size 640x480 with 2 Axes>"
      ],
      "image/png": "[encoded data removed]"
     },
     "metadata": {},
     "output_type": "display_data"
    },
    {
     "name": "stdout",
     "output_type": "stream",
     "text": [
      "input = je suis desole si c est une question idiote\n",
      "output = i m sorry if this is a stupid question <EOS>\n"
     ]
    },
    {
     "name": "stderr",
     "output_type": "stream",
     "text": [
      "/tmp/ipykernel_567326/2352707418.py:30: UserWarning: set_ticklabels() should only be used with a fixed number of ticks, i.e. after set_ticks() or using a FixedLocator.\n",
      "  ax.set_xticklabels([''] + input_sentence.split(' ') + ['<EOS>'], rotation=90)\n",
      "/tmp/ipykernel_567326/2352707418.py:33: UserWarning: set_ticklabels() should only be used with a fixed number of ticks, i.e. after set_ticks() or using a FixedLocator.\n",
      "  ax.set_yticklabels([''] + output_words)\n"
     ]
    },
    {
     "data": {
      "text/plain": [
       "<Figure size 640x480 with 2 Axes>"
      ],
      "image/png": "[encoded data removed]"
     },
     "metadata": {},
     "output_type": "display_data"
    },
    {
     "name": "stdout",
     "output_type": "stream",
     "text": [
      "input = je suis reellement fiere de vous\n",
      "output = i m really proud of you re you of you <EOS>\n"
     ]
    },
    {
     "name": "stderr",
     "output_type": "stream",
     "text": [
      "/tmp/ipykernel_567326/2352707418.py:30: UserWarning: set_ticklabels() should only be used with a fixed number of ticks, i.e. after set_ticks() or using a FixedLocator.\n",
      "  ax.set_xticklabels([''] + input_sentence.split(' ') + ['<EOS>'], rotation=90)\n",
      "/tmp/ipykernel_567326/2352707418.py:33: UserWarning: set_ticklabels() should only be used with a fixed number of ticks, i.e. after set_ticks() or using a FixedLocator.\n",
      "  ax.set_yticklabels([''] + output_words)\n"
     ]
    },
    {
     "data": {
      "text/plain": [
       "<Figure size 640x480 with 2 Axes>"
      ],
      "image/png": "[encoded data removed]"
     },
     "metadata": {},
     "output_type": "display_data"
    }
   ],
   "execution_count": 38
  },
  {
   "metadata": {},
   "cell_type": "code",
   "outputs": [],
   "execution_count": null,
   "source": "",
   "id": "146262b2744e91d5"
  }
 ],
 "metadata": {
  "kernelspec": {
   "display_name": "Python 3",
   "language": "python",
   "name": "python3"
  },
  "language_info": {
   "codemirror_mode": {
    "name": "ipython",
    "version": 2
   },
   "file_extension": ".py",
   "mimetype": "text/x-python",
   "name": "python",
   "nbconvert_exporter": "python",
   "pygments_lexer": "ipython2",
   "version": "2.7.6"
  }
 },
 "nbformat": 4,
 "nbformat_minor": 5
}
