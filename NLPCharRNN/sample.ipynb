{
 "cells": [
  {
   "metadata": {},
   "cell_type": "markdown",
   "source": "# NLP From Scratch: Classifying Names with a Character-Level RNN",
   "id": "8a77807f92f26ee"
  },
  {
   "metadata": {
    "ExecuteTime": {
     "end_time": "2025-03-08T17:27:27.417179Z",
     "start_time": "2025-03-08T17:27:27.413937Z"
    }
   },
   "cell_type": "code",
   "source": [
    "import torch\n",
    "\n",
    "print(torch.__version__)"
   ],
   "id": "fbc121e30a2defb3",
   "outputs": [
    {
     "name": "stdout",
     "output_type": "stream",
     "text": [
      "2.5.1\n"
     ]
    }
   ],
   "execution_count": 64
  },
  {
   "metadata": {
    "ExecuteTime": {
     "end_time": "2025-03-08T17:27:27.447928Z",
     "start_time": "2025-03-08T17:27:27.444077Z"
    }
   },
   "cell_type": "code",
   "source": [
    "# Check if CUDA is available\n",
    "device = torch.device(\"cuda\" if torch.cuda.is_available() else \"cpu\")\n",
    "\n",
    "torch.set_default_device(device)\n",
    "print(f'Using device = {torch.get_default_device()}')"
   ],
   "id": "9648e60e6e4aafc2",
   "outputs": [
    {
     "name": "stdout",
     "output_type": "stream",
     "text": [
      "Using device = cpu\n"
     ]
    }
   ],
   "execution_count": 65
  },
  {
   "metadata": {},
   "cell_type": "markdown",
   "source": "## Preparing the Data",
   "id": "61c424a81ddc94f4"
  },
  {
   "metadata": {
    "ExecuteTime": {
     "end_time": "2025-03-08T17:27:28.640894Z",
     "start_time": "2025-03-08T17:27:27.557459Z"
    }
   },
   "cell_type": "code",
   "source": "!wget https://download.pytorch.org/tutorial/data.zip -P data && cd data && unzip data.zip",
   "id": "8f8a96270fd7c361",
   "outputs": [
    {
     "name": "stdout",
     "output_type": "stream",
     "text": [
      "--2025-03-08 11:27:27--  https://download.pytorch.org/tutorial/data.zip\r\n",
      "Loaded CA certificate '/etc/ssl/certs/ca-certificates.crt'\r\n",
      "Resolving download.pytorch.org (download.pytorch.org)... 2600:9000:2549:3600:d:607e:4540:93a1, 2600:9000:2549:3000:d:607e:4540:93a1, 2600:9000:2549:9000:d:607e:4540:93a1, ...\r\n",
      "Connecting to download.pytorch.org (download.pytorch.org)|2600:9000:2549:3600:d:607e:4540:93a1|:443... connected.\r\n",
      "HTTP request sent, awaiting response... 200 OK\r\n",
      "Length: 2882130 (2.7M) [application/zip]\r\n",
      "Saving to: ‘data/data.zip’\r\n",
      "\r\n",
      "data.zip            100%[===================>]   2.75M  10.3MB/s    in 0.3s    \r\n",
      "\r\n",
      "2025-03-08 11:27:28 (10.3 MB/s) - ‘data/data.zip’ saved [2882130/2882130]\r\n",
      "\r\n",
      "Archive:  data.zip\r\n",
      "   creating: data/\r\n",
      "  inflating: data/eng-fra.txt        \r\n",
      "   creating: data/names/\r\n",
      "  inflating: data/names/Arabic.txt   \r\n",
      "  inflating: data/names/Chinese.txt  \r\n",
      "  inflating: data/names/Czech.txt    \r\n",
      "  inflating: data/names/Dutch.txt    \r\n",
      "  inflating: data/names/English.txt  \r\n",
      "  inflating: data/names/French.txt   \r\n",
      "  inflating: data/names/German.txt   \r\n",
      "  inflating: data/names/Greek.txt    \r\n",
      "  inflating: data/names/Irish.txt    \r\n",
      "  inflating: data/names/Italian.txt  \r\n",
      "  inflating: data/names/Japanese.txt  \r\n",
      "  inflating: data/names/Korean.txt   \r\n",
      "  inflating: data/names/Polish.txt   \r\n",
      "  inflating: data/names/Portuguese.txt  \r\n",
      "  inflating: data/names/Russian.txt  \r\n",
      "  inflating: data/names/Scottish.txt  \r\n",
      "  inflating: data/names/Spanish.txt  \r\n",
      "  inflating: data/names/Vietnamese.txt  \r\n"
     ]
    }
   ],
   "execution_count": 66
  },
  {
   "metadata": {
    "ExecuteTime": {
     "end_time": "2025-03-08T17:27:28.653885Z",
     "start_time": "2025-03-08T17:27:28.649677Z"
    }
   },
   "cell_type": "code",
   "source": [
    "import string  # Importing the string module to get pre-defined string constants like ascii_letters\n",
    "import unicodedata  # Importing the unicodedata module for Unicode character processing\n",
    "\n",
    "# Defining allowed characters for valid inputs (all ASCII letters, a few punctuation marks)\n",
    "allowed_characters = string.ascii_letters + \".,;'\"\n",
    "n_letters = len(allowed_characters)  # Calculating the total number of allowed characters\n",
    "\n",
    "# Function to convert a Unicode string to plain ASCII by removing accents and unsupported characters\n",
    "# Thanks to https://stackoverflow.com/a/518232/2809427 for the approach\n",
    "def unicodeToAscii(s):\n",
    "    return ''.join(\n",
    "        c for c in unicodedata.normalize('NFD', s)  # Normalize Unicode string to its decomposed form\n",
    "        if unicodedata.category(c) != 'Mn'  # Remove characters marked as 'Mn' (non-spacing marks)\n",
    "        and c in allowed_characters  # Keep only characters present in allowed_characters\n",
    "    )"
   ],
   "id": "d1b0118ebb07af26",
   "outputs": [],
   "execution_count": 67
  },
  {
   "metadata": {
    "ExecuteTime": {
     "end_time": "2025-03-08T17:27:28.699131Z",
     "start_time": "2025-03-08T17:27:28.695625Z"
    }
   },
   "cell_type": "code",
   "source": "print (f\"converting 'Ślusàrski' to {unicodeToAscii('Ślusàrski')}\")",
   "id": "a26ce2f0e7961c06",
   "outputs": [
    {
     "name": "stdout",
     "output_type": "stream",
     "text": [
      "converting 'Ślusàrski' to Slusarski\n"
     ]
    }
   ],
   "execution_count": 68
  },
  {
   "metadata": {},
   "cell_type": "markdown",
   "source": "## Turning Names into Tensors",
   "id": "6bb58ca2bc20c8dc"
  },
  {
   "metadata": {
    "ExecuteTime": {
     "end_time": "2025-03-08T17:27:28.745510Z",
     "start_time": "2025-03-08T17:27:28.742847Z"
    }
   },
   "cell_type": "code",
   "source": [
    "# Find letter index from all_letters, e.g. \"a\" = 0\n",
    "def letterToIndex(letter):\n",
    "    return allowed_characters.find(letter)\n",
    "\n",
    "# Turn a line into <line_length x 1 x n_letters>,\n",
    "def lineToTensor(line):\n",
    "    tensor = torch.zeros(len(line), 1, n_letters)\n",
    "    for li, letter in enumerate(line):\n",
    "        tensor[li][0][letterToIndex(letter)] = 1\n",
    "    return tensor"
   ],
   "id": "1c812479266712c0",
   "outputs": [],
   "execution_count": 69
  },
  {
   "metadata": {
    "ExecuteTime": {
     "end_time": "2025-03-08T17:27:28.798853Z",
     "start_time": "2025-03-08T17:27:28.795605Z"
    }
   },
   "cell_type": "code",
   "source": [
    "print(f'The letter \"a\" becomes {lineToTensor(\"a\")}') #notice that the first position in the tensor = 1\n",
    "print(f'The name \"Anh\" becomes {lineToTensor(\"Ahn\")}') #note 'A' sets the 27th index to 1"
   ],
   "id": "da91593e08547158",
   "outputs": [
    {
     "name": "stdout",
     "output_type": "stream",
     "text": [
      "The letter \"a\" becomes tensor([[[1., 0., 0., 0., 0., 0., 0., 0., 0., 0., 0., 0., 0., 0., 0., 0., 0.,\n",
      "          0., 0., 0., 0., 0., 0., 0., 0., 0., 0., 0., 0., 0., 0., 0., 0., 0.,\n",
      "          0., 0., 0., 0., 0., 0., 0., 0., 0., 0., 0., 0., 0., 0., 0., 0., 0.,\n",
      "          0., 0., 0., 0., 0.]]])\n",
      "The name \"Anh\" becomes tensor([[[0., 0., 0., 0., 0., 0., 0., 0., 0., 0., 0., 0., 0., 0., 0., 0., 0.,\n",
      "          0., 0., 0., 0., 0., 0., 0., 0., 0., 1., 0., 0., 0., 0., 0., 0., 0.,\n",
      "          0., 0., 0., 0., 0., 0., 0., 0., 0., 0., 0., 0., 0., 0., 0., 0., 0.,\n",
      "          0., 0., 0., 0., 0.]],\n",
      "\n",
      "        [[0., 0., 0., 0., 0., 0., 0., 1., 0., 0., 0., 0., 0., 0., 0., 0., 0.,\n",
      "          0., 0., 0., 0., 0., 0., 0., 0., 0., 0., 0., 0., 0., 0., 0., 0., 0.,\n",
      "          0., 0., 0., 0., 0., 0., 0., 0., 0., 0., 0., 0., 0., 0., 0., 0., 0.,\n",
      "          0., 0., 0., 0., 0.]],\n",
      "\n",
      "        [[0., 0., 0., 0., 0., 0., 0., 0., 0., 0., 0., 0., 0., 1., 0., 0., 0.,\n",
      "          0., 0., 0., 0., 0., 0., 0., 0., 0., 0., 0., 0., 0., 0., 0., 0., 0.,\n",
      "          0., 0., 0., 0., 0., 0., 0., 0., 0., 0., 0., 0., 0., 0., 0., 0., 0.,\n",
      "          0., 0., 0., 0., 0.]]])\n"
     ]
    }
   ],
   "execution_count": 70
  },
  {
   "metadata": {
    "ExecuteTime": {
     "end_time": "2025-03-08T17:27:28.846442Z",
     "start_time": "2025-03-08T17:27:28.840833Z"
    }
   },
   "cell_type": "code",
   "source": [
    "from io import open\n",
    "import glob\n",
    "import os\n",
    "import time\n",
    "\n",
    "import torch\n",
    "from torch.utils.data import Dataset\n",
    "\n",
    "class NamesDataset(Dataset):\n",
    "\n",
    "    def __init__(self, data_dir):\n",
    "        self.data_dir = data_dir #for provenance of the dataset\n",
    "        self.load_time = time.localtime #for provenance of the dataset\n",
    "        labels_set = set() #set of all classes\n",
    "\n",
    "        self.data = []\n",
    "        self.data_tensors = []\n",
    "        self.labels = []\n",
    "        self.labels_tensors = []\n",
    "\n",
    "        #read all the ``.txt`` files in the specified directory\n",
    "        text_files = glob.glob(os.path.join(data_dir, '*.txt'))\n",
    "        for filename in text_files:\n",
    "            label = os.path.splitext(os.path.basename(filename))[0]\n",
    "            labels_set.add(label)\n",
    "            lines = open(filename, encoding='utf-8').read().strip().split('\\n')\n",
    "            for name in lines:\n",
    "                self.data.append(name)\n",
    "                self.data_tensors.append(lineToTensor(name))\n",
    "                self.labels.append(label)\n",
    "\n",
    "        #Cache the tensor representation of the labels\n",
    "        self.labels_uniq = list(labels_set)\n",
    "        for idx in range(len(self.labels)):\n",
    "            temp_tensor = torch.tensor([self.labels_uniq.index(self.labels[idx])], dtype=torch.long)\n",
    "            self.labels_tensors.append(temp_tensor)\n",
    "\n",
    "    def __len__(self):\n",
    "        return len(self.data)\n",
    "\n",
    "    def __getitem__(self, idx):\n",
    "        data_item = self.data[idx]\n",
    "        data_label = self.labels[idx]\n",
    "        data_tensor = self.data_tensors[idx]\n",
    "        label_tensor = self.labels_tensors[idx]\n",
    "\n",
    "        return label_tensor, data_tensor, data_label, data_item"
   ],
   "id": "319c24218a92a51e",
   "outputs": [],
   "execution_count": 71
  },
  {
   "metadata": {
    "ExecuteTime": {
     "end_time": "2025-03-08T17:27:30.042378Z",
     "start_time": "2025-03-08T17:27:28.890957Z"
    }
   },
   "cell_type": "code",
   "source": [
    "all_data = NamesDataset('data/data/names')\n",
    "print(f'loaded {len(all_data)} items of data')\n",
    "print(f'example = {all_data[0]}')"
   ],
   "id": "52e3684cea30a9dd",
   "outputs": [
    {
     "name": "stdout",
     "output_type": "stream",
     "text": [
      "loaded 20074 items of data\n",
      "example = (tensor([12]), tensor([[[0., 0., 0., 0., 0., 0., 0., 0., 0., 0., 0., 0., 0., 0., 0., 0., 0.,\n",
      "          0., 0., 0., 0., 0., 0., 0., 0., 0., 0., 0., 0., 0., 0., 0., 0., 0.,\n",
      "          0., 0., 0., 0., 0., 1., 0., 0., 0., 0., 0., 0., 0., 0., 0., 0., 0.,\n",
      "          0., 0., 0., 0., 0.]],\n",
      "\n",
      "        [[0., 0., 0., 0., 0., 0., 1., 0., 0., 0., 0., 0., 0., 0., 0., 0., 0.,\n",
      "          0., 0., 0., 0., 0., 0., 0., 0., 0., 0., 0., 0., 0., 0., 0., 0., 0.,\n",
      "          0., 0., 0., 0., 0., 0., 0., 0., 0., 0., 0., 0., 0., 0., 0., 0., 0.,\n",
      "          0., 0., 0., 0., 0.]],\n",
      "\n",
      "        [[0., 0., 0., 0., 0., 0., 0., 0., 0., 0., 0., 0., 0., 0., 0., 0., 0.,\n",
      "          0., 0., 0., 1., 0., 0., 0., 0., 0., 0., 0., 0., 0., 0., 0., 0., 0.,\n",
      "          0., 0., 0., 0., 0., 0., 0., 0., 0., 0., 0., 0., 0., 0., 0., 0., 0.,\n",
      "          0., 0., 0., 0., 0.]],\n",
      "\n",
      "        [[0., 0., 0., 0., 0., 0., 0., 0., 0., 0., 0., 0., 0., 0., 0., 0., 0.,\n",
      "          0., 0., 0., 0., 0., 0., 0., 1., 0., 0., 0., 0., 0., 0., 0., 0., 0.,\n",
      "          0., 0., 0., 0., 0., 0., 0., 0., 0., 0., 0., 0., 0., 0., 0., 0., 0.,\n",
      "          0., 0., 0., 0., 0.]],\n",
      "\n",
      "        [[0., 0., 0., 0., 1., 0., 0., 0., 0., 0., 0., 0., 0., 0., 0., 0., 0.,\n",
      "          0., 0., 0., 0., 0., 0., 0., 0., 0., 0., 0., 0., 0., 0., 0., 0., 0.,\n",
      "          0., 0., 0., 0., 0., 0., 0., 0., 0., 0., 0., 0., 0., 0., 0., 0., 0.,\n",
      "          0., 0., 0., 0., 0.]],\n",
      "\n",
      "        [[0., 0., 0., 0., 0., 0., 0., 0., 0., 0., 0., 0., 0., 1., 0., 0., 0.,\n",
      "          0., 0., 0., 0., 0., 0., 0., 0., 0., 0., 0., 0., 0., 0., 0., 0., 0.,\n",
      "          0., 0., 0., 0., 0., 0., 0., 0., 0., 0., 0., 0., 0., 0., 0., 0., 0.,\n",
      "          0., 0., 0., 0., 0.]]]), 'Vietnamese', 'Nguyen')\n"
     ]
    }
   ],
   "execution_count": 72
  },
  {
   "metadata": {
    "ExecuteTime": {
     "end_time": "2025-03-08T17:27:30.052881Z",
     "start_time": "2025-03-08T17:27:30.048041Z"
    }
   },
   "cell_type": "code",
   "source": [
    "train_set, test_set = torch.utils.data.random_split(all_data, [.85, .15], generator=torch.Generator(device=device).manual_seed(2024))\n",
    "\n",
    "print(f\"train examples = {len(train_set)}, validation examples = {len(test_set)}\")"
   ],
   "id": "79fd15afec4b0e5b",
   "outputs": [
    {
     "name": "stdout",
     "output_type": "stream",
     "text": [
      "train examples = 17063, validation examples = 3011\n"
     ]
    }
   ],
   "execution_count": 73
  },
  {
   "metadata": {},
   "cell_type": "markdown",
   "source": "## Creating the Network",
   "id": "de07d7d0b20f03b3"
  },
  {
   "metadata": {
    "ExecuteTime": {
     "end_time": "2025-03-08T17:27:30.096069Z",
     "start_time": "2025-03-08T17:27:30.092888Z"
    }
   },
   "cell_type": "code",
   "source": [
    "import torch.nn as nn\n",
    "import torch.nn.functional as F\n",
    "\n",
    "class CharRNN(nn.Module):\n",
    "    def __init__(self, input_size, hidden_size, output_size):\n",
    "        super(CharRNN, self).__init__()\n",
    "\n",
    "        self.rnn = nn.RNN(input_size, hidden_size)\n",
    "        self.h2o = nn.Linear(hidden_size, output_size)\n",
    "        self.softmax = nn.LogSoftmax(dim=1)\n",
    "\n",
    "    def forward(self, line_tensor):\n",
    "        rnn_out, hidden = self.rnn(line_tensor)\n",
    "        output = self.h2o(hidden[0])\n",
    "        output = self.softmax(output)\n",
    "\n",
    "        return output"
   ],
   "id": "e3d336cd82ed13bb",
   "outputs": [],
   "execution_count": 74
  },
  {
   "metadata": {
    "ExecuteTime": {
     "end_time": "2025-03-08T17:27:30.150184Z",
     "start_time": "2025-03-08T17:27:30.147107Z"
    }
   },
   "cell_type": "code",
   "source": [
    "n_hidden = 128\n",
    "rnn = CharRNN(n_letters, n_hidden, len(all_data.labels_uniq))\n",
    "print(rnn)"
   ],
   "id": "91bfd105bce8ca9b",
   "outputs": [
    {
     "name": "stdout",
     "output_type": "stream",
     "text": [
      "CharRNN(\n",
      "  (rnn): RNN(56, 128)\n",
      "  (h2o): Linear(in_features=128, out_features=18, bias=True)\n",
      "  (softmax): LogSoftmax(dim=1)\n",
      ")\n"
     ]
    }
   ],
   "execution_count": 75
  },
  {
   "metadata": {
    "ExecuteTime": {
     "end_time": "2025-03-08T17:27:30.195690Z",
     "start_time": "2025-03-08T17:27:30.191583Z"
    }
   },
   "cell_type": "code",
   "source": [
    "def label_from_output(output, output_labels):\n",
    "    top_n, top_i = output.topk(1)\n",
    "    label_i = top_i[0].item()\n",
    "    return output_labels[label_i], label_i\n",
    "\n",
    "input = lineToTensor('Albert')\n",
    "output = rnn(input) #this is equivalent to ``output = rnn.forward(input)``\n",
    "print(output)\n",
    "print(label_from_output(output, all_data.labels_uniq))"
   ],
   "id": "a66e8567d09851da",
   "outputs": [
    {
     "name": "stdout",
     "output_type": "stream",
     "text": [
      "tensor([[-2.9055, -2.9562, -2.8601, -2.9318, -2.9187, -2.8570, -2.8443, -2.7880,\n",
      "         -2.8532, -2.7572, -2.9303, -2.8569, -2.8544, -2.9942, -2.9285, -3.1094,\n",
      "         -2.8562, -2.8768]], grad_fn=<LogSoftmaxBackward0>)\n",
      "('Czech', 9)\n"
     ]
    }
   ],
   "execution_count": 76
  },
  {
   "metadata": {},
   "cell_type": "markdown",
   "source": "## Training",
   "id": "9640991b2bc84d96"
  },
  {
   "metadata": {
    "ExecuteTime": {
     "end_time": "2025-03-08T17:27:30.244442Z",
     "start_time": "2025-03-08T17:27:30.240378Z"
    }
   },
   "cell_type": "code",
   "source": [
    "import random\n",
    "import numpy as np\n",
    "\n",
    "def train(rnn, training_data, n_epoch = 10, n_batch_size = 64, report_every = 50, learning_rate = 0.2, criterion = nn.NLLLoss()):\n",
    "    \"\"\"\n",
    "    Learn on a batch of training_data for a specified number of iterations and reporting thresholds\n",
    "    \"\"\"\n",
    "    # Keep track of losses for plotting\n",
    "    current_loss = 0\n",
    "    all_losses = []\n",
    "    rnn.train()\n",
    "    optimizer = torch.optim.SGD(rnn.parameters(), lr=learning_rate)\n",
    "\n",
    "    start = time.time()\n",
    "    print(f\"training on data set with n = {len(training_data)}\")\n",
    "\n",
    "    for iter in range(1, n_epoch + 1):\n",
    "        rnn.zero_grad() # clear the gradients\n",
    "\n",
    "        # create some minibatches\n",
    "        # we cannot use dataloaders because each of our names is a different length\n",
    "        batches = list(range(len(training_data)))\n",
    "        random.shuffle(batches)\n",
    "        batches = np.array_split(batches, len(batches) //n_batch_size )\n",
    "\n",
    "        for idx, batch in enumerate(batches):\n",
    "            batch_loss = 0\n",
    "            for i in batch: #for each example in this batch\n",
    "                (label_tensor, text_tensor, label, text) = training_data[i]\n",
    "                output = rnn.forward(text_tensor)\n",
    "                loss = criterion(output, label_tensor)\n",
    "                batch_loss += loss\n",
    "\n",
    "            # optimize parameters\n",
    "            batch_loss.backward()\n",
    "            nn.utils.clip_grad_norm_(rnn.parameters(), 3)\n",
    "            optimizer.step()\n",
    "            optimizer.zero_grad()\n",
    "\n",
    "            current_loss += batch_loss.item() / len(batch)\n",
    "\n",
    "        all_losses.append(current_loss / len(batches) )\n",
    "        if iter % report_every == 0:\n",
    "            print(f\"{iter} ({iter / n_epoch:.0%}): \\t average batch loss = {all_losses[-1]}\")\n",
    "        current_loss = 0\n",
    "\n",
    "    return all_losses"
   ],
   "id": "787ab421c842d0c3",
   "outputs": [],
   "execution_count": 77
  },
  {
   "metadata": {
    "jupyter": {
     "is_executing": true
    },
    "ExecuteTime": {
     "start_time": "2025-03-08T17:27:30.288767Z"
    }
   },
   "cell_type": "code",
   "source": [
    "start = time.time()\n",
    "all_losses = train(rnn, train_set, n_epoch=27, learning_rate=0.15, report_every=5)\n",
    "end = time.time()\n",
    "print(f\"training took {end-start}s\")"
   ],
   "id": "a092b56f1277e15d",
   "outputs": [
    {
     "name": "stdout",
     "output_type": "stream",
     "text": [
      "training on data set with n = 17063\n",
      "5 (19%): \t average batch loss = 0.8792898516974882\n",
      "10 (37%): \t average batch loss = 0.689893044723535\n"
     ]
    }
   ],
   "execution_count": null
  },
  {
   "metadata": {
    "ExecuteTime": {
     "end_time": "2025-03-08T17:27:26.352301712Z",
     "start_time": "2025-03-08T17:12:04.357798Z"
    }
   },
   "cell_type": "code",
   "source": [
    "import matplotlib.pyplot as plt\n",
    "import matplotlib.ticker as ticker\n",
    "\n",
    "plt.figure()\n",
    "plt.plot(all_losses)\n",
    "plt.show()"
   ],
   "id": "c2e198853f98d5b0",
   "outputs": [
    {
     "data": {
      "text/plain": [
       "<Figure size 640x480 with 1 Axes>"
      ],
      "image/png": "[encoded data removed]"
     },
     "metadata": {},
     "output_type": "display_data"
    }
   ],
   "execution_count": 44
  },
  {
   "metadata": {
    "ExecuteTime": {
     "end_time": "2025-03-08T17:27:26.355702014Z",
     "start_time": "2025-03-08T17:17:50.349268Z"
    }
   },
   "cell_type": "code",
   "source": [
    "def evaluate(rnn, testing_data, classes):\n",
    "    confusion = torch.zeros(len(classes), len(classes))\n",
    "\n",
    "    rnn.eval() #set to eval mode\n",
    "    with torch.no_grad(): # do not record the gradients during eval phase\n",
    "        for i in range(len(testing_data)):\n",
    "            (label_tensor, text_tensor, label, text) = testing_data[i]\n",
    "            output = rnn(text_tensor)\n",
    "            guess, guess_i = label_from_output(output, classes)\n",
    "            label_i = classes.index(label)\n",
    "            confusion[label_i][guess_i] += 1\n",
    "\n",
    "    # Normalize by dividing every row by its sum\n",
    "    for i in range(len(classes)):\n",
    "        denom = confusion[i].sum()\n",
    "        if denom > 0:\n",
    "            confusion[i] = confusion[i] / denom\n",
    "\n",
    "    # Set up plot\n",
    "    fig = plt.figure()\n",
    "    ax = fig.add_subplot(111)\n",
    "    cax = ax.matshow(confusion.cpu().numpy()) #numpy uses cpu here so we need to use a cpu vresoin\n",
    "    fig.colorbar(cax)\n",
    "\n",
    "    # Set up axes\n",
    "    ax.set_xticks(np.arange(len(classes)), labels=classes, rotation=90)\n",
    "    ax.set_yticks(np.arange(len(classes)), labels=classes)\n",
    "\n",
    "    # Force label at every tick\n",
    "    ax.xaxis.set_major_locator(ticker.MultipleLocator(1))\n",
    "    ax.yaxis.set_major_locator(ticker.MultipleLocator(1))\n",
    "\n",
    "    # sphinx_gallery_thumbnail_number = 2\n",
    "    plt.show()"
   ],
   "id": "be7cdc85c2acb087",
   "outputs": [],
   "execution_count": 45
  },
  {
   "metadata": {
    "ExecuteTime": {
     "end_time": "2025-03-08T17:27:26.356069902Z",
     "start_time": "2025-03-08T17:18:03.469501Z"
    }
   },
   "cell_type": "code",
   "source": "evaluate(rnn, test_set, classes=all_data.labels_uniq)",
   "id": "eed4167e840f76ff",
   "outputs": [
    {
     "data": {
      "text/plain": [
       "<Figure size 640x480 with 2 Axes>"
      ],
      "image/png": "[encoded data removed]"
     },
     "metadata": {},
     "output_type": "display_data"
    }
   ],
   "execution_count": 46
  },
  {
   "metadata": {},
   "cell_type": "code",
   "outputs": [],
   "execution_count": null,
   "source": "",
   "id": "b19da72a0954d337"
  }
 ],
 "metadata": {
  "kernelspec": {
   "display_name": "Python 3",
   "language": "python",
   "name": "python3"
  },
  "language_info": {
   "codemirror_mode": {
    "name": "ipython",
    "version": 2
   },
   "file_extension": ".py",
   "mimetype": "text/x-python",
   "name": "python",
   "nbconvert_exporter": "python",
   "pygments_lexer": "ipython2",
   "version": "2.7.6"
  }
 },
 "nbformat": 4,
 "nbformat_minor": 5
}
