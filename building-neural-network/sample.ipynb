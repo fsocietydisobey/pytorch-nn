{
 "cells": [
  {
   "metadata": {
    "ExecuteTime": {
     "end_time": "2025-06-15T00:58:51.261793Z",
     "start_time": "2025-06-15T00:58:47.368414Z"
    }
   },
   "cell_type": "code",
   "source": [
    "import os\n",
    "import torch\n",
    "from torch import nn\n",
    "from torch.utils.data import DataLoader\n",
    "from torchvision import datasets, transforms"
   ],
   "id": "fbc121e30a2defb3",
   "outputs": [],
   "execution_count": 2
  },
  {
   "metadata": {
    "ExecuteTime": {
     "end_time": "2025-06-15T01:00:32.878845Z",
     "start_time": "2025-06-15T01:00:32.875434Z"
    }
   },
   "cell_type": "code",
   "source": [
    "device = torch.device('cuda' if torch.cuda.is_available() else 'cpu')\n",
    "print(f'Using device: {device}')"
   ],
   "id": "62120bedb8cd9356",
   "outputs": [
    {
     "name": "stdout",
     "output_type": "stream",
     "text": [
      "Using device: cpu\n"
     ]
    }
   ],
   "execution_count": 4
  },
  {
   "metadata": {
    "ExecuteTime": {
     "end_time": "2025-06-15T01:02:57.092773Z",
     "start_time": "2025-06-15T01:02:57.087646Z"
    }
   },
   "cell_type": "code",
   "source": [
    "class NeuralNetwork(nn.Module):\n",
    "    def __init__(self):\n",
    "        super(NeuralNetwork, self).__init__()\n",
    "        self.flatten = nn.Flatten()\n",
    "        self.linear_relu_stack = nn.Sequential(\n",
    "            nn.Linear(28 * 28, 512),\n",
    "            nn.ReLU(),\n",
    "            nn.Linear(512, 512),\n",
    "            nn.ReLU(),\n",
    "            nn.Linear(512, 10),\n",
    "        )\n",
    "\n",
    "    def forward(self, x):\n",
    "        x = self.flatten(x)\n",
    "        logits = self.linear_relu_stack(x)\n",
    "        return logits"
   ],
   "id": "d3a64f1255052a66",
   "outputs": [],
   "execution_count": 5
  },
  {
   "metadata": {
    "ExecuteTime": {
     "end_time": "2025-06-15T01:03:22.930875Z",
     "start_time": "2025-06-15T01:03:22.847925Z"
    }
   },
   "cell_type": "code",
   "source": [
    "model = NeuralNetwork().to(device)\n",
    "print(model)"
   ],
   "id": "532930c1ebbe9547",
   "outputs": [
    {
     "name": "stdout",
     "output_type": "stream",
     "text": [
      "NeuralNetwork(\n",
      "  (flatten): Flatten(start_dim=1, end_dim=-1)\n",
      "  (linear_relu_stack): Sequential(\n",
      "    (0): Linear(in_features=784, out_features=512, bias=True)\n",
      "    (1): ReLU()\n",
      "    (2): Linear(in_features=512, out_features=512, bias=True)\n",
      "    (3): ReLU()\n",
      "    (4): Linear(in_features=512, out_features=10, bias=True)\n",
      "  )\n",
      ")\n"
     ]
    }
   ],
   "execution_count": 6
  },
  {
   "metadata": {
    "ExecuteTime": {
     "end_time": "2025-06-15T01:04:49.305273Z",
     "start_time": "2025-06-15T01:04:49.256638Z"
    }
   },
   "cell_type": "code",
   "source": [
    "X = torch.rand(1, 28, 28, device=device)\n",
    "logits = model(X)\n",
    "pred_probab = nn.Softmax(dim=1)(logits)\n",
    "y_pred = pred_probab.argmax(1)\n",
    "print(f'Predicted class: {y_pred}')"
   ],
   "id": "bf3414f83b041fe9",
   "outputs": [
    {
     "name": "stdout",
     "output_type": "stream",
     "text": [
      "Predicted class: tensor([0])\n"
     ]
    }
   ],
   "execution_count": 8
  },
  {
   "metadata": {
    "ExecuteTime": {
     "end_time": "2025-06-15T01:06:02.353270Z",
     "start_time": "2025-06-15T01:06:02.350653Z"
    }
   },
   "cell_type": "code",
   "source": [
    "input_image = torch.rand(3, 28, 28)\n",
    "print(input_image.size())"
   ],
   "id": "998d7e6b5f1eb9fc",
   "outputs": [
    {
     "name": "stdout",
     "output_type": "stream",
     "text": [
      "torch.Size([3, 28, 28])\n"
     ]
    }
   ],
   "execution_count": 9
  },
  {
   "metadata": {
    "ExecuteTime": {
     "end_time": "2025-06-15T01:06:31.372977Z",
     "start_time": "2025-06-15T01:06:31.370498Z"
    }
   },
   "cell_type": "code",
   "source": [
    "flatten = nn.Flatten()\n",
    "flat_image = flatten(input_image)\n",
    "print(flat_image.size())"
   ],
   "id": "60210668d6b87282",
   "outputs": [
    {
     "name": "stdout",
     "output_type": "stream",
     "text": [
      "torch.Size([3, 784])\n"
     ]
    }
   ],
   "execution_count": 10
  },
  {
   "metadata": {
    "ExecuteTime": {
     "end_time": "2025-06-15T01:07:47.218367Z",
     "start_time": "2025-06-15T01:07:47.215514Z"
    }
   },
   "cell_type": "code",
   "source": [
    "layer1 = nn.Linear(in_features=28*28, out_features=20)\n",
    "hidden1 = layer1(flat_image)\n",
    "print(hidden1.size())"
   ],
   "id": "ed931e863a774098",
   "outputs": [
    {
     "name": "stdout",
     "output_type": "stream",
     "text": [
      "torch.Size([3, 20])\n"
     ]
    }
   ],
   "execution_count": 11
  },
  {
   "metadata": {
    "ExecuteTime": {
     "end_time": "2025-06-15T01:09:01.902832Z",
     "start_time": "2025-06-15T01:09:01.899296Z"
    }
   },
   "cell_type": "code",
   "source": [
    "print(f'Before ReLU: {hidden1}\\n\\n')\n",
    "hidden1 = nn.ReLU()(hidden1)\n",
    "print(f\"After ReLU: {hidden1}\")"
   ],
   "id": "9d1a3afdce36e9fd",
   "outputs": [
    {
     "name": "stdout",
     "output_type": "stream",
     "text": [
      "Before ReLU: tensor([[ 0.2871, -0.2294, -0.2782,  0.0446, -0.3867, -0.3955,  0.4203,  0.7009,\n",
      "          0.3356,  0.3799, -0.0280, -0.3232, -0.6769,  0.0238,  0.2320, -0.0439,\n",
      "          0.3813, -0.0608, -0.1320,  0.0782],\n",
      "        [ 0.2014,  0.0112, -0.2390, -0.2801,  0.1368,  0.2170,  0.2230,  0.4712,\n",
      "          0.5739,  0.2955,  0.0103, -0.1626, -0.5595, -0.2013,  0.3525, -0.2189,\n",
      "          0.4054, -0.2939, -0.0748,  0.1193],\n",
      "        [ 0.0334, -0.0727, -0.0776,  0.0452,  0.1756, -0.1047,  0.2135,  0.5732,\n",
      "          0.4895,  0.3364,  0.1317, -0.1718, -0.6371, -0.0717,  0.1173, -0.1712,\n",
      "         -0.0803, -0.2407, -0.1719,  0.1489]], grad_fn=<AddmmBackward0>)\n",
      "\n",
      "\n",
      "After ReLU: tensor([[0.2871, 0.0000, 0.0000, 0.0446, 0.0000, 0.0000, 0.4203, 0.7009, 0.3356,\n",
      "         0.3799, 0.0000, 0.0000, 0.0000, 0.0238, 0.2320, 0.0000, 0.3813, 0.0000,\n",
      "         0.0000, 0.0782],\n",
      "        [0.2014, 0.0112, 0.0000, 0.0000, 0.1368, 0.2170, 0.2230, 0.4712, 0.5739,\n",
      "         0.2955, 0.0103, 0.0000, 0.0000, 0.0000, 0.3525, 0.0000, 0.4054, 0.0000,\n",
      "         0.0000, 0.1193],\n",
      "        [0.0334, 0.0000, 0.0000, 0.0452, 0.1756, 0.0000, 0.2135, 0.5732, 0.4895,\n",
      "         0.3364, 0.1317, 0.0000, 0.0000, 0.0000, 0.1173, 0.0000, 0.0000, 0.0000,\n",
      "         0.0000, 0.1489]], grad_fn=<ReluBackward0>)\n"
     ]
    }
   ],
   "execution_count": 12
  },
  {
   "metadata": {
    "ExecuteTime": {
     "end_time": "2025-06-15T01:11:33.804305Z",
     "start_time": "2025-06-15T01:11:33.801759Z"
    }
   },
   "cell_type": "code",
   "source": [
    "seq_modules = nn.Sequential(\n",
    "    flatten,\n",
    "    layer1,\n",
    "    nn.ReLU(),\n",
    "    nn.Linear(in_features=20, out_features=10)\n",
    ")\n",
    "\n",
    "input_image = torch.rand(3, 28, 28)\n",
    "logits = seq_modules(input_image)"
   ],
   "id": "e17815be0e34008a",
   "outputs": [],
   "execution_count": 13
  },
  {
   "metadata": {
    "ExecuteTime": {
     "end_time": "2025-06-15T01:11:55.216055Z",
     "start_time": "2025-06-15T01:11:55.210210Z"
    }
   },
   "cell_type": "code",
   "source": [
    "softmax = nn.Softmax(dim=1)\n",
    "pred_probab = softmax(logits)"
   ],
   "id": "affaa85a4700180f",
   "outputs": [],
   "execution_count": 14
  },
  {
   "metadata": {
    "ExecuteTime": {
     "end_time": "2025-06-15T01:13:23.007165Z",
     "start_time": "2025-06-15T01:13:22.957536Z"
    }
   },
   "cell_type": "code",
   "source": [
    "print(f'Model structure: {model}\\n\\n')\n",
    "\n",
    "for name, param in model.named_parameters():\n",
    "    print(f'Layer: {name} | Size: {param.size()} | Values: {param[:2]}\\n')"
   ],
   "id": "860a59147f8cbc37",
   "outputs": [
    {
     "name": "stdout",
     "output_type": "stream",
     "text": [
      "Model structure: NeuralNetwork(\n",
      "  (flatten): Flatten(start_dim=1, end_dim=-1)\n",
      "  (linear_relu_stack): Sequential(\n",
      "    (0): Linear(in_features=784, out_features=512, bias=True)\n",
      "    (1): ReLU()\n",
      "    (2): Linear(in_features=512, out_features=512, bias=True)\n",
      "    (3): ReLU()\n",
      "    (4): Linear(in_features=512, out_features=10, bias=True)\n",
      "  )\n",
      ")\n",
      "\n",
      "\n",
      "Layer: linear_relu_stack.0.weight | Size: torch.Size([512, 784]) | Values: tensor([[ 0.0110,  0.0232,  0.0284,  ..., -0.0043,  0.0176,  0.0046],\n",
      "        [-0.0262,  0.0010,  0.0312,  ...,  0.0332,  0.0230,  0.0178]],\n",
      "       grad_fn=<SliceBackward0>)\n",
      "\n",
      "Layer: linear_relu_stack.0.bias | Size: torch.Size([512]) | Values: tensor([ 0.0355, -0.0200], grad_fn=<SliceBackward0>)\n",
      "\n",
      "Layer: linear_relu_stack.2.weight | Size: torch.Size([512, 512]) | Values: tensor([[ 0.0419,  0.0260,  0.0200,  ...,  0.0351, -0.0377,  0.0340],\n",
      "        [-0.0289,  0.0221,  0.0286,  ..., -0.0377,  0.0119,  0.0069]],\n",
      "       grad_fn=<SliceBackward0>)\n",
      "\n",
      "Layer: linear_relu_stack.2.bias | Size: torch.Size([512]) | Values: tensor([-0.0415,  0.0216], grad_fn=<SliceBackward0>)\n",
      "\n",
      "Layer: linear_relu_stack.4.weight | Size: torch.Size([10, 512]) | Values: tensor([[-0.0027, -0.0196,  0.0140,  ...,  0.0289,  0.0042, -0.0338],\n",
      "        [ 0.0094, -0.0428,  0.0327,  ...,  0.0312,  0.0138, -0.0001]],\n",
      "       grad_fn=<SliceBackward0>)\n",
      "\n",
      "Layer: linear_relu_stack.4.bias | Size: torch.Size([10]) | Values: tensor([-0.0279, -0.0178], grad_fn=<SliceBackward0>)\n",
      "\n"
     ]
    }
   ],
   "execution_count": 15
  },
  {
   "metadata": {},
   "cell_type": "code",
   "outputs": [],
   "execution_count": null,
   "source": "",
   "id": "c327bf8c3e9ff12f"
  }
 ],
 "metadata": {
  "kernelspec": {
   "display_name": "Python 3",
   "language": "python",
   "name": "python3"
  },
  "language_info": {
   "codemirror_mode": {
    "name": "ipython",
    "version": 2
   },
   "file_extension": ".py",
   "mimetype": "text/x-python",
   "name": "python",
   "nbconvert_exporter": "python",
   "pygments_lexer": "ipython2",
   "version": "2.7.6"
  }
 },
 "nbformat": 4,
 "nbformat_minor": 5
}
